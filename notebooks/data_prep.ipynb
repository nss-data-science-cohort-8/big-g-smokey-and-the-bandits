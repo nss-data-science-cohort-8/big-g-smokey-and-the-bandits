{
 "cells": [
  {
   "cell_type": "markdown",
   "metadata": {},
   "source": [
    "---\n",
    "jupyter:\n",
    "  jupytext:\n",
    "    text_representation:\n",
    "      extension: .qmd\n",
    "      format_name: quarto\n",
    "      format_version: '1.0'\n",
    "      jupytext_version: 1.17.1\n",
    "  kernelspec:\n",
    "    display_name: Big-G Express\n",
    "    language: python\n",
    "    name: big-g\n",
    "---"
   ]
  },
  {
   "cell_type": "code",
   "execution_count": 2,
   "metadata": {},
   "outputs": [],
   "source": [
    "import pandas as pd\n",
    "import geopandas as gpd\n",
    "from datetime import datetime"
   ]
  },
  {
   "cell_type": "code",
   "execution_count": 3,
   "metadata": {},
   "outputs": [],
   "source": [
    "faults_raw = pd.read_csv(\"../data/J1939Faults.csv\", dtype={\"EquipmentID\": str, 'spn':int})\n",
    "diagnostics_raw = pd.read_csv(\"../data/vehiclediagnosticonboarddata.csv\")"
   ]
  },
  {
   "cell_type": "code",
   "execution_count": 4,
   "metadata": {},
   "outputs": [
    {
     "name": "stdout",
     "output_type": "stream",
     "text": [
      "\n",
      "\n",
      "--------SHAPE OF FAULTS--------\n"
     ]
    },
    {
     "data": {
      "text/plain": [
       "(1187335, 10)"
      ]
     },
     "metadata": {},
     "output_type": "display_data"
    }
   ],
   "source": [
    "# prepare faults\n",
    "faults_drop_cols = [\"actionDescription\", \"activeTransitionCount\", \"eventDescription\", \"ecuSource\", \"ecuSoftwareVersion\", \"ecuModel\", \"ecuMake\", \"faultValue\", \"MCTNumber\", \"LocationTimeStamp\"]\n",
    "faults = faults_raw.drop(columns=faults_drop_cols)\n",
    "print(\"\\n\\n--------SHAPE OF FAULTS--------\")\n",
    "display(faults.shape)"
   ]
  },
  {
   "cell_type": "code",
   "execution_count": 5,
   "metadata": {},
   "outputs": [
    {
     "name": "stdout",
     "output_type": "stream",
     "text": [
      "--------NaNs--------\n",
      "Id         0\n",
      "Name       0\n",
      "Value      0\n",
      "FaultId    0\n",
      "dtype: int64\n",
      "\n",
      "len(Id): 12821626 \n",
      "N unique_Id: 12821626\n",
      "\n",
      "--------RECORD ID vs FAULT ID--------\n",
      "n_unique FaultID: 1187335 \n",
      "n_unique RecordID: 1187335\n"
     ]
    }
   ],
   "source": [
    "# join diagnostics\n",
    "print(\"--------NaNs--------\")\n",
    "print(diagnostics_raw.isna().sum())\n",
    "n_ids = len(diagnostics_raw['Id'])\n",
    "n_unique_id = diagnostics_raw['Id'].nunique()\n",
    "n_un_faults = diagnostics_raw['FaultId'].nunique()\n",
    "diagnostics_raw[\"Value\"] = diagnostics_raw[\"Value\"].replace(\n",
    "    {\"FALSE\": False, \"TRUE\": True}\n",
    ")\n",
    "\n",
    "# pivot diagnostics to long format\n",
    "diagnostics = diagnostics_raw.pivot(\n",
    "    index=\"FaultId\", columns=\"Name\", values=\"Value\"\n",
    ")\n",
    "\n",
    "print(f\"\\nlen(Id): {n_ids}\", f\"\\nN unique_Id: {n_unique_id}\")\n",
    "print(\"\\n--------RECORD ID vs FAULT ID--------\")\n",
    "print(f\"n_unique FaultID: {n_un_faults}\", f\"\\nn_unique RecordID: {faults['RecordID'].nunique()}\")\n",
    "joined = faults.merge(diagnostics, how = \"inner\", left_on='RecordID', right_on='FaultId')"
   ]
  },
  {
   "cell_type": "code",
   "execution_count": 6,
   "metadata": {},
   "outputs": [
    {
     "name": "stdout",
     "output_type": "stream",
     "text": [
      "Labeling faults near service stations...\n",
      "\n",
      "Done! \n",
      "Faults within 1km of service station labeled in 'joined'.\n",
      "When filtered, this removes 129284 rows\n",
      "\n",
      "Number of rows after filtering active=False out: 608454\n",
      "Rows removed: 578881\n"
     ]
    }
   ],
   "source": [
    "joined_pre_station_filter = joined\n",
    "# filter out near service stations\n",
    "joined_pre_station_filter = joined\n",
    "print(\"Labeling faults near service stations...\")\n",
    "stations = pd.DataFrame(\n",
    "    {\n",
    "        \"lat\": [36.0666667, 35.5883333, 36.1950],\n",
    "        \"lon\": [-86.4347222, -86.4438888, -83.174722],\n",
    "    }\n",
    ")\n",
    "threshold_miles = 0.5\n",
    "threshold_meters = threshold_miles * 1609.34\n",
    "# create geodataframes with geopandas\n",
    "gdf_joined = gpd.GeoDataFrame(\n",
    "    joined,\n",
    "    geometry=gpd.points_from_xy(joined.Latitude, joined.Longitude),\n",
    "    crs=\"EPSG:4326\",  # WGS84 coord ref sys (lat/lon)\n",
    ")\n",
    "gdf_stations = gpd.GeoDataFrame(\n",
    "    stations,\n",
    "    geometry=gpd.points_from_xy(stations.lat, stations.lon),\n",
    "    crs=\"EPSG:4326\",\n",
    ")\n",
    "target_crs = \"EPSG:9311\"\n",
    "# reproject onto new crs for better distance measurement\n",
    "gdf_joined_proj = gdf_joined.to_crs(target_crs)\n",
    "gdf_stations_proj = gdf_stations.to_crs(target_crs)\n",
    "# create buffers around stations\n",
    "station_buf = gdf_stations_proj.geometry.buffer(threshold_meters)\n",
    "combined_buffer = (\n",
    "    station_buf.union_all()\n",
    ")  # turns into single geometry which helps with efficiency\n",
    "is_within = gdf_joined_proj.geometry.within(combined_buffer)\n",
    "joined[\"nearStation\"] = is_within.values\n",
    "joined_post_filter = joined[~joined[\"nearStation\"]]\n",
    "print(\"\\nDone! \\nFaults within 1km of service station labeled in 'joined'.\")\n",
    "print(\n",
    "    f\"When filtered, this removes {len(joined_pre_station_filter['RecordID']) - len(joined_post_filter['RecordID'])} rows\"\n",
    ")\n",
    "# filter out active=False\n",
    "joined_active = joined[joined[\"active\"]]\n",
    "joined = joined_active\n",
    "print(\n",
    "    f\"\\nNumber of rows after filtering active=False out: {len(joined_active['active'])}\"\n",
    ")\n",
    "print(\n",
    "    f\"Rows removed: {len(joined_pre_station_filter['RecordID']) - len(joined_active['active'])}\"\n",
    ")"
   ]
  },
  {
   "cell_type": "code",
   "execution_count": 7,
   "metadata": {},
   "outputs": [
    {
     "name": "stderr",
     "output_type": "stream",
     "text": [
      "/var/folders/1c/yvl84p5d2rv0n8dkqqjgmkdm0000gn/T/ipykernel_26516/1830182156.py:4: SettingWithCopyWarning: \n",
      "A value is trying to be set on a copy of a slice from a DataFrame.\n",
      "Try using .loc[row_indexer,col_indexer] = value instead\n",
      "\n",
      "See the caveats in the documentation: https://pandas.pydata.org/pandas-docs/stable/user_guide/indexing.html#returning-a-view-versus-a-copy\n",
      "  joined[\"EventTimeStamp\"] = pd.to_datetime(joined[\"EventTimeStamp\"])\n"
     ]
    },
    {
     "name": "stdout",
     "output_type": "stream",
     "text": [
      "Sorting data by EquipmentID and EventTimeStamp...\n",
      "Sorting complete.\n",
      "Calculating next trigger time...\n",
      "Labeling derate window...\n",
      "\n",
      "Verification:\n",
      "Value counts for 'derate_window':\n",
      " derate_window\n",
      "False    607254\n",
      "True       1200\n",
      "Name: count, dtype: int64\n",
      "\n",
      "Value counts for 'spn' (to confirm target SPN exists):\n",
      " spn\n",
      "111      183752\n",
      "929      128777\n",
      "96        48062\n",
      "829       46179\n",
      "639       20640\n",
      "          ...  \n",
      "703           1\n",
      "707           1\n",
      "5395          1\n",
      "32000         1\n",
      "1265          1\n",
      "Name: count, Length: 450, dtype: int64\n",
      "\n",
      "Sample rows where derate_window is True:\n",
      "       EquipmentID      EventTimeStamp   spn   next_trigger_time\n",
      "996835   105349576 2018-07-06 09:42:48  5246 2018-07-06 09:42:48\n",
      "156408   105360462 2015-08-10 10:26:40  1569 2015-08-10 10:26:40\n",
      "156409   105360462 2015-08-10 10:26:40  3360 2015-08-10 10:26:40\n",
      "156410   105360462 2015-08-10 10:26:40  5246 2015-08-10 10:26:40\n",
      "185581   105411041 2015-08-31 13:50:42  5246 2015-08-31 13:50:42\n",
      "\n",
      "Sample data around trigger for EquipmentID: 105349576\n",
      "       EquipmentID      EventTimeStamp   spn   next_trigger_time  \\\n",
      "996835   105349576 2018-07-06 09:42:48  5246 2018-07-06 09:42:48   \n",
      "\n",
      "         window_start_time  derate_window  \n",
      "996835 2018-07-06 07:42:48           True  \n"
     ]
    }
   ],
   "source": [
    "target_spn = 5246\n",
    "\n",
    "# Ensure EventTimeStamp is datetime\n",
    "joined[\"EventTimeStamp\"] = pd.to_datetime(joined[\"EventTimeStamp\"])\n",
    "\n",
    "# --- SORTING STEP ---\n",
    "# Sort by EquipmentID and then chronologically by EventTimeStamp\n",
    "print(\"Sorting data by EquipmentID and EventTimeStamp...\")\n",
    "joined = joined.sort_values(by=[\"EquipmentID\", \"EventTimeStamp\"]).copy()\n",
    "print(\"Sorting complete.\")\n",
    "\n",
    "# Create a Series containing only the timestamps of trigger events\n",
    "trigger_timestamps_only = joined[\"EventTimeStamp\"].where(joined[\"spn\"] == target_spn)\n",
    "\n",
    "# For each row, find the timestamp of the *next* trigger event within its group\n",
    "# Group by EquipmentID and use backward fill (bfill)\n",
    "# This fills NaT values with the next valid timestamp in the group\n",
    "print(\"Calculating next trigger time...\")\n",
    "joined[\"next_trigger_time\"] = trigger_timestamps_only.groupby(\n",
    "    joined[\"EquipmentID\"]\n",
    ").bfill()\n",
    "\n",
    "# Calculate the start of the 2-hour window before the next trigger\n",
    "joined[\"window_start_time\"] = joined[\"next_trigger_time\"] - pd.Timedelta(hours=2.0)\n",
    "\n",
    "# Label rows as True if their timestamp falls within the window:\n",
    "#    [wind`ow_start_time, next_trigger_time]\n",
    "#    Also ensure that a next_trigger_time actually exists (it's not NaT)\n",
    "print(\"Labeling derate window...\")\n",
    "joined[\"derate_window\"] = (\n",
    "    (joined[\"EventTimeStamp\"] >= joined[\"window_start_time\"])\n",
    "    & (joined[\"EventTimeStamp\"] <= joined[\"next_trigger_time\"])\n",
    "    & (joined[\"next_trigger_time\"].notna())\n",
    ")\n",
    "\n",
    "# --- Verification ---\n",
    "print(\"\\nVerification:\")\n",
    "print(\n",
    "    \"Value counts for 'derate_window':\\n\",\n",
    "    joined[\"derate_window\"].value_counts(),\n",
    ")\n",
    "print(\n",
    "    \"\\nValue counts for 'spn' (to confirm target SPN exists):\\n\",\n",
    "    joined[\"spn\"].value_counts(),\n",
    ")\n",
    "\n",
    "# Display some rows where derate_window is True (if any)\n",
    "print(\"\\nSample rows where derate_window is True:\")\n",
    "print(\n",
    "    joined[joined[\"derate_window\"]][\n",
    "        [\"EquipmentID\", \"EventTimeStamp\", \"spn\", \"next_trigger_time\"]\n",
    "    ].head()\n",
    ")\n",
    "\n",
    "# Display some rows around a trigger event for a specific EquipmentID\n",
    "# Find an EquipmentID that has a trigger event\n",
    "example_eqid = joined.loc[joined[\"spn\"] == target_spn, \"EquipmentID\"].iloc[0]\n",
    "print(f\"\\nSample data around trigger for EquipmentID: {example_eqid}\")\n",
    "example_trigger_time = joined.loc[\n",
    "    (joined[\"EquipmentID\"] == example_eqid) & (joined[\"spn\"] == target_spn),\n",
    "    \"EventTimeStamp\",\n",
    "].min()\n",
    "# Filter data around that time for that equipment\n",
    "print(\n",
    "    joined[\n",
    "        (joined[\"EquipmentID\"] == example_eqid)\n",
    "        & (joined[\"EventTimeStamp\"] >= (example_trigger_time - pd.Timedelta(hours=3)))\n",
    "        & (joined[\"EventTimeStamp\"] <= (example_trigger_time + pd.Timedelta(hours=1)))\n",
    "    ][\n",
    "        [\n",
    "            \"EquipmentID\",\n",
    "            \"EventTimeStamp\",\n",
    "            \"spn\",\n",
    "            \"next_trigger_time\",\n",
    "            \"window_start_time\",\n",
    "            \"derate_window\",\n",
    "        ]\n",
    "    ]\n",
    ")\n",
    "\n",
    "joined = joined.drop(columns=['next_trigger_time', 'window_start_time', 'CruiseControlActive', 'AcceleratorPedal', 'DistanceLtd', 'FuelLevel', 'ParkingBrake', 'SwitchedBatteryVoltage', 'RecordID', 'ESS_Id', 'ecuSerialNumber', 'CruiseControlSetSpeed', \"IgnStatus\", 'LampStatus',    \"IntakeManifoldTemperature\",\n",
    "    \"ServiceDistance\",])"
   ]
  },
  {
   "cell_type": "code",
   "execution_count": 8,
   "metadata": {},
   "outputs": [
    {
     "name": "stdout",
     "output_type": "stream",
     "text": [
      "1008925            NaN\n",
      "985277             NaN\n",
      "985237          3221.0\n",
      "985170          5617.0\n",
      "985179     233898893.0\n",
      "              ...     \n",
      "1157136          478.0\n",
      "4245               NaN\n",
      "4427            6371.0\n",
      "6438          164454.0\n",
      "4952               NaN\n",
      "Name: time_since_last_fault, Length: 608454, dtype: float64\n"
     ]
    }
   ],
   "source": [
    "# some feature engineering:\n",
    "joined['time_since_last_fault'] = joined.groupby('EquipmentID')['EventTimeStamp'].diff().dt.total_seconds().astype(float)\n",
    "print(joined['time_since_last_fault'])\n",
    "joined['fault_frequency'] = joined.groupby('EquipmentID')['spn'].transform('count')"
   ]
  },
  {
   "cell_type": "code",
   "execution_count": 9,
   "metadata": {},
   "outputs": [
    {
     "data": {
      "text/plain": [
       "Index(['EquipmentID', 'EventTimeStamp', 'spn', 'fmi', 'active',\n",
       "       'derate_window', 'time_since_last_fault', 'fault_frequency', 'Latitude',\n",
       "       'Longitude', 'nearStation', 'Speed', 'BarometricPressure',\n",
       "       'EngineCoolantTemperature', 'EngineLoad', 'EngineOilPressure',\n",
       "       'EngineOilTemperature', 'EngineRpm', 'EngineTimeLtd', 'FuelLtd',\n",
       "       'FuelRate', 'FuelTemperature', 'Throttle', 'TurboBoostPressure'],\n",
       "      dtype='object')"
      ]
     },
     "execution_count": 9,
     "metadata": {},
     "output_type": "execute_result"
    }
   ],
   "source": [
    "col_order = [\n",
    "    \"EquipmentID\",\n",
    "    \"EventTimeStamp\",\n",
    "    \"spn\",\n",
    "    \"fmi\",\n",
    "    \"active\",\n",
    "    \"derate_window\",\n",
    "    \"time_since_last_fault\",\n",
    "    \"fault_frequency\",\n",
    "    \"Latitude\",\n",
    "    \"Longitude\",\n",
    "    \"nearStation\",\n",
    "    \"Speed\",\n",
    "    \"BarometricPressure\",\n",
    "    \"EngineCoolantTemperature\",\n",
    "    \"EngineLoad\",\n",
    "    \"EngineOilPressure\",\n",
    "    \"EngineOilTemperature\",\n",
    "    \"EngineRpm\",\n",
    "    \"EngineTimeLtd\",\n",
    "    \"FuelLtd\",\n",
    "    \"FuelRate\",\n",
    "    \"FuelTemperature\",\n",
    "    \"Throttle\",\n",
    "    \"TurboBoostPressure\",\n",
    "]\n",
    "joined = joined[col_order]\n",
    "joined.columns"
   ]
  },
  {
   "cell_type": "code",
   "execution_count": 10,
   "metadata": {},
   "outputs": [
    {
     "data": {
      "text/plain": [
       "EquipmentID                         object\n",
       "EventTimeStamp              datetime64[ns]\n",
       "spn                                  int64\n",
       "fmi                                  int64\n",
       "active                                bool\n",
       "derate_window                         bool\n",
       "time_since_last_fault              float64\n",
       "fault_frequency                      int64\n",
       "Latitude                           float64\n",
       "Longitude                          float64\n",
       "nearStation                           bool\n",
       "Speed                               object\n",
       "BarometricPressure                  object\n",
       "EngineCoolantTemperature            object\n",
       "EngineLoad                          object\n",
       "EngineOilPressure                   object\n",
       "EngineOilTemperature                object\n",
       "EngineRpm                           object\n",
       "EngineTimeLtd                       object\n",
       "FuelLtd                             object\n",
       "FuelRate                            object\n",
       "FuelTemperature                     object\n",
       "Throttle                            object\n",
       "TurboBoostPressure                  object\n",
       "dtype: object"
      ]
     },
     "metadata": {},
     "output_type": "display_data"
    }
   ],
   "source": [
    "display(joined.dtypes)"
   ]
  },
  {
   "cell_type": "code",
   "execution_count": 11,
   "metadata": {},
   "outputs": [],
   "source": [
    "comma_sub_cols = [\n",
    "    'Speed',\n",
    "'BarometricPressure',\n",
    "'EngineCoolantTemperature',\n",
    "'EngineLoad',\n",
    "'EngineOilPressure',\n",
    "'EngineOilTemperature',\n",
    "'EngineRpm',\n",
    "'FuelRate',\n",
    "'FuelTemperature',\n",
    "'Throttle',\n",
    "'TurboBoostPressure',\n",
    "'EngineTimeLtd',\n",
    "'FuelLtd'\n",
    "]\n",
    "\n",
    "for col in comma_sub_cols:\n",
    "    joined[col] = joined[col].str.replace(',', '.', regex=True)\n"
   ]
  },
  {
   "cell_type": "code",
   "execution_count": 12,
   "metadata": {},
   "outputs": [],
   "source": [
    "dtypes = {\n",
    "    'EquipmentID':object,\n",
    "'EventTimeStamp':'datetime64[ns]',\n",
    "'spn':int,\n",
    "'fmi':int,\n",
    "'active':bool,\n",
    "'derate_window':bool,\n",
    "'time_since_last_fault':float,\n",
    "'fault_frequency':int,\n",
    "'Latitude':float,\n",
    "'Longitude':float,\n",
    "'nearStation':bool,\n",
    "'Speed':float,\n",
    "'BarometricPressure':float,\n",
    "'EngineCoolantTemperature':float,\n",
    "'EngineLoad':float,\n",
    "'EngineOilPressure':float,\n",
    "'EngineOilTemperature':float,\n",
    "'EngineRpm':float,\n",
    "'EngineTimeLtd':float,\n",
    "'FuelLtd':float,\n",
    "'FuelRate':float,\n",
    "'FuelTemperature':float,\n",
    "'Throttle':float,\n",
    "'TurboBoostPressure':float,\n",
    "}\n",
    "joined = joined.astype(dtype=dtypes)"
   ]
  },
  {
   "cell_type": "code",
   "execution_count": 13,
   "metadata": {},
   "outputs": [
    {
     "name": "stdout",
     "output_type": "stream",
     "text": [
      "EquipmentID                         object\n",
      "EventTimeStamp              datetime64[ns]\n",
      "spn                                  int64\n",
      "fmi                                  int64\n",
      "active                               int64\n",
      "derate_window                        int64\n",
      "time_since_last_fault              float64\n",
      "fault_frequency                      int64\n",
      "Latitude                           float64\n",
      "Longitude                          float64\n",
      "nearStation                          int64\n",
      "Speed                              float64\n",
      "BarometricPressure                 float64\n",
      "EngineCoolantTemperature           float64\n",
      "EngineLoad                         float64\n",
      "EngineOilPressure                  float64\n",
      "EngineOilTemperature               float64\n",
      "EngineRpm                          float64\n",
      "EngineTimeLtd                      float64\n",
      "FuelLtd                            float64\n",
      "FuelRate                           float64\n",
      "FuelTemperature                    float64\n",
      "Throttle                           float64\n",
      "TurboBoostPressure                 float64\n",
      "dtype: object\n"
     ]
    }
   ],
   "source": [
    "for col in joined.columns:\n",
    "    if joined[col].dtype == 'bool':\n",
    "        joined[col] = joined[col].astype(int)\n",
    "print(joined.dtypes)"
   ]
  },
  {
   "cell_type": "markdown",
   "metadata": {},
   "source": [
    "EquipmentID and EventTimeStamp will ultimately be dropped before being run through the model, they're just our grouping variables mostly. "
   ]
  },
  {
   "cell_type": "code",
   "execution_count": 14,
   "metadata": {},
   "outputs": [
    {
     "name": "stdout",
     "output_type": "stream",
     "text": [
      "EquipmentID                      0\n",
      "EventTimeStamp                   0\n",
      "spn                              0\n",
      "fmi                              0\n",
      "active                           0\n",
      "derate_window                    0\n",
      "time_since_last_fault         1108\n",
      "fault_frequency                  0\n",
      "Latitude                         0\n",
      "Longitude                        0\n",
      "nearStation                      0\n",
      "Speed                        24538\n",
      "BarometricPressure           22478\n",
      "EngineCoolantTemperature     22383\n",
      "EngineLoad                   22833\n",
      "EngineOilPressure            22210\n",
      "EngineOilTemperature         24542\n",
      "EngineRpm                    21533\n",
      "EngineTimeLtd                27088\n",
      "FuelLtd                      23259\n",
      "FuelRate                     23217\n",
      "FuelTemperature             309344\n",
      "Throttle                    187951\n",
      "TurboBoostPressure           25103\n",
      "dtype: int64\n",
      "Throttle\n",
      "100.0    286284\n",
      "0.0      113423\n",
      "38.4        226\n",
      "38.8        226\n",
      "37.6        225\n",
      "          ...  \n",
      "82.4         17\n",
      "87.2         16\n",
      "87.6         16\n",
      "84.4         16\n",
      "88.0         13\n",
      "Name: count, Length: 251, dtype: int64\n"
     ]
    }
   ],
   "source": [
    "print(joined.isna().sum())\n",
    "print(joined['Throttle'].value_counts())"
   ]
  },
  {
   "cell_type": "code",
   "execution_count": 15,
   "metadata": {},
   "outputs": [],
   "source": [
    "for col in joined.columns:\n",
    "    if joined[col].dtype == 'int64' or joined[col].dtype == 'float64':\n",
    "        joined[col] = joined[col].bfill().ffill()"
   ]
  },
  {
   "cell_type": "code",
   "execution_count": 16,
   "metadata": {},
   "outputs": [
    {
     "name": "stdout",
     "output_type": "stream",
     "text": [
      "EquipmentID                 0\n",
      "EventTimeStamp              0\n",
      "spn                         0\n",
      "fmi                         0\n",
      "active                      0\n",
      "derate_window               0\n",
      "time_since_last_fault       0\n",
      "fault_frequency             0\n",
      "Latitude                    0\n",
      "Longitude                   0\n",
      "nearStation                 0\n",
      "Speed                       0\n",
      "BarometricPressure          0\n",
      "EngineCoolantTemperature    0\n",
      "EngineLoad                  0\n",
      "EngineOilPressure           0\n",
      "EngineOilTemperature        0\n",
      "EngineRpm                   0\n",
      "EngineTimeLtd               0\n",
      "FuelLtd                     0\n",
      "FuelRate                    0\n",
      "FuelTemperature             0\n",
      "Throttle                    0\n",
      "TurboBoostPressure          0\n",
      "dtype: int64\n"
     ]
    }
   ],
   "source": [
    "print(joined.isna().sum())"
   ]
  },
  {
   "cell_type": "code",
   "execution_count": 17,
   "metadata": {},
   "outputs": [],
   "source": [
    "joined.to_csv('../data/window_2p0_model_data.csv')"
   ]
  }
 ],
 "metadata": {
  "kernelspec": {
   "display_name": "Python (myenv)",
   "language": "python",
   "name": "big-g"
  },
  "language_info": {
   "name": "python"
  }
 },
 "nbformat": 4,
 "nbformat_minor": 2
}
