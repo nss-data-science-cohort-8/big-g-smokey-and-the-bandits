{
 "cells": [
  {
   "cell_type": "code",
   "execution_count": 1,
   "id": "701c5851",
   "metadata": {},
   "outputs": [],
   "source": [
    "import pandas as pd"
   ]
  },
  {
   "cell_type": "code",
   "execution_count": 2,
   "id": "5470d310",
   "metadata": {},
   "outputs": [],
   "source": [
    "faults = pd.read_csv(\"../data/J1939Faults.csv\", nrows = 100)\n",
    "diagnostics = pd.read_csv(\"../data/VehicleDiagnosticOnboardData.csv\", nrows = 100)"
   ]
  },
  {
   "cell_type": "code",
   "execution_count": 3,
   "id": "996351fa-5e70-4180-ae2c-957e9a59c3b3",
   "metadata": {},
   "outputs": [],
   "source": [
    "faults_diagnostics = pd.merge(faults, diagnostics, \n",
    "                              left_on='RecordID', right_on='FaultId', \n",
    "                              how='left')"
   ]
  },
  {
   "cell_type": "code",
   "execution_count": 4,
   "id": "8f124f04-b34e-4699-a2d9-ca431243d8dd",
   "metadata": {},
   "outputs": [],
   "source": [
    "drop_list = ['ESS_Id', \n",
    "             'actionDescription', \n",
    "             'ecuSoftwareVersion', \n",
    "             'ecuSerialNumber', \n",
    "             'ecuModel', \n",
    "             'ecuMake', \n",
    "             'ecuSource', \n",
    "             'faultValue',\n",
    "             'Latitude',\n",
    "             'LocationTimeStamp',\n",
    "             'Longitude',\n",
    "             'Id',\n",
    "             'MCTNumber']\n",
    "\n",
    "faults_diagnostics = faults_diagnostics.drop(columns=drop_list)"
   ]
  },
  {
   "cell_type": "code",
   "execution_count": 19,
   "id": "be75ff20-285e-4751-b21d-9ab5558f4ac7",
   "metadata": {},
   "outputs": [
    {
     "data": {
      "text/html": [
       "<div>\n",
       "<style scoped>\n",
       "    .dataframe tbody tr th:only-of-type {\n",
       "        vertical-align: middle;\n",
       "    }\n",
       "\n",
       "    .dataframe tbody tr th {\n",
       "        vertical-align: top;\n",
       "    }\n",
       "\n",
       "    .dataframe thead th {\n",
       "        text-align: right;\n",
       "    }\n",
       "</style>\n",
       "<table border=\"1\" class=\"dataframe\">\n",
       "  <thead>\n",
       "    <tr style=\"text-align: right;\">\n",
       "      <th></th>\n",
       "      <th>RecordID</th>\n",
       "      <th>EventTimeStamp</th>\n",
       "      <th>eventDescription</th>\n",
       "      <th>spn</th>\n",
       "      <th>fmi</th>\n",
       "      <th>active</th>\n",
       "      <th>activeTransitionCount</th>\n",
       "      <th>EquipmentID</th>\n",
       "      <th>Name</th>\n",
       "      <th>Value</th>\n",
       "      <th>FaultId</th>\n",
       "    </tr>\n",
       "  </thead>\n",
       "  <tbody>\n",
       "    <tr>\n",
       "      <th>1</th>\n",
       "      <td>1</td>\n",
       "      <td>2015-02-21 10:47:13.000</td>\n",
       "      <td>Low (Severity Low) Engine Coolant Level</td>\n",
       "      <td>111</td>\n",
       "      <td>17</td>\n",
       "      <td>True</td>\n",
       "      <td>2</td>\n",
       "      <td>1439</td>\n",
       "      <td>EngineOilPressure</td>\n",
       "      <td>0</td>\n",
       "      <td>1.0</td>\n",
       "    </tr>\n",
       "    <tr>\n",
       "      <th>2</th>\n",
       "      <td>1</td>\n",
       "      <td>2015-02-21 10:47:13.000</td>\n",
       "      <td>Low (Severity Low) Engine Coolant Level</td>\n",
       "      <td>111</td>\n",
       "      <td>17</td>\n",
       "      <td>True</td>\n",
       "      <td>2</td>\n",
       "      <td>1439</td>\n",
       "      <td>EngineOilTemperature</td>\n",
       "      <td>96.74375</td>\n",
       "      <td>1.0</td>\n",
       "    </tr>\n",
       "    <tr>\n",
       "      <th>3</th>\n",
       "      <td>1</td>\n",
       "      <td>2015-02-21 10:47:13.000</td>\n",
       "      <td>Low (Severity Low) Engine Coolant Level</td>\n",
       "      <td>111</td>\n",
       "      <td>17</td>\n",
       "      <td>True</td>\n",
       "      <td>2</td>\n",
       "      <td>1439</td>\n",
       "      <td>TurboBoostPressure</td>\n",
       "      <td>0</td>\n",
       "      <td>1.0</td>\n",
       "    </tr>\n",
       "  </tbody>\n",
       "</table>\n",
       "</div>"
      ],
      "text/plain": [
       "   RecordID           EventTimeStamp                         eventDescription  \\\n",
       "1         1  2015-02-21 10:47:13.000  Low (Severity Low) Engine Coolant Level   \n",
       "2         1  2015-02-21 10:47:13.000  Low (Severity Low) Engine Coolant Level   \n",
       "3         1  2015-02-21 10:47:13.000  Low (Severity Low) Engine Coolant Level   \n",
       "\n",
       "   spn  fmi  active  activeTransitionCount  EquipmentID                  Name  \\\n",
       "1  111   17    True                      2         1439     EngineOilPressure   \n",
       "2  111   17    True                      2         1439  EngineOilTemperature   \n",
       "3  111   17    True                      2         1439    TurboBoostPressure   \n",
       "\n",
       "      Value  FaultId  \n",
       "1         0      1.0  \n",
       "2  96.74375      1.0  \n",
       "3         0      1.0  "
      ]
     },
     "execution_count": 19,
     "metadata": {},
     "output_type": "execute_result"
    }
   ],
   "source": [
    "#var_filter = ['False']\n",
    "#filter = faults_diagnostics[faults_diagnostics['Value'] == var_filter]\n",
    "var_filter = ['False', 'True']\n",
    "filter = faults_diagnostics[~faults_diagnostics['Value'].isin(var_filter)]\n",
    "filter.head(3)"
   ]
  },
  {
   "cell_type": "code",
   "execution_count": 11,
   "id": "5bf9ca58-7b8c-4522-8fed-bfb52c9c333f",
   "metadata": {},
   "outputs": [
    {
     "data": {
      "text/plain": [
       "Value\n",
       "1023        10\n",
       "True         9\n",
       "0            8\n",
       "False        5\n",
       "3276.75      4\n",
       "            ..\n",
       "13.6022      1\n",
       "9480         1\n",
       "96.74375     1\n",
       "470381.4     1\n",
       "32           1\n",
       "Name: count, Length: 61, dtype: int64"
      ]
     },
     "execution_count": 11,
     "metadata": {},
     "output_type": "execute_result"
    }
   ],
   "source": [
    "faults_diagnostics['Value'].value_counts()"
   ]
  },
  {
   "cell_type": "code",
   "execution_count": null,
   "id": "2f7b530a-2bb8-485b-a427-a01f672da7c1",
   "metadata": {},
   "outputs": [],
   "source": [
    "filter.to_csv('equipmentID_1439.csv', index=False)"
   ]
  },
  {
   "cell_type": "code",
   "execution_count": null,
   "id": "6bfe1404",
   "metadata": {},
   "outputs": [],
   "source": [
    "faults.loc[0]"
   ]
  },
  {
   "cell_type": "markdown",
   "id": "92071a05",
   "metadata": {},
   "source": [
    "Looking at the first record, here is a breakdown of the important values.\n",
    "\n",
    "* ESS_Id, actionDescription, ecuSoftwareVersion, ecuSerialNumber, ecuModel, ecuMake, ecuSource, faultValue, and MCTNumber are unlikely to provide any predictive value.\n",
    "* We can see the time of the event in the **EventTimeStamp** column. Note that this may be different from the **LocationTimeStamp** value, which indicates when the Latitude/Longitude values were recorded.\n",
    "* The **spn** and **fmi** columns together indicate the type of fault, and there may be a description of that fault in the **eventDescription** column, although this column is sometimes missing.\n",
    "* Faults are recorded when the light goes on and when it goes off, which is indicated by the **active** column, with True indicating the light turning on and False indicating turning off. The number of times the code has been set or unset is in the **faultValue** column, although this value can be unreliable. \n",
    "* Each truck has an identifier, the **EquipmentID** value.\n",
    "* Each record can be linked to the on-board diagnostics data through the **RecordID** column."
   ]
  },
  {
   "cell_type": "code",
   "execution_count": null,
   "id": "4dc44ae4",
   "metadata": {},
   "outputs": [],
   "source": [
    "diagnostics.head()"
   ]
  },
  {
   "cell_type": "markdown",
   "id": "2f588701",
   "metadata": {},
   "source": [
    "To get the on-board diagnostics at the time of the fault code, we can match the **RecordID** to the **FaultId**."
   ]
  },
  {
   "cell_type": "code",
   "execution_count": null,
   "id": "139e4372",
   "metadata": {},
   "outputs": [],
   "source": [
    "diagnostics.loc[diagnostics['FaultId'] == 1]"
   ]
  },
  {
   "cell_type": "markdown",
   "id": "9b5a4d90",
   "metadata": {},
   "source": [
    "This data is in long-format, so each FaultId can have potentially many diagnostic values.\n",
    "\n",
    "**Note:** Not all diagnostic values are recorded for all faults, so you will have a large number of missing values.\n",
    "\n",
    "For example, for the second fault code in our dataset, only the ignition status and lamp status were recorded."
   ]
  },
  {
   "cell_type": "code",
   "execution_count": null,
   "id": "dce8254f",
   "metadata": {},
   "outputs": [],
   "source": [
    "diagnostics.loc[diagnostics['FaultId'] == 2]"
   ]
  },
  {
   "cell_type": "markdown",
   "id": "a34ac58f",
   "metadata": {},
   "source": [
    "Finally, we can get a little bit more information about the different fault codes from the Service Fault Codes spreadsheet."
   ]
  },
  {
   "cell_type": "code",
   "execution_count": null,
   "id": "e5869f6a",
   "metadata": {},
   "outputs": [],
   "source": [
    "sfc = pd.read_excel(\"../data/Service Fault Codes_1_0_0_167.xlsx\")\n",
    "sfc.head()"
   ]
  },
  {
   "cell_type": "markdown",
   "id": "ecc02be1",
   "metadata": {},
   "source": [
    "For a large number of fault codes, there are multiple records. For example, if we look at the rows for the first fault in our dataset, we see that there are two rows."
   ]
  },
  {
   "cell_type": "code",
   "execution_count": null,
   "id": "ebec921c",
   "metadata": {},
   "outputs": [],
   "source": [
    "(\n",
    "    sfc\n",
    "    .loc[sfc['SPN'] == 111]\n",
    "    .loc[sfc['J1939 FMI'] == 17]\n",
    ")"
   ]
  },
  {
   "cell_type": "markdown",
   "id": "8ebff1fb",
   "metadata": {},
   "source": [
    "Or even more."
   ]
  },
  {
   "cell_type": "code",
   "execution_count": null,
   "id": "096b93f4",
   "metadata": {},
   "outputs": [],
   "source": [
    "(\n",
    "    sfc\n",
    "    .loc[sfc['SPN'] == 629]\n",
    "    .loc[sfc['J1939 FMI'] == 12]\n",
    ")"
   ]
  },
  {
   "cell_type": "code",
   "execution_count": null,
   "id": "fd6cf59c-068b-42d5-bc25-1b8be55e296f",
   "metadata": {},
   "outputs": [],
   "source": []
  }
 ],
 "metadata": {
  "kernelspec": {
   "display_name": "Python 3 (ipykernel)",
   "language": "python",
   "name": "python3"
  },
  "language_info": {
   "codemirror_mode": {
    "name": "ipython",
    "version": 3
   },
   "file_extension": ".py",
   "mimetype": "text/x-python",
   "name": "python",
   "nbconvert_exporter": "python",
   "pygments_lexer": "ipython3",
   "version": "3.12.4"
  }
 },
 "nbformat": 4,
 "nbformat_minor": 5
}
