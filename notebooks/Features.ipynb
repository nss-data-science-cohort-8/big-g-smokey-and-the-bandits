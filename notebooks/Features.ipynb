{
 "cells": [
  {
   "cell_type": "markdown",
   "id": "3d926755-41ec-423b-8a21-ac06b527bb7a",
   "metadata": {},
   "source": [
    "# Big G Express: Predicting Derates\n",
    "In this project, you will be working with J1939 fault code data and vehicle onboard diagnostic data to try and predict an upcoming full derate. \n",
    "\n",
    "J1939 is a communications protocol used in heavy-duty vehicles (like trucks, buses, and construction equipment) to allow different electronic control units (ECUs), like the engine, transmission, and brake systems, to talk to each other. Fault codes in this system follow a standard format so that mechanics and diagnostic tools can understand what's wrong, no matter the make or model.\n",
    "\n",
    "These fault codes have two parts. First, an SPN (Suspect Parameter Number), which identifies what system or component is having the issue. Second, an FMI (Failure Mode Identifier), which explains how the system is failing (too high, too low, short circuit, etc.).\n",
    "\n",
    "A derate refers to the truck's computer intentionally reducing engine power or speed to protect itself or force the driver to get it serviced. This is a built-in safety measure. A full derate, the main target in this project, means the vehicle is severely limited, requiring a tow for repairs. Full derates are indicated by an SPN of 5246. \n",
    "\n",
    "You have been provided with a two files containing the data you will use to make these predictions (J1939Faults.csv and VehicleDiagnosticOnboardData.csv) as well as two files describing some of the contents (DataInfo.docx and Service Fault Codes_1_0_0_167.xlsx) \n",
    "\n",
    "Note that in its raw form the data does not have \"labels\", so you must define what labels you are going to use and create those labels in your dataset. Also, you will likely need to perform some significant feature engineering in order to build an accurate predictor.\n",
    "\n",
    "There are service locations at (36.0666667, -86.4347222), (35.5883333, -86.4438888), and (36.1950, -83.174722), so you should remove any records in the vicinity of these locations, as fault codes may be tripped when working on the vehicles.\n",
    "\n",
    "When evaluating the performance of your model, assume that the cost associated with a missed full derate is approximately $4000 in towing and repairs, and the cost of a false positive prediction is about $500 due to having the truck off the road and serviced unnecessarily. While high accuracy or F1 is nice, we are most interested here in saving the company money, so the final metric to evaulate your model should be the cost savings.\n",
    "\n",
    "**Project Timeline:**\n",
    "\n",
    "Thursday, May 8: Present preliminary findings to instructors.\n",
    "Tuesday, May 13: Present final findings to class.\n",
    "\n",
    "Your presentation should use slides, not code in a notebook. Your final presentation should include at least the following points:\n",
    "* What features did you use to predict? Report some of the more impactful features using some kind of feature importance metric.\n",
    "* If you had used the data prior to 2019 to train your model and had been using it from January 1, 2019 onwards, how many full derates would you have caught? How many false positives? What is the net savings or cost of using your model for that time span? Report your estimate here, even if the model would have been a net negative."
   ]
  },
  {
   "cell_type": "code",
   "execution_count": null,
   "id": "7da903c9-77d5-4d68-b22a-59b409274b4c",
   "metadata": {},
   "outputs": [],
   "source": [
    "#pip install geopy"
   ]
  },
  {
   "cell_type": "code",
   "execution_count": 2,
   "id": "2c9cdf06-e26c-40e7-a238-8a79c8518e9e",
   "metadata": {},
   "outputs": [],
   "source": [
    "import pandas as pd\n",
    "from geopy.distance import geodesic\n",
    "import numpy as np"
   ]
  },
  {
   "cell_type": "markdown",
   "id": "b31b60c2-3c06-465c-b3b9-04ed30633030",
   "metadata": {},
   "source": [
    "**Read in data**"
   ]
  },
  {
   "cell_type": "code",
   "execution_count": 4,
   "id": "4cbcd072-38d3-41ac-a170-49ee7f6d859a",
   "metadata": {},
   "outputs": [
    {
     "name": "stderr",
     "output_type": "stream",
     "text": [
      "C:\\Users\\jdavis\\AppData\\Local\\Temp\\ipykernel_29420\\1953169697.py:1: DtypeWarning: Columns (15) have mixed types. Specify dtype option on import or set low_memory=False.\n",
      "  faults = pd.read_csv(\"../data/J1939Faults.csv\")\n"
     ]
    }
   ],
   "source": [
    "faults = pd.read_csv(\"../data/J1939Faults.csv\")\n",
    "diagnostics = pd.read_csv(\"../data/VehicleDiagnosticOnboardData.csv\")"
   ]
  },
  {
   "cell_type": "code",
   "execution_count": 97,
   "id": "960f4950-8126-498c-ad43-736560fe93da",
   "metadata": {},
   "outputs": [
    {
     "name": "stdout",
     "output_type": "stream",
     "text": [
      "<class 'pandas.core.frame.DataFrame'>\n",
      "RangeIndex: 1187335 entries, 0 to 1187334\n",
      "Data columns (total 11 columns):\n",
      " #   Column                 Non-Null Count    Dtype  \n",
      "---  ------                 --------------    -----  \n",
      " 0   RecordID               1187335 non-null  int64  \n",
      " 1   EventTimeStamp         1187335 non-null  object \n",
      " 2   eventDescription       1126490 non-null  object \n",
      " 3   spn                    1187335 non-null  int64  \n",
      " 4   fmi                    1187335 non-null  int64  \n",
      " 5   active                 1187335 non-null  bool   \n",
      " 6   activeTransitionCount  1187335 non-null  int64  \n",
      " 7   EquipmentID            1187335 non-null  object \n",
      " 8   Latitude               1187335 non-null  float64\n",
      " 9   Longitude              1187335 non-null  float64\n",
      " 10  IsServiceStation       1187335 non-null  bool   \n",
      "dtypes: bool(2), float64(2), int64(4), object(3)\n",
      "memory usage: 83.8+ MB\n"
     ]
    }
   ],
   "source": [
    "faults.info()"
   ]
  },
  {
   "cell_type": "markdown",
   "id": "82723a22-be70-4a4c-8b6a-ea95433f10c3",
   "metadata": {},
   "source": [
    "**Faults : Cleaning Data**"
   ]
  },
  {
   "cell_type": "code",
   "execution_count": 6,
   "id": "aae9239c-5a7f-4b36-b99e-2b9ee3c74e08",
   "metadata": {},
   "outputs": [],
   "source": [
    "drop_list = ['ESS_Id', \n",
    "             'actionDescription', \n",
    "             'ecuSoftwareVersion', \n",
    "             'ecuSerialNumber', \n",
    "             'ecuModel', \n",
    "             'ecuMake', \n",
    "             'ecuSource', \n",
    "             'faultValue',\n",
    "             'LocationTimeStamp',\n",
    "             'MCTNumber']\n",
    "\n",
    "faults = faults.drop(columns=drop_list)"
   ]
  },
  {
   "cell_type": "code",
   "execution_count": 8,
   "id": "5fc93a5a-14eb-407b-8355-eb96f66fec8e",
   "metadata": {},
   "outputs": [],
   "source": [
    "service_stations = [\n",
    "    (36.0666667, -86.4347222),\n",
    "    (35.5883333, -86.4438888),\n",
    "    (36.1950, -83.174722)\n",
    "]\n",
    "\n",
    "threshold_distance = 1.0  \n",
    "\n",
    "\n",
    "def is_near_service_station(lat, lon):\n",
    "    point = (lat, lon)\n",
    "    for station in service_stations:\n",
    "        distance = geodesic(point, station).kilometers\n",
    "        if distance <= threshold_distance:\n",
    "            return True\n",
    "    return False\n",
    "\n",
    "\n",
    "faults['IsServiceStation'] = faults.apply(lambda row: is_near_service_station(row['Latitude'], row['Longitude']), axis=1)"
   ]
  },
  {
   "cell_type": "code",
   "execution_count": 10,
   "id": "4cff9608-4d51-4617-9636-a7c569046a67",
   "metadata": {},
   "outputs": [
    {
     "data": {
      "text/plain": [
       "IsServiceStation\n",
       "False    0.88936\n",
       "True     0.11064\n",
       "Name: proportion, dtype: float64"
      ]
     },
     "execution_count": 10,
     "metadata": {},
     "output_type": "execute_result"
    }
   ],
   "source": [
    "faults['IsServiceStation'].value_counts(normalize = True)"
   ]
  },
  {
   "cell_type": "markdown",
   "id": "2255d6c7-baa9-46e8-b3a6-82bc94cfee8a",
   "metadata": {},
   "source": [
    "**Diagnostics (Features) : Cleaning Data**"
   ]
  },
  {
   "cell_type": "code",
   "execution_count": 14,
   "id": "9693e894-9c9b-4536-a50a-23f49ea4d14a",
   "metadata": {},
   "outputs": [],
   "source": [
    "diagnostics['Value'] = diagnostics['Value'].replace({'FALSE': 0, 'TRUE': 1})"
   ]
  },
  {
   "cell_type": "code",
   "execution_count": 16,
   "id": "3e3294af-23a8-4bcd-93c5-dadb54b681f4",
   "metadata": {},
   "outputs": [],
   "source": [
    "diagnostics_w = diagnostics.pivot(index='FaultId', columns='Name', values='Value')\n",
    "features = diagnostics_w.reset_index()\n",
    "features.columns.name = None"
   ]
  },
  {
   "cell_type": "markdown",
   "id": "4dc74fad-2791-44a1-9a5b-3e11fdbe501f",
   "metadata": {},
   "source": [
    "**Merged Faults and Features**"
   ]
  },
  {
   "cell_type": "code",
   "execution_count": 24,
   "id": "ee5398fb-9dc2-45c2-bb18-89fd6d53046b",
   "metadata": {},
   "outputs": [],
   "source": [
    "combined = pd.merge(faults, \n",
    "                    features, \n",
    "                    left_on='RecordID', \n",
    "                    right_on='FaultId',\n",
    "                    how = 'left')"
   ]
  },
  {
   "cell_type": "code",
   "execution_count": 26,
   "id": "cc505cb9-45e3-4fd5-8509-dce05a836d03",
   "metadata": {},
   "outputs": [],
   "source": [
    "combined_filtered = combined[combined['IsServiceStation'] == False]\n",
    "#combined_filtered['IsServiceStation'].value_counts(normalize = True)"
   ]
  },
  {
   "cell_type": "code",
   "execution_count": 103,
   "id": "03bc9283-d3cd-49c1-8ed6-ba7db186aef1",
   "metadata": {},
   "outputs": [],
   "source": [
    "#combined['IsDerateFull'] = combined['spn'] == 5246\n",
    "combined['IsDerateFull'] = (combined['spn'] == 5246) & (combined['active'] == True)\n"
   ]
  },
  {
   "cell_type": "code",
   "execution_count": 105,
   "id": "01084d95-d49e-43c3-a9bc-5363f618596a",
   "metadata": {},
   "outputs": [
    {
     "data": {
      "text/plain": [
       "IsDerateFull\n",
       "False    0.999489\n",
       "True     0.000511\n",
       "Name: proportion, dtype: float64"
      ]
     },
     "execution_count": 105,
     "metadata": {},
     "output_type": "execute_result"
    }
   ],
   "source": [
    "combined['IsDerateFull'].value_counts(normalize = True)"
   ]
  },
  {
   "cell_type": "code",
   "execution_count": 107,
   "id": "9ae47fc0-9858-48b8-8e0f-42232d681099",
   "metadata": {},
   "outputs": [
    {
     "data": {
      "text/plain": [
       "IsDerateFull  active\n",
       "True          True      607\n",
       "Name: count, dtype: int64"
      ]
     },
     "execution_count": 107,
     "metadata": {},
     "output_type": "execute_result"
    }
   ],
   "source": [
    "inspect_derate_rows = combined[combined['IsDerateFull'] == True][['IsDerateFull', 'active']].value_counts()\n",
    "inspect_derate_rows"
   ]
  },
  {
   "cell_type": "markdown",
   "id": "56bc28dd-b385-4ec5-9eeb-ed1f03aa9082",
   "metadata": {},
   "source": [
    "**Investigate NaN values in both outcomes of response variable:**\n",
    "\n",
    "*Is there a difference in available data between the two outcomes: IsDerateFull T/F*"
   ]
  },
  {
   "cell_type": "code",
   "execution_count": 109,
   "id": "c5d552b9-5883-497c-86df-66ea4ab74bd8",
   "metadata": {},
   "outputs": [],
   "source": [
    "feature_columns = [\n",
    "    'AcceleratorPedal', 'BarometricPressure', 'CruiseControlActive', 'CruiseControlSetSpeed', \n",
    "    'DistanceLtd', 'EngineCoolantTemperature', 'EngineLoad', 'EngineOilPressure', 'EngineOilTemperature',\n",
    "    'EngineRpm', 'EngineTimeLtd', 'FuelLevel', 'FuelLtd', 'FuelRate', 'FuelTemperature', 'IgnStatus', \n",
    "    'IntakeManifoldTemperature', 'LampStatus', 'ParkingBrake', 'ServiceDistance', 'Speed', \n",
    "    'SwitchedBatteryVoltage', 'Throttle', 'TurboBoostPressure'\n",
    "]\n",
    "\n",
    "derate_true = combined[combined['IsDerateFull'] == True]\n",
    "derate_false = combined[combined['IsDerateFull'] == False]\n",
    "\n",
    "derate_true = derate_true[feature_columns]\n",
    "derate_false = derate_false[feature_columns]\n",
    "\n",
    "nan_count_true = derate_true.isna().sum()\n",
    "non_nan_count_true = derate_true.count()\n",
    "\n",
    "nan_count_false = derate_false.isna().sum()\n",
    "non_nan_count_false = derate_false.count()\n",
    "\n",
    "nan_percent_true = (nan_count_true / len(derate_true)) * 100\n",
    "nan_percent_false = (nan_count_false / len(derate_false)) * 100\n",
    "\n",
    "nan_summary_true = pd.DataFrame({\n",
    "    'Feature': nan_count_true.index, \n",
    "    'NaN Count': nan_count_true.values,\n",
    "    'Non-NaN Count': non_nan_count_true.values,\n",
    "    'NaN Percentage (%)_IsDerateFull = True': nan_percent_true.values\n",
    "})\n",
    "\n",
    "nan_summary_false = pd.DataFrame({\n",
    "    'Feature': nan_count_false.index, \n",
    "    'NaN Count': nan_count_false.values,\n",
    "    'Non-NaN Count': non_nan_count_false.values,\n",
    "    'NaN Percentage (%)_IsDerateFull = False': nan_percent_false.values\n",
    "})"
   ]
  },
  {
   "cell_type": "code",
   "execution_count": 111,
   "id": "dd6c7a1e-2a60-49ba-ad77-bb5766081b1e",
   "metadata": {},
   "outputs": [],
   "source": [
    "true_pct = nan_summary_true[['Feature','NaN Percentage (%)_IsDerateFull = True']]\n",
    "false_pct = nan_summary_false[['Feature','NaN Percentage (%)_IsDerateFull = False']]\n",
    "nan_comparison = pd.merge(true_pct, false_pct, on = 'Feature')"
   ]
  },
  {
   "cell_type": "code",
   "execution_count": 117,
   "id": "15b26834-72e4-4f8a-8b71-9b48b0d96e4d",
   "metadata": {},
   "outputs": [
    {
     "data": {
      "text/html": [
       "<div>\n",
       "<style scoped>\n",
       "    .dataframe tbody tr th:only-of-type {\n",
       "        vertical-align: middle;\n",
       "    }\n",
       "\n",
       "    .dataframe tbody tr th {\n",
       "        vertical-align: top;\n",
       "    }\n",
       "\n",
       "    .dataframe thead th {\n",
       "        text-align: right;\n",
       "    }\n",
       "</style>\n",
       "<table border=\"1\" class=\"dataframe\">\n",
       "  <thead>\n",
       "    <tr style=\"text-align: right;\">\n",
       "      <th></th>\n",
       "      <th>Feature</th>\n",
       "      <th>NaN Percentage (%)_IsDerateFull = True</th>\n",
       "      <th>NaN Percentage (%)_IsDerateFull = False</th>\n",
       "      <th>Difference</th>\n",
       "    </tr>\n",
       "  </thead>\n",
       "  <tbody>\n",
       "    <tr>\n",
       "      <th>15</th>\n",
       "      <td>IgnStatus</td>\n",
       "      <td>0.000000</td>\n",
       "      <td>48.779586</td>\n",
       "      <td>48.779586</td>\n",
       "    </tr>\n",
       "    <tr>\n",
       "      <th>11</th>\n",
       "      <td>FuelLevel</td>\n",
       "      <td>11.037891</td>\n",
       "      <td>57.677328</td>\n",
       "      <td>46.639437</td>\n",
       "    </tr>\n",
       "    <tr>\n",
       "      <th>16</th>\n",
       "      <td>IntakeManifoldTemperature</td>\n",
       "      <td>7.578254</td>\n",
       "      <td>50.643281</td>\n",
       "      <td>43.065028</td>\n",
       "    </tr>\n",
       "    <tr>\n",
       "      <th>9</th>\n",
       "      <td>EngineRpm</td>\n",
       "      <td>7.578254</td>\n",
       "      <td>50.590194</td>\n",
       "      <td>43.011941</td>\n",
       "    </tr>\n",
       "    <tr>\n",
       "      <th>1</th>\n",
       "      <td>BarometricPressure</td>\n",
       "      <td>7.742998</td>\n",
       "      <td>50.669741</td>\n",
       "      <td>42.926742</td>\n",
       "    </tr>\n",
       "    <tr>\n",
       "      <th>5</th>\n",
       "      <td>EngineCoolantTemperature</td>\n",
       "      <td>7.742998</td>\n",
       "      <td>50.661735</td>\n",
       "      <td>42.918737</td>\n",
       "    </tr>\n",
       "    <tr>\n",
       "      <th>7</th>\n",
       "      <td>EngineOilPressure</td>\n",
       "      <td>8.072488</td>\n",
       "      <td>50.646989</td>\n",
       "      <td>42.574501</td>\n",
       "    </tr>\n",
       "    <tr>\n",
       "      <th>12</th>\n",
       "      <td>FuelLtd</td>\n",
       "      <td>8.401977</td>\n",
       "      <td>50.735215</td>\n",
       "      <td>42.333238</td>\n",
       "    </tr>\n",
       "    <tr>\n",
       "      <th>6</th>\n",
       "      <td>EngineLoad</td>\n",
       "      <td>8.896211</td>\n",
       "      <td>50.699065</td>\n",
       "      <td>41.802854</td>\n",
       "    </tr>\n",
       "    <tr>\n",
       "      <th>13</th>\n",
       "      <td>FuelRate</td>\n",
       "      <td>9.225700</td>\n",
       "      <td>50.731254</td>\n",
       "      <td>41.505554</td>\n",
       "    </tr>\n",
       "    <tr>\n",
       "      <th>20</th>\n",
       "      <td>Speed</td>\n",
       "      <td>9.719934</td>\n",
       "      <td>50.842316</td>\n",
       "      <td>41.122382</td>\n",
       "    </tr>\n",
       "    <tr>\n",
       "      <th>23</th>\n",
       "      <td>TurboBoostPressure</td>\n",
       "      <td>10.049423</td>\n",
       "      <td>50.889757</td>\n",
       "      <td>40.840334</td>\n",
       "    </tr>\n",
       "    <tr>\n",
       "      <th>8</th>\n",
       "      <td>EngineOilTemperature</td>\n",
       "      <td>10.214168</td>\n",
       "      <td>50.842400</td>\n",
       "      <td>40.628232</td>\n",
       "    </tr>\n",
       "    <tr>\n",
       "      <th>4</th>\n",
       "      <td>DistanceLtd</td>\n",
       "      <td>11.861614</td>\n",
       "      <td>50.680864</td>\n",
       "      <td>38.819249</td>\n",
       "    </tr>\n",
       "    <tr>\n",
       "      <th>10</th>\n",
       "      <td>EngineTimeLtd</td>\n",
       "      <td>21.746293</td>\n",
       "      <td>51.051041</td>\n",
       "      <td>29.304748</td>\n",
       "    </tr>\n",
       "    <tr>\n",
       "      <th>0</th>\n",
       "      <td>AcceleratorPedal</td>\n",
       "      <td>27.018122</td>\n",
       "      <td>55.217539</td>\n",
       "      <td>28.199417</td>\n",
       "    </tr>\n",
       "    <tr>\n",
       "      <th>14</th>\n",
       "      <td>FuelTemperature</td>\n",
       "      <td>49.917628</td>\n",
       "      <td>74.821020</td>\n",
       "      <td>24.903393</td>\n",
       "    </tr>\n",
       "    <tr>\n",
       "      <th>21</th>\n",
       "      <td>SwitchedBatteryVoltage</td>\n",
       "      <td>71.004942</td>\n",
       "      <td>90.403614</td>\n",
       "      <td>19.398672</td>\n",
       "    </tr>\n",
       "    <tr>\n",
       "      <th>3</th>\n",
       "      <td>CruiseControlSetSpeed</td>\n",
       "      <td>34.266886</td>\n",
       "      <td>51.458211</td>\n",
       "      <td>17.191325</td>\n",
       "    </tr>\n",
       "    <tr>\n",
       "      <th>2</th>\n",
       "      <td>CruiseControlActive</td>\n",
       "      <td>35.914333</td>\n",
       "      <td>51.587306</td>\n",
       "      <td>15.672973</td>\n",
       "    </tr>\n",
       "    <tr>\n",
       "      <th>22</th>\n",
       "      <td>Throttle</td>\n",
       "      <td>57.001647</td>\n",
       "      <td>64.588179</td>\n",
       "      <td>7.586531</td>\n",
       "    </tr>\n",
       "    <tr>\n",
       "      <th>18</th>\n",
       "      <td>ParkingBrake</td>\n",
       "      <td>59.472817</td>\n",
       "      <td>66.316966</td>\n",
       "      <td>6.844149</td>\n",
       "    </tr>\n",
       "    <tr>\n",
       "      <th>17</th>\n",
       "      <td>LampStatus</td>\n",
       "      <td>0.000000</td>\n",
       "      <td>0.000000</td>\n",
       "      <td>0.000000</td>\n",
       "    </tr>\n",
       "    <tr>\n",
       "      <th>19</th>\n",
       "      <td>ServiceDistance</td>\n",
       "      <td>100.000000</td>\n",
       "      <td>99.981883</td>\n",
       "      <td>-0.018117</td>\n",
       "    </tr>\n",
       "  </tbody>\n",
       "</table>\n",
       "</div>"
      ],
      "text/plain": [
       "                      Feature  NaN Percentage (%)_IsDerateFull = True  \\\n",
       "15                  IgnStatus                                0.000000   \n",
       "11                  FuelLevel                               11.037891   \n",
       "16  IntakeManifoldTemperature                                7.578254   \n",
       "9                   EngineRpm                                7.578254   \n",
       "1          BarometricPressure                                7.742998   \n",
       "5    EngineCoolantTemperature                                7.742998   \n",
       "7           EngineOilPressure                                8.072488   \n",
       "12                    FuelLtd                                8.401977   \n",
       "6                  EngineLoad                                8.896211   \n",
       "13                   FuelRate                                9.225700   \n",
       "20                      Speed                                9.719934   \n",
       "23         TurboBoostPressure                               10.049423   \n",
       "8        EngineOilTemperature                               10.214168   \n",
       "4                 DistanceLtd                               11.861614   \n",
       "10              EngineTimeLtd                               21.746293   \n",
       "0            AcceleratorPedal                               27.018122   \n",
       "14            FuelTemperature                               49.917628   \n",
       "21     SwitchedBatteryVoltage                               71.004942   \n",
       "3       CruiseControlSetSpeed                               34.266886   \n",
       "2         CruiseControlActive                               35.914333   \n",
       "22                   Throttle                               57.001647   \n",
       "18               ParkingBrake                               59.472817   \n",
       "17                 LampStatus                                0.000000   \n",
       "19            ServiceDistance                              100.000000   \n",
       "\n",
       "    NaN Percentage (%)_IsDerateFull = False  Difference  \n",
       "15                                48.779586   48.779586  \n",
       "11                                57.677328   46.639437  \n",
       "16                                50.643281   43.065028  \n",
       "9                                 50.590194   43.011941  \n",
       "1                                 50.669741   42.926742  \n",
       "5                                 50.661735   42.918737  \n",
       "7                                 50.646989   42.574501  \n",
       "12                                50.735215   42.333238  \n",
       "6                                 50.699065   41.802854  \n",
       "13                                50.731254   41.505554  \n",
       "20                                50.842316   41.122382  \n",
       "23                                50.889757   40.840334  \n",
       "8                                 50.842400   40.628232  \n",
       "4                                 50.680864   38.819249  \n",
       "10                                51.051041   29.304748  \n",
       "0                                 55.217539   28.199417  \n",
       "14                                74.821020   24.903393  \n",
       "21                                90.403614   19.398672  \n",
       "3                                 51.458211   17.191325  \n",
       "2                                 51.587306   15.672973  \n",
       "22                                64.588179    7.586531  \n",
       "18                                66.316966    6.844149  \n",
       "17                                 0.000000    0.000000  \n",
       "19                                99.981883   -0.018117  "
      ]
     },
     "execution_count": 117,
     "metadata": {},
     "output_type": "execute_result"
    }
   ],
   "source": [
    "nan_comparison['Difference'] =  nan_comparison['NaN Percentage (%)_IsDerateFull = False'] - nan_comparison['NaN Percentage (%)_IsDerateFull = True']\n",
    "nan_comparison_sorted = nan_comparison.sort_values(by='Difference', ascending = False)\n",
    "nan_comparison_sorted"
   ]
  },
  {
   "cell_type": "markdown",
   "id": "171915ec-7d15-47e4-bf9c-2ba05f81a43d",
   "metadata": {},
   "source": [
    "**Identify features for model:**\n",
    "\n",
    "*Are there features that show trends over time?*"
   ]
  },
  {
   "cell_type": "code",
   "execution_count": 51,
   "id": "377c4f87-3759-47ad-93b5-34c07e03e8a7",
   "metadata": {},
   "outputs": [],
   "source": [
    "features = [\n",
    "    'DistanceLtd',\n",
    "    'EngineOilTemperature',\n",
    "    'TurboBoostPressure',\n",
    "    'FuelRate',\n",
    "    'EngineLoad',\n",
    "    'EngineOilPressure',\n",
    "    'EngineCoolantTemperature',\n",
    "    'BarometricPressure',\n",
    "    'EngineRpm',\n",
    "    'IntakeManifoldTemperature',\n",
    "    'FuelTemperature',\n",
    "    'SwitchedBatteryVoltage'\n",
    "]"
   ]
  },
  {
   "cell_type": "markdown",
   "id": "841d6ec1-9e42-4d1e-a232-b4c50cfbc70c",
   "metadata": {},
   "source": [
    "**Statistic Models**"
   ]
  },
  {
   "cell_type": "code",
   "execution_count": 42,
   "id": "d0dc7033-66f6-42db-a8ae-ad2cac498a2a",
   "metadata": {},
   "outputs": [],
   "source": [
    "from sklearn.model_selection import train_test_split\n",
    "from sklearn.preprocessing import StandardScaler\n",
    "from sklearn.linear_model import LogisticRegression\n",
    "from sklearn.metrics import classification_report, confusion_matrix, accuracy_score\n",
    "from sklearn.ensemble import RandomForestClassifier\n",
    "from imblearn.over_sampling import SMOTE"
   ]
  },
  {
   "cell_type": "code",
   "execution_count": 55,
   "id": "af66e565-81a4-4f8f-a0e4-0e518bc61658",
   "metadata": {},
   "outputs": [
    {
     "data": {
      "text/plain": [
       "DistanceLtd                  object\n",
       "EngineOilTemperature         object\n",
       "TurboBoostPressure           object\n",
       "FuelRate                     object\n",
       "EngineLoad                   object\n",
       "EngineOilPressure            object\n",
       "EngineCoolantTemperature     object\n",
       "BarometricPressure           object\n",
       "EngineRpm                    object\n",
       "IntakeManifoldTemperature    object\n",
       "FuelTemperature              object\n",
       "SwitchedBatteryVoltage       object\n",
       "dtype: object"
      ]
     },
     "execution_count": 55,
     "metadata": {},
     "output_type": "execute_result"
    }
   ],
   "source": [
    "combined[features].dtypes"
   ]
  },
  {
   "cell_type": "markdown",
   "id": "7d66e18d-7f8b-42f1-bb00-a7d72ee11960",
   "metadata": {},
   "source": [
    "**Logistic Regression**\n",
    "\n",
    "Version_1\n",
    "\n",
    "*Logistic regression model with 80/20 test split*"
   ]
  },
  {
   "cell_type": "code",
   "execution_count": 119,
   "id": "ed0ee6c2-8bcb-4f97-90e6-ffe5f15b11e3",
   "metadata": {},
   "outputs": [
    {
     "name": "stdout",
     "output_type": "stream",
     "text": [
      "Accuracy: 0.8020\n",
      "Classification Report:\n",
      "               precision    recall  f1-score   support\n",
      "\n",
      "       False       1.00      0.80      0.89    237349\n",
      "        True       0.00      0.80      0.00       118\n",
      "\n",
      "    accuracy                           0.80    237467\n",
      "   macro avg       0.50      0.80      0.45    237467\n",
      "weighted avg       1.00      0.80      0.89    237467\n",
      "\n",
      "Confusion Matrix:\n",
      " [[190358  46991]\n",
      " [    24     94]]\n"
     ]
    }
   ],
   "source": [
    "X = combined[features]\n",
    "y = combined['IsDerateFull']\n",
    "\n",
    "X = X.apply(pd.to_numeric, errors='coerce')\n",
    "X = X.fillna(X.mean())\n",
    "\n",
    "X_train, X_test, y_train, y_test = train_test_split(X, y, test_size=0.2, random_state=321)\n",
    "\n",
    "scaler = StandardScaler()\n",
    "X_train_scaled = scaler.fit_transform(X_train)  \n",
    "X_test_scaled = scaler.transform(X_test)  \n",
    "\n",
    "model = LogisticRegression(class_weight='balanced')\n",
    "model.fit(X_train_scaled, y_train)\n",
    "\n",
    "y_pred = model.predict(X_test_scaled)\n",
    "\n",
    "accuracy = accuracy_score(y_test, y_pred)\n",
    "print(f\"Accuracy: {accuracy:.4f}\")\n",
    "print(\"Classification Report:\\n\", classification_report(y_test, y_pred))\n",
    "print(\"Confusion Matrix:\\n\", confusion_matrix(y_test, y_pred))"
   ]
  },
  {
   "cell_type": "markdown",
   "id": "38ec7189-b7de-4aaa-8287-4e171838a36e",
   "metadata": {},
   "source": [
    "True Negatives (TN): 190,358 — Correctly predicted False.\n",
    "\n",
    "False Positives (FP): 46,991 — Incorrectly predicted True.\n",
    "\n",
    "False Negatives (FN): 24 — Incorrectly predicted False.\n",
    "\n",
    "True Positives (TP): 94 — Correctly predicted True."
   ]
  },
  {
   "cell_type": "code",
   "execution_count": 121,
   "id": "05e10990-e99c-437b-8c53-588af04ab7f5",
   "metadata": {},
   "outputs": [
    {
     "data": {
      "text/plain": [
       "IsTestData\n",
       "False    0.891129\n",
       "True     0.108871\n",
       "Name: proportion, dtype: float64"
      ]
     },
     "execution_count": 121,
     "metadata": {},
     "output_type": "execute_result"
    }
   ],
   "source": [
    "combined['EventTimeStamp'] = pd.to_datetime(combined['EventTimeStamp'], errors='coerce')\n",
    "combined['IsTestData'] = combined['EventTimeStamp'] >= '2019-01-01'\n",
    "combined['IsTestData'].value_counts(normalize=True)"
   ]
  },
  {
   "cell_type": "markdown",
   "id": "d95316d8-b387-482e-9db9-2a4d05857960",
   "metadata": {},
   "source": [
    "**Logistic Regression**\n",
    "\n",
    "Version_2\n",
    "\n",
    "*Logistic regression split Test >= 2019*"
   ]
  },
  {
   "cell_type": "code",
   "execution_count": 123,
   "id": "4648e264-b7cf-4420-a408-f3f541d7abc2",
   "metadata": {},
   "outputs": [
    {
     "name": "stdout",
     "output_type": "stream",
     "text": [
      "Accuracy: 0.0705\n",
      "Classification Report:\n",
      "               precision    recall  f1-score   support\n",
      "\n",
      "       False       1.00      0.07      0.13    129172\n",
      "        True       0.00      0.97      0.00        94\n",
      "\n",
      "    accuracy                           0.07    129266\n",
      "   macro avg       0.50      0.52      0.07    129266\n",
      "weighted avg       1.00      0.07      0.13    129266\n",
      "\n",
      "Confusion Matrix:\n",
      " [[  9018 120154]\n",
      " [     3     91]]\n"
     ]
    }
   ],
   "source": [
    "random_state = 42\n",
    "\n",
    "# Training Data < 2019 \n",
    "# Test Data >= 2019\n",
    "train_data = combined[combined['IsTestData'] == False]\n",
    "test_data = combined[combined['IsTestData'] == True]\n",
    "\n",
    "X_train = train_data[features]\n",
    "y_train = train_data['IsDerateFull']\n",
    "X_test = test_data[features]\n",
    "y_test = test_data['IsDerateFull']\n",
    "\n",
    "X_train = X_train.apply(pd.to_numeric, errors='coerce')\n",
    "X_test = X_test.apply(pd.to_numeric, errors='coerce')\n",
    "\n",
    "X_train = X_train.fillna(X_train.mean())\n",
    "X_test = X_test.fillna(X_test.mean())\n",
    "\n",
    "scaler = StandardScaler()\n",
    "X_train_scaled = scaler.fit_transform(X_train)  \n",
    "X_test_scaled = scaler.transform(X_test)  \n",
    "\n",
    "model = LogisticRegression(class_weight='balanced', random_state=random_state)\n",
    "model.fit(X_train_scaled, y_train)\n",
    "\n",
    "y_pred = model.predict(X_test_scaled)\n",
    "\n",
    "accuracy = accuracy_score(y_test, y_pred)\n",
    "print(f\"Accuracy: {accuracy:.4f}\")\n",
    "print(\"Classification Report:\\n\", classification_report(y_test, y_pred))\n",
    "print(\"Confusion Matrix:\\n\", confusion_matrix(y_test, y_pred))"
   ]
  },
  {
   "cell_type": "markdown",
   "id": "e24268b5-50c0-4d43-8cde-7c7c82222f47",
   "metadata": {},
   "source": [
    "True Negatives (TN): 9,018 — Correctly predicted False\n",
    "\n",
    "False Positives (FP): 120,154 — Incorrectly predicted True\n",
    "\n",
    "False Negatives (FN): 3 — Incorrectly predicted False\n",
    "\n",
    "True Positives (TP): 91 — Correctly predicted True"
   ]
  },
  {
   "cell_type": "markdown",
   "id": "b5dd62f0-9c0f-45dc-be3f-e7bc7bd385a0",
   "metadata": {},
   "source": [
    "**Random Forest**\n",
    "\n",
    "Version_1"
   ]
  },
  {
   "cell_type": "code",
   "execution_count": 132,
   "id": "f0caed66-6d05-4c6c-ab28-6558fe4f585e",
   "metadata": {},
   "outputs": [
    {
     "name": "stdout",
     "output_type": "stream",
     "text": [
      "Accuracy: 0.4326\n",
      "Classification Report:\n",
      "               precision    recall  f1-score   support\n",
      "\n",
      "       False       1.00      0.43      0.60    129172\n",
      "        True       0.00      0.20      0.00        94\n",
      "\n",
      "    accuracy                           0.43    129266\n",
      "   macro avg       0.50      0.32      0.30    129266\n",
      "weighted avg       1.00      0.43      0.60    129266\n",
      "\n",
      "Confusion Matrix:\n",
      " [[55897 73275]\n",
      " [   75    19]]\n"
     ]
    }
   ],
   "source": [
    "train_data = combined[combined['IsTestData'] == False]\n",
    "test_data = combined[combined['IsTestData'] == True]\n",
    "\n",
    "X_train = train_data[features]\n",
    "y_train = train_data['IsDerateFull']\n",
    "X_test = test_data[features]\n",
    "y_test = test_data['IsDerateFull']\n",
    "\n",
    "X_train = X_train.apply(pd.to_numeric, errors='coerce')\n",
    "X_test = X_test.apply(pd.to_numeric, errors='coerce')\n",
    "\n",
    "X_train = X_train.fillna(X_train.mean())\n",
    "X_test = X_test.fillna(X_test.mean())\n",
    "\n",
    "scaler = StandardScaler()\n",
    "X_train_scaled = scaler.fit_transform(X_train)\n",
    "X_test_scaled = scaler.transform(X_test)\n",
    "\n",
    "smote = SMOTE(random_state=42)\n",
    "X_train_resampled, y_train_resampled = smote.fit_resample(X_train_scaled, y_train)\n",
    "\n",
    "random_forest_model = RandomForestClassifier(n_estimators=100, random_state=42, class_weight='balanced')\n",
    "\n",
    "random_forest_model.fit(X_train_resampled, y_train_resampled)\n",
    "\n",
    "y_pred = random_forest_model.predict(X_test_scaled)\n",
    "\n",
    "\n",
    "accuracy = accuracy_score(y_test, y_pred)\n",
    "print(f\"Accuracy: {accuracy:.4f}\")\n",
    "\n",
    "print(\"Classification Report:\\n\", classification_report(y_test, y_pred))\n",
    "print(\"Confusion Matrix:\\n\", confusion_matrix(y_test, y_pred))"
   ]
  }
 ],
 "metadata": {
  "kernelspec": {
   "display_name": "Python 3 (ipykernel)",
   "language": "python",
   "name": "python3"
  },
  "language_info": {
   "codemirror_mode": {
    "name": "ipython",
    "version": 3
   },
   "file_extension": ".py",
   "mimetype": "text/x-python",
   "name": "python",
   "nbconvert_exporter": "python",
   "pygments_lexer": "ipython3",
   "version": "3.12.4"
  }
 },
 "nbformat": 4,
 "nbformat_minor": 5
}
