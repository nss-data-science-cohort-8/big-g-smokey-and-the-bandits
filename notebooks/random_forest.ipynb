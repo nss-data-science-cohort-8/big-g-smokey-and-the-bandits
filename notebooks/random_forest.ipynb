{
 "cells": [
  {
   "cell_type": "markdown",
   "id": "3d926755-41ec-423b-8a21-ac06b527bb7a",
   "metadata": {},
   "source": [
    "# Big G Express: Predicting Derates\n",
    "In this project, you will be working with J1939 fault code data and vehicle onboard diagnostic data to try and predict an upcoming full derate. \n",
    "\n",
    "J1939 is a communications protocol used in heavy-duty vehicles (like trucks, buses, and construction equipment) to allow different electronic control units (ECUs), like the engine, transmission, and brake systems, to talk to each other. Fault codes in this system follow a standard format so that mechanics and diagnostic tools can understand what's wrong, no matter the make or model.\n",
    "\n",
    "These fault codes have two parts. First, an SPN (Suspect Parameter Number), which identifies what system or component is having the issue. Second, an FMI (Failure Mode Identifier), which explains how the system is failing (too high, too low, short circuit, etc.).\n",
    "\n",
    "A derate refers to the truck's computer intentionally reducing engine power or speed to protect itself or force the driver to get it serviced. This is a built-in safety measure. A full derate, the main target in this project, means the vehicle is severely limited, requiring a tow for repairs. Full derates are indicated by an SPN of 5246. \n",
    "\n",
    "You have been provided with a two files containing the data you will use to make these predictions (J1939Faults.csv and VehicleDiagnosticOnboardData.csv) as well as two files describing some of the contents (DataInfo.docx and Service Fault Codes_1_0_0_167.xlsx) \n",
    "\n",
    "Note that in its raw form the data does not have \"labels\", so you must define what labels you are going to use and create those labels in your dataset. Also, you will likely need to perform some significant feature engineering in order to build an accurate predictor.\n",
    "\n",
    "There are service locations at (36.0666667, -86.4347222), (35.5883333, -86.4438888), and (36.1950, -83.174722), so you should remove any records in the vicinity of these locations, as fault codes may be tripped when working on the vehicles.\n",
    "\n",
    "When evaluating the performance of your model, assume that the cost associated with a missed full derate is approximately $4000 in towing and repairs, and the cost of a false positive prediction is about $500 due to having the truck off the road and serviced unnecessarily. While high accuracy or F1 is nice, we are most interested here in saving the company money, so the final metric to evaulate your model should be the cost savings.\n",
    "\n",
    "**Project Timeline:**\n",
    "\n",
    "Thursday, May 8: Present preliminary findings to instructors.\n",
    "Tuesday, May 13: Present final findings to class.\n",
    "\n",
    "Your presentation should use slides, not code in a notebook. Your final presentation should include at least the following points:\n",
    "* What features did you use to predict? Report some of the more impactful features using some kind of feature importance metric.\n",
    "* If you had used the data prior to 2019 to train your model and had been using it from January 1, 2019 onwards, how many full derates would you have caught? How many false positives? What is the net savings or cost of using your model for that time span? Report your estimate here, even if the model would have been a net negative."
   ]
  },
  {
   "cell_type": "code",
   "execution_count": 1,
   "id": "2c9cdf06-e26c-40e7-a238-8a79c8518e9e",
   "metadata": {},
   "outputs": [],
   "source": [
    "import pandas as pd\n",
    "from geopy.distance import geodesic\n",
    "from scipy.spatial import cKDTree\n",
    "import numpy as np"
   ]
  },
  {
   "cell_type": "markdown",
   "id": "b31b60c2-3c06-465c-b3b9-04ed30633030",
   "metadata": {},
   "source": [
    "**Read in data**"
   ]
  },
  {
   "cell_type": "code",
   "execution_count": 3,
   "id": "4cbcd072-38d3-41ac-a170-49ee7f6d859a",
   "metadata": {},
   "outputs": [
    {
     "name": "stderr",
     "output_type": "stream",
     "text": [
      "C:\\Users\\jdavis\\AppData\\Local\\Temp\\ipykernel_26396\\1953169697.py:1: DtypeWarning: Columns (15) have mixed types. Specify dtype option on import or set low_memory=False.\n",
      "  faults = pd.read_csv(\"../data/J1939Faults.csv\")\n"
     ]
    }
   ],
   "source": [
    "faults = pd.read_csv(\"../data/J1939Faults.csv\")\n",
    "diagnostics = pd.read_csv(\"../data/VehicleDiagnosticOnboardData.csv\")"
   ]
  },
  {
   "cell_type": "markdown",
   "id": "82723a22-be70-4a4c-8b6a-ea95433f10c3",
   "metadata": {},
   "source": [
    "**Faults : Cleaning Data**"
   ]
  },
  {
   "cell_type": "code",
   "execution_count": 5,
   "id": "aae9239c-5a7f-4b36-b99e-2b9ee3c74e08",
   "metadata": {},
   "outputs": [],
   "source": [
    "drop_list = ['ESS_Id', \n",
    "             'actionDescription', \n",
    "             'ecuSoftwareVersion', \n",
    "             'ecuSerialNumber', \n",
    "             'ecuModel', \n",
    "             'ecuMake', \n",
    "             'ecuSource', \n",
    "             'faultValue',\n",
    "             'LocationTimeStamp',\n",
    "             'MCTNumber']\n",
    "\n",
    "faults = faults.drop(columns=drop_list)"
   ]
  },
  {
   "cell_type": "code",
   "execution_count": 6,
   "id": "01c28107-44d0-47b1-b862-a0d2c61696cb",
   "metadata": {},
   "outputs": [],
   "source": [
    "service_stations = [\n",
    "    (36.0666667, -86.4347222),\n",
    "    (35.5883333, -86.4438888),\n",
    "    (36.1950, -83.174722)\n",
    "]\n",
    "def is_near_service_station_kdtree(df, service_stations, threshold_distance=1.0):\n",
    "    # convert threshold from km to approximate degrees\n",
    "    # rough approximation: 1 degree ≈ 111 km\n",
    "    degree_threshold = threshold_distance / 111.0\n",
    "    \n",
    "    # KDTree for service stations\n",
    "    stations_array = np.array(service_stations)\n",
    "    tree = cKDTree(stations_array)\n",
    "    \n",
    "    # query points\n",
    "    points = np.vstack([df['Latitude'], df['Longitude']]).T\n",
    "    \n",
    "    # find points within threshold distance\n",
    "    # Returns indices of points within degree_threshold of any service station\n",
    "    indices = tree.query_ball_point(points, degree_threshold)\n",
    "    \n",
    "    is_near = np.array([len(idx) > 0 for idx in indices])\n",
    "    \n",
    "    return is_near\n",
    "\n",
    "# define threshold distance\n",
    "threshold_distance = 1.0 \n",
    "\n",
    "# apply function\n",
    "faults['IsServiceStation'] = is_near_service_station_kdtree(\n",
    "    faults, service_stations, threshold_distance)"
   ]
  },
  {
   "cell_type": "code",
   "execution_count": 8,
   "id": "6b74ae27-0864-4879-8340-a194fba817e1",
   "metadata": {},
   "outputs": [],
   "source": [
    "threshold_miles = 0.5\n",
    "threshold_meters = threshold_miles * 1609.34"
   ]
  },
  {
   "cell_type": "code",
   "execution_count": 9,
   "id": "4cff9608-4d51-4617-9636-a7c569046a67",
   "metadata": {},
   "outputs": [
    {
     "data": {
      "text/plain": [
       "IsServiceStation\n",
       "False    0.889795\n",
       "True     0.110205\n",
       "Name: proportion, dtype: float64"
      ]
     },
     "execution_count": 9,
     "metadata": {},
     "output_type": "execute_result"
    }
   ],
   "source": [
    "faults['IsServiceStation'].value_counts(normalize = True)"
   ]
  },
  {
   "cell_type": "markdown",
   "id": "2255d6c7-baa9-46e8-b3a6-82bc94cfee8a",
   "metadata": {},
   "source": [
    "**Diagnostics (Features) : Cleaning Data**"
   ]
  },
  {
   "cell_type": "code",
   "execution_count": 11,
   "id": "9693e894-9c9b-4536-a50a-23f49ea4d14a",
   "metadata": {},
   "outputs": [],
   "source": [
    "diagnostics['Value'] = diagnostics['Value'].replace({'FALSE': 0, 'TRUE': 1})"
   ]
  },
  {
   "cell_type": "code",
   "execution_count": 12,
   "id": "3e3294af-23a8-4bcd-93c5-dadb54b681f4",
   "metadata": {},
   "outputs": [],
   "source": [
    "diagnostics_w = diagnostics.pivot(index='FaultId', columns='Name', values='Value')\n",
    "features = diagnostics_w.reset_index()\n",
    "features.columns.name = None"
   ]
  },
  {
   "cell_type": "markdown",
   "id": "4dc74fad-2791-44a1-9a5b-3e11fdbe501f",
   "metadata": {},
   "source": [
    "**Merged Faults and Features**"
   ]
  },
  {
   "cell_type": "code",
   "execution_count": 14,
   "id": "ee5398fb-9dc2-45c2-bb18-89fd6d53046b",
   "metadata": {},
   "outputs": [],
   "source": [
    "combined = pd.merge(faults, \n",
    "                    features, \n",
    "                    left_on='RecordID', \n",
    "                    right_on='FaultId',\n",
    "                    how = 'left')"
   ]
  },
  {
   "cell_type": "markdown",
   "id": "742227f7-9fca-4f38-8549-4aec8f653d81",
   "metadata": {},
   "source": [
    "**Classifying a Full Derate**"
   ]
  },
  {
   "cell_type": "code",
   "execution_count": 16,
   "id": "edf450cf-cc2c-4412-8560-04e99ad65122",
   "metadata": {},
   "outputs": [
    {
     "data": {
      "text/plain": [
       "IsDerateFull\n",
       "False    1186728\n",
       "True         607\n",
       "Name: count, dtype: int64"
      ]
     },
     "execution_count": 16,
     "metadata": {},
     "output_type": "execute_result"
    }
   ],
   "source": [
    "combined['IsDerateFull'] = (combined['spn'] == 5246) & (combined['active'] == True)\n",
    "combined['IsDerateFull'].value_counts()"
   ]
  },
  {
   "cell_type": "code",
   "execution_count": 17,
   "id": "d6146055-4c3e-42f7-a578-ee350b0f00b7",
   "metadata": {},
   "outputs": [],
   "source": [
    "faults['IsFullDerate'] = (faults['spn'] == 5246) & (faults['active'] == True)"
   ]
  },
  {
   "cell_type": "markdown",
   "id": "40f8cccc-47de-4cb0-81c0-ec505a466da1",
   "metadata": {},
   "source": [
    "**Filter Area**"
   ]
  },
  {
   "cell_type": "code",
   "execution_count": 19,
   "id": "cc505cb9-45e3-4fd5-8509-dce05a836d03",
   "metadata": {},
   "outputs": [
    {
     "data": {
      "text/plain": [
       "IsServiceStation\n",
       "False    1.0\n",
       "Name: proportion, dtype: float64"
      ]
     },
     "execution_count": 19,
     "metadata": {},
     "output_type": "execute_result"
    }
   ],
   "source": [
    "combined_filtered = combined[combined['IsServiceStation'] == False]\n",
    "combined_filtered = combined_filtered[~((combined_filtered['spn'] == 5246) & (combined_filtered['active'] == False))]\n",
    "combined_filtered['IsServiceStation'].value_counts(normalize = True)"
   ]
  },
  {
   "cell_type": "markdown",
   "id": "da15a145-85d3-4e42-9aaf-34dff29ac151",
   "metadata": {},
   "source": [
    "**Inspect derate vehicle with highest n faults**"
   ]
  },
  {
   "cell_type": "code",
   "execution_count": 27,
   "id": "2d658aa1-f266-4b16-ac7c-389a424a81f0",
   "metadata": {},
   "outputs": [
    {
     "name": "stdout",
     "output_type": "stream",
     "text": [
      "EquipmentID 1524 has the most rows to inspect\n"
     ]
    },
    {
     "data": {
      "text/html": [
       "<div>\n",
       "<style scoped>\n",
       "    .dataframe tbody tr th:only-of-type {\n",
       "        vertical-align: middle;\n",
       "    }\n",
       "\n",
       "    .dataframe tbody tr th {\n",
       "        vertical-align: top;\n",
       "    }\n",
       "\n",
       "    .dataframe thead th {\n",
       "        text-align: right;\n",
       "    }\n",
       "</style>\n",
       "<table border=\"1\" class=\"dataframe\">\n",
       "  <thead>\n",
       "    <tr style=\"text-align: right;\">\n",
       "      <th></th>\n",
       "      <th>EquipmentID</th>\n",
       "      <th>row_count</th>\n",
       "    </tr>\n",
       "  </thead>\n",
       "  <tbody>\n",
       "    <tr>\n",
       "      <th>38</th>\n",
       "      <td>1524</td>\n",
       "      <td>31</td>\n",
       "    </tr>\n",
       "    <tr>\n",
       "      <th>43</th>\n",
       "      <td>1535</td>\n",
       "      <td>23</td>\n",
       "    </tr>\n",
       "    <tr>\n",
       "      <th>39</th>\n",
       "      <td>1525</td>\n",
       "      <td>15</td>\n",
       "    </tr>\n",
       "    <tr>\n",
       "      <th>45</th>\n",
       "      <td>1539</td>\n",
       "      <td>14</td>\n",
       "    </tr>\n",
       "    <tr>\n",
       "      <th>3</th>\n",
       "      <td>305</td>\n",
       "      <td>13</td>\n",
       "    </tr>\n",
       "  </tbody>\n",
       "</table>\n",
       "</div>"
      ],
      "text/plain": [
       "   EquipmentID  row_count\n",
       "38        1524         31\n",
       "43        1535         23\n",
       "39        1525         15\n",
       "45        1539         14\n",
       "3          305         13"
      ]
     },
     "execution_count": 27,
     "metadata": {},
     "output_type": "execute_result"
    }
   ],
   "source": [
    "all_derate_vehicles = combined_filtered[(combined_filtered['IsDerateFull'] == True)]\n",
    "grouped_derate_vehicles = all_derate_vehicles.groupby('EquipmentID').size().reset_index(name='row_count')\n",
    "grouped_derate_vehicles = grouped_derate_vehicles.sort_values(by='row_count', ascending=False)\n",
    "print('EquipmentID 1524 has the most rows to inspect')\n",
    "grouped_derate_vehicles.head()"
   ]
  },
  {
   "cell_type": "markdown",
   "id": "dbbff502-2636-4765-b132-bfcce000ff24",
   "metadata": {},
   "source": [
    "**Add a New Feature: Severity Level**"
   ]
  },
  {
   "cell_type": "code",
   "execution_count": 29,
   "id": "6539ef35-361c-4d8f-8bb2-3ec827c734a0",
   "metadata": {},
   "outputs": [],
   "source": [
    "import re\n",
    "\n",
    "def extract_severity(text):\n",
    "\n",
    "    if pd.isna(text):\n",
    "        return np.nan\n",
    "        \n",
    "    # \"Severity\" followed by \"Low\", \"Medium\", or \"High\"\n",
    "    pattern = r'Severity\\s+(Low|Medium|High)'\n",
    "    \n",
    "    # Search for the pattern \n",
    "    match = re.search(pattern, text)\n",
    "    \n",
    "    if match:\n",
    "        # Return \"Severity\" plus the matched level\n",
    "        return f\"Severity {match.group(1)}\"\n",
    "    else:\n",
    "        return np.nan\n",
    "\n",
    "combined_filtered['SeverityLevel'] = combined_filtered['eventDescription'].apply(extract_severity)"
   ]
  },
  {
   "cell_type": "code",
   "execution_count": 30,
   "id": "0e380e74-71fa-4bef-a7c8-cf81b96db47d",
   "metadata": {},
   "outputs": [],
   "source": [
    "severity_map = {\n",
    "    'Severity Low': 1,\n",
    "    'Severity Medium': 2,\n",
    "    'Severity High': 3\n",
    "}\n",
    "\n",
    "combined_filtered['SeverityLevelFeature'] = combined_filtered['SeverityLevel'].map(severity_map)\n",
    "\n",
    "combined_filtered.loc[combined_filtered['spn'] == 1569, 'SeverityLevelFeature'] = 4"
   ]
  },
  {
   "cell_type": "code",
   "execution_count": 31,
   "id": "dfa7f91f-c9d3-4e19-8fc0-ff3f086da3a6",
   "metadata": {},
   "outputs": [
    {
     "data": {
      "text/html": [
       "<div>\n",
       "<style scoped>\n",
       "    .dataframe tbody tr th:only-of-type {\n",
       "        vertical-align: middle;\n",
       "    }\n",
       "\n",
       "    .dataframe tbody tr th {\n",
       "        vertical-align: top;\n",
       "    }\n",
       "\n",
       "    .dataframe thead th {\n",
       "        text-align: right;\n",
       "    }\n",
       "</style>\n",
       "<table border=\"1\" class=\"dataframe\">\n",
       "  <thead>\n",
       "    <tr style=\"text-align: right;\">\n",
       "      <th></th>\n",
       "      <th>eventDescription</th>\n",
       "      <th>SeverityLevel</th>\n",
       "      <th>SeverityLevelFeature</th>\n",
       "    </tr>\n",
       "  </thead>\n",
       "  <tbody>\n",
       "    <tr>\n",
       "      <th>0</th>\n",
       "      <td>Low (Severity Low) Engine Coolant Level</td>\n",
       "      <td>Severity Low</td>\n",
       "      <td>1.0</td>\n",
       "    </tr>\n",
       "    <tr>\n",
       "      <th>5</th>\n",
       "      <td>Low (Severity Low) Engine Coolant Level</td>\n",
       "      <td>Severity Low</td>\n",
       "      <td>1.0</td>\n",
       "    </tr>\n",
       "    <tr>\n",
       "      <th>6</th>\n",
       "      <td>Low (Severity Low) Engine Coolant Level</td>\n",
       "      <td>Severity Low</td>\n",
       "      <td>1.0</td>\n",
       "    </tr>\n",
       "    <tr>\n",
       "      <th>7</th>\n",
       "      <td>Low (Severity Low) Engine Coolant Level</td>\n",
       "      <td>Severity Low</td>\n",
       "      <td>1.0</td>\n",
       "    </tr>\n",
       "    <tr>\n",
       "      <th>8</th>\n",
       "      <td>High (Severity Low) Water In Fuel Indicator</td>\n",
       "      <td>Severity Low</td>\n",
       "      <td>1.0</td>\n",
       "    </tr>\n",
       "  </tbody>\n",
       "</table>\n",
       "</div>"
      ],
      "text/plain": [
       "                              eventDescription SeverityLevel  \\\n",
       "0      Low (Severity Low) Engine Coolant Level  Severity Low   \n",
       "5      Low (Severity Low) Engine Coolant Level  Severity Low   \n",
       "6      Low (Severity Low) Engine Coolant Level  Severity Low   \n",
       "7      Low (Severity Low) Engine Coolant Level  Severity Low   \n",
       "8  High (Severity Low) Water In Fuel Indicator  Severity Low   \n",
       "\n",
       "   SeverityLevelFeature  \n",
       "0                   1.0  \n",
       "5                   1.0  \n",
       "6                   1.0  \n",
       "7                   1.0  \n",
       "8                   1.0  "
      ]
     },
     "execution_count": 31,
     "metadata": {},
     "output_type": "execute_result"
    }
   ],
   "source": [
    "inspect_column = combined_filtered[['eventDescription', 'SeverityLevel','SeverityLevelFeature']].dropna(subset=['SeverityLevel'])\n",
    "inspect_column.head()"
   ]
  },
  {
   "cell_type": "markdown",
   "id": "c2c6f1c8-2d22-4c2f-9a88-5ac8606debd1",
   "metadata": {},
   "source": [
    "**Convert Features to_numeric**"
   ]
  },
  {
   "cell_type": "code",
   "execution_count": 42,
   "id": "b82ce800-3850-40fd-81b6-31380b5f71e5",
   "metadata": {},
   "outputs": [],
   "source": [
    "feature_numeric_columns = [\n",
    "    'AcceleratorPedal', 'BarometricPressure', 'CruiseControlSetSpeed', \n",
    "    'DistanceLtd', 'EngineCoolantTemperature', 'EngineLoad', 'EngineOilPressure', 'EngineOilTemperature',\n",
    "    'EngineRpm', 'EngineTimeLtd', 'FuelLevel', 'FuelLtd', 'FuelRate', 'FuelTemperature', \n",
    "    'IntakeManifoldTemperature', 'ParkingBrake', 'ServiceDistance', 'Speed', \n",
    "    'SwitchedBatteryVoltage', 'Throttle', 'TurboBoostPressure'\n",
    "]\n",
    "\n",
    "combined_filtered[feature_numeric_columns] = combined_filtered[feature_numeric_columns].apply(pd.to_numeric, errors='coerce')"
   ]
  },
  {
   "cell_type": "markdown",
   "id": "1865370d-f115-4a9e-8d68-38a56e165268",
   "metadata": {},
   "source": [
    "**Identify derate rows before creating derate window**"
   ]
  },
  {
   "cell_type": "code",
   "execution_count": 44,
   "id": "9ae47fc0-9858-48b8-8e0f-42232d681099",
   "metadata": {},
   "outputs": [
    {
     "data": {
      "text/plain": [
       "IsDerateFull  active\n",
       "True          True      498\n",
       "Name: count, dtype: int64"
      ]
     },
     "execution_count": 44,
     "metadata": {},
     "output_type": "execute_result"
    }
   ],
   "source": [
    "inspect_derate_rows = combined_filtered[combined_filtered['IsDerateFull'] == True][['IsDerateFull', 'active']].value_counts()\n",
    "inspect_derate_rows"
   ]
  },
  {
   "cell_type": "markdown",
   "id": "4e3a57c9-8645-4161-bda0-971fccaa8546",
   "metadata": {},
   "source": [
    "**Identify False Derates : any subsequent derate within 24hr period**"
   ]
  },
  {
   "cell_type": "code",
   "execution_count": 47,
   "id": "3a805870-3b4c-4130-bc40-f53604c0cc1b",
   "metadata": {},
   "outputs": [
    {
     "data": {
      "text/html": [
       "<div>\n",
       "<style scoped>\n",
       "    .dataframe tbody tr th:only-of-type {\n",
       "        vertical-align: middle;\n",
       "    }\n",
       "\n",
       "    .dataframe tbody tr th {\n",
       "        vertical-align: top;\n",
       "    }\n",
       "\n",
       "    .dataframe thead th {\n",
       "        text-align: right;\n",
       "    }\n",
       "</style>\n",
       "<table border=\"1\" class=\"dataframe\">\n",
       "  <thead>\n",
       "    <tr style=\"text-align: right;\">\n",
       "      <th></th>\n",
       "      <th>EventTimeStamp</th>\n",
       "      <th>EquipmentID</th>\n",
       "      <th>spn</th>\n",
       "      <th>IsDerateActual</th>\n",
       "      <th>TimeSincePrevDerate</th>\n",
       "    </tr>\n",
       "  </thead>\n",
       "  <tbody>\n",
       "    <tr>\n",
       "      <th>516208</th>\n",
       "      <td>2016-07-12 19:11:07</td>\n",
       "      <td>301</td>\n",
       "      <td>5246</td>\n",
       "      <td>True</td>\n",
       "      <td>NaT</td>\n",
       "    </tr>\n",
       "    <tr>\n",
       "      <th>1171245</th>\n",
       "      <td>2020-01-06 10:13:57</td>\n",
       "      <td>302</td>\n",
       "      <td>5246</td>\n",
       "      <td>True</td>\n",
       "      <td>NaT</td>\n",
       "    </tr>\n",
       "    <tr>\n",
       "      <th>1173036</th>\n",
       "      <td>2020-01-13 13:18:31</td>\n",
       "      <td>302</td>\n",
       "      <td>5246</td>\n",
       "      <td>True</td>\n",
       "      <td>7 days 03:04:34</td>\n",
       "    </tr>\n",
       "    <tr>\n",
       "      <th>1181996</th>\n",
       "      <td>2020-02-14 11:21:54</td>\n",
       "      <td>302</td>\n",
       "      <td>5246</td>\n",
       "      <td>True</td>\n",
       "      <td>31 days 22:03:23</td>\n",
       "    </tr>\n",
       "    <tr>\n",
       "      <th>376483</th>\n",
       "      <td>2016-02-15 10:59:28</td>\n",
       "      <td>304</td>\n",
       "      <td>5246</td>\n",
       "      <td>True</td>\n",
       "      <td>NaT</td>\n",
       "    </tr>\n",
       "  </tbody>\n",
       "</table>\n",
       "</div>"
      ],
      "text/plain": [
       "             EventTimeStamp EquipmentID   spn  IsDerateActual  \\\n",
       "516208  2016-07-12 19:11:07         301  5246            True   \n",
       "1171245 2020-01-06 10:13:57         302  5246            True   \n",
       "1173036 2020-01-13 13:18:31         302  5246            True   \n",
       "1181996 2020-02-14 11:21:54         302  5246            True   \n",
       "376483  2016-02-15 10:59:28         304  5246            True   \n",
       "\n",
       "        TimeSincePrevDerate  \n",
       "516208                  NaT  \n",
       "1171245                 NaT  \n",
       "1173036     7 days 03:04:34  \n",
       "1181996    31 days 22:03:23  \n",
       "376483                  NaT  "
      ]
     },
     "execution_count": 47,
     "metadata": {},
     "output_type": "execute_result"
    }
   ],
   "source": [
    "combined_filtered['EventTimeStamp'] = pd.to_datetime(combined_filtered['EventTimeStamp'])\n",
    "combined_filtered['IsDerateActual'] = (combined_filtered['spn'] == 5246)\n",
    "\n",
    "# filter to only derate events and sort by equipment ID and timestamp\n",
    "derate_events = combined_filtered[combined_filtered['spn'] == 5246].copy()\n",
    "derate_events = derate_events.sort_values(['EquipmentID', 'EventTimeStamp'])\n",
    "\n",
    "# empty list to store indices of duplicate derates (within 24 hours)\n",
    "duplicate_indices = []\n",
    "\n",
    "# group by equipment id\n",
    "for equipment_id, group in derate_events.groupby('EquipmentID'):\n",
    "    # Reset the index for easier iteration\n",
    "    group = group.reset_index()\n",
    "    \n",
    "    # keep track of the last valid derate timestamp\n",
    "    last_valid_timestamp = None\n",
    "    \n",
    "    for i, row in group.iterrows():\n",
    "        current_timestamp = row['EventTimeStamp']\n",
    "        \n",
    "        if last_valid_timestamp is None:\n",
    "            # First derate for this equipment - keep it\n",
    "            last_valid_timestamp = current_timestamp\n",
    "        elif (current_timestamp - last_valid_timestamp).total_seconds() < 24 * 3600:\n",
    "            # This derate is within 24 hours of the last valid one - mark as duplicate\n",
    "            duplicate_indices.append(row['index'])\n",
    "        else:\n",
    "            # This derate is more than 24 hours after the last valid one - keep it\n",
    "            last_valid_timestamp = current_timestamp\n",
    "\n",
    "# mark duplicates as not actual derates\n",
    "if duplicate_indices:\n",
    "    combined_filtered.loc[duplicate_indices, 'IsDerateActual'] = False\n",
    "\n",
    "# results\n",
    "verification_df = combined_filtered[combined_filtered['spn'] == 5246][['EventTimeStamp', 'EquipmentID', 'spn', 'IsDerateActual']].sort_values(['EquipmentID', 'EventTimeStamp'])\n",
    "\n",
    "# verify\n",
    "verification_df['TimeSincePrevDerate'] = verification_df.groupby('EquipmentID')['EventTimeStamp'].diff()\n",
    "verification_df.head()"
   ]
  },
  {
   "cell_type": "code",
   "execution_count": 49,
   "id": "f1f47823-1601-4f51-9dcb-7f5b220974ac",
   "metadata": {},
   "outputs": [
    {
     "data": {
      "text/plain": [
       "IsDerateActual\n",
       "False    1055692\n",
       "True         355\n",
       "Name: count, dtype: int64"
      ]
     },
     "execution_count": 49,
     "metadata": {},
     "output_type": "execute_result"
    }
   ],
   "source": [
    "combined_filtered['IsDerateActual'].value_counts()"
   ]
  },
  {
   "cell_type": "markdown",
   "id": "4d7b3636-b86b-45c0-a8f8-44d068b45dc5",
   "metadata": {},
   "source": [
    "**Filter our False Derates**"
   ]
  },
  {
   "cell_type": "code",
   "execution_count": 51,
   "id": "9e36e460-4023-467d-ab35-b122a59a8dc2",
   "metadata": {},
   "outputs": [],
   "source": [
    "combined_filtered = combined_filtered[~((combined_filtered['spn'] == 5246) & (combined_filtered['IsDerateActual'] == False))]"
   ]
  },
  {
   "cell_type": "markdown",
   "id": "36a576f2-fe74-4e99-bf06-c536276014be",
   "metadata": {},
   "source": [
    "**Derate Window**"
   ]
  },
  {
   "cell_type": "code",
   "execution_count": 53,
   "id": "102bb5f5-257e-44e7-9e41-9b3250e1fb57",
   "metadata": {},
   "outputs": [
    {
     "name": "stdout",
     "output_type": "stream",
     "text": [
      "Total events: 1055904\n",
      "Events predicting a derate: 1090\n"
     ]
    }
   ],
   "source": [
    "# datetime format\n",
    "combined_filtered['EventTimeStamp'] = pd.to_datetime(combined_filtered['EventTimeStamp'])\n",
    "\n",
    "# sort\n",
    "combined_filtered = combined_filtered.sort_values(['EquipmentID', 'EventTimeStamp'])\n",
    "\n",
    "# intitial target column\n",
    "combined_filtered['DeratePredictionTarget'] = 0\n",
    "\n",
    "# helper dataframe with just the derate events\n",
    "derate_events = combined_filtered[combined_filtered['IsDerateActual']].copy()\n",
    "\n",
    "# group by EquipmentID \n",
    "for equipment_id, group in combined_filtered.groupby('EquipmentID'):\n",
    "    # Get derate events for this truck only\n",
    "    truck_derates = derate_events[derate_events['EquipmentID'] == equipment_id]\n",
    "    \n",
    "    if len(truck_derates) > 0:\n",
    "        # get indices and timestamps for this truck's rows\n",
    "        truck_indices = group.index\n",
    "        truck_timestamps = group['EventTimeStamp'].values\n",
    "        \n",
    "        # for each derate event in this truck\n",
    "        for _, derate_row in truck_derates.iterrows():\n",
    "            derate_time = derate_row['EventTimeStamp']\n",
    "            \n",
    "            # window: \n",
    "            window_start = derate_time - pd.Timedelta(hours=8)\n",
    "            window_end = derate_time - pd.Timedelta(hours=.001)\n",
    "            \n",
    "            # all events in the prediction window\n",
    "            in_window = (truck_timestamps >= window_start) & (truck_timestamps <= window_end)\n",
    "            indices_to_mark = truck_indices[in_window]\n",
    "            \n",
    "            # marked as predicting a derate\n",
    "            combined_filtered.loc[indices_to_mark, 'DeratePredictionTarget'] = 1\n",
    "\n",
    "# results\n",
    "print(f\"Total events: {len(combined_filtered)}\")\n",
    "print(f\"Events predicting a derate: {combined_filtered['DeratePredictionTarget'].sum()}\")"
   ]
  },
  {
   "cell_type": "markdown",
   "id": "171915ec-7d15-47e4-bf9c-2ba05f81a43d",
   "metadata": {},
   "source": [
    "**Identify features for model:**\n",
    "\n",
    "*Are there features that show trends over time?*"
   ]
  },
  {
   "cell_type": "code",
   "execution_count": 54,
   "id": "377c4f87-3759-47ad-93b5-34c07e03e8a7",
   "metadata": {},
   "outputs": [],
   "source": [
    "features = [\n",
    "    'DistanceLtd',\n",
    "    'EngineOilTemperature',\n",
    "    'TurboBoostPressure',\n",
    "    'FuelRate',\n",
    "    'EngineLoad',\n",
    "    'EngineOilPressure',\n",
    "    'EngineCoolantTemperature',\n",
    "    'BarometricPressure',\n",
    "    'EngineRpm',\n",
    "    'IntakeManifoldTemperature',\n",
    "    'FuelTemperature',\n",
    "    'SwitchedBatteryVoltage',\n",
    "    'SeverityLevelFeature'\n",
    "]"
   ]
  },
  {
   "cell_type": "markdown",
   "id": "841d6ec1-9e42-4d1e-a232-b4c50cfbc70c",
   "metadata": {},
   "source": [
    "**Statistic Models**"
   ]
  },
  {
   "cell_type": "code",
   "execution_count": 57,
   "id": "d0dc7033-66f6-42db-a8ae-ad2cac498a2a",
   "metadata": {},
   "outputs": [],
   "source": [
    "from sklearn.model_selection import train_test_split\n",
    "from sklearn.preprocessing import StandardScaler\n",
    "from sklearn.linear_model import LogisticRegression\n",
    "from sklearn.metrics import classification_report, confusion_matrix, accuracy_score\n",
    "from sklearn.ensemble import RandomForestClassifier\n",
    "from imblearn.over_sampling import SMOTE"
   ]
  },
  {
   "cell_type": "markdown",
   "id": "7d66e18d-7f8b-42f1-bb00-a7d72ee11960",
   "metadata": {},
   "source": [
    "**Separate Train and Test Data**"
   ]
  },
  {
   "cell_type": "code",
   "execution_count": 59,
   "id": "05e10990-e99c-437b-8c53-588af04ab7f5",
   "metadata": {},
   "outputs": [
    {
     "data": {
      "text/plain": [
       "IsTestData\n",
       "False    0.894563\n",
       "True     0.105437\n",
       "Name: proportion, dtype: float64"
      ]
     },
     "execution_count": 59,
     "metadata": {},
     "output_type": "execute_result"
    }
   ],
   "source": [
    "combined_filtered['EventTimeStamp'] = pd.to_datetime(combined['EventTimeStamp'], errors='coerce')\n",
    "combined_filtered['IsTestData'] = combined_filtered['EventTimeStamp'] >= '2019-01-01'\n",
    "combined_filtered['IsTestData'].value_counts(normalize=True)"
   ]
  },
  {
   "cell_type": "markdown",
   "id": "b5dd62f0-9c0f-45dc-be3f-e7bc7bd385a0",
   "metadata": {},
   "source": [
    "**Random Forest**"
   ]
  },
  {
   "cell_type": "code",
   "execution_count": 123,
   "id": "6b7c9c87-7055-4a06-bd0a-c164bf4d5899",
   "metadata": {},
   "outputs": [
    {
     "name": "stdout",
     "output_type": "stream",
     "text": [
      "Accuracy: 0.9983\n",
      "Classification Report:\n",
      "               precision    recall  f1-score   support\n",
      "\n",
      "           0       1.00      1.00      1.00    111148\n",
      "           1       0.33      0.01      0.01       183\n",
      "\n",
      "    accuracy                           1.00    111331\n",
      "   macro avg       0.67      0.50      0.50    111331\n",
      "weighted avg       1.00      1.00      1.00    111331\n",
      "\n",
      "Confusion Matrix:\n",
      " [[111146      2]\n",
      " [   182      1]]\n",
      "\n",
      "Top 10 Important Features:\n",
      "                      Feature  Importance\n",
      "12       SeverityLevelFeature    0.186219\n",
      "0                 DistanceLtd    0.138600\n",
      "1        EngineOilTemperature    0.083529\n",
      "5           EngineOilPressure    0.079649\n",
      "9   IntakeManifoldTemperature    0.077450\n",
      "8                   EngineRpm    0.069343\n",
      "10            FuelTemperature    0.068065\n",
      "6    EngineCoolantTemperature    0.064363\n",
      "7          BarometricPressure    0.055468\n",
      "3                    FuelRate    0.054940\n"
     ]
    }
   ],
   "source": [
    "# split data into train and test sets\n",
    "train_data = combined_filtered[combined_filtered['IsTestData'] == False]\n",
    "test_data = combined_filtered[combined_filtered['IsTestData'] == True]\n",
    "\n",
    "# prepare features and target\n",
    "X_train = train_data[features]\n",
    "y_train = train_data['DeratePredictionTarget']\n",
    "X_test = test_data[features]\n",
    "y_test = test_data['DeratePredictionTarget']\n",
    "\n",
    "# numeric conversion and missing values\n",
    "X_train = X_train.apply(pd.to_numeric, errors='coerce')\n",
    "X_test = X_test.apply(pd.to_numeric, errors='coerce')\n",
    "X_train = X_train.fillna(X_train.mean())\n",
    "X_test = X_test.fillna(X_test.mean())\n",
    "\n",
    "# scale\n",
    "scaler = StandardScaler()\n",
    "X_train_scaled = scaler.fit_transform(X_train)\n",
    "X_test_scaled = scaler.transform(X_test)\n",
    "\n",
    "# OPTIMIZATION 1\n",
    "from imblearn.over_sampling import RandomOverSampler\n",
    "ros = RandomOverSampler(random_state=42)\n",
    "X_train_resampled, y_train_resampled = ros.fit_resample(X_train_scaled, y_train)\n",
    "\n",
    "# OPTIMIZATION 2\n",
    "random_forest_model = RandomForestClassifier(\n",
    "    n_estimators=10,     \n",
    "    max_depth=30,        \n",
    "    min_samples_split=30, \n",
    "    n_jobs=-1,           \n",
    "    random_state=42,\n",
    "    class_weight='balanced'\n",
    ")\n",
    "\n",
    "# train the model\n",
    "random_forest_model.fit(X_train_resampled, y_train_resampled)\n",
    "\n",
    "# predictions\n",
    "y_pred = random_forest_model.predict(X_test_scaled)\n",
    "\n",
    "# evaluate\n",
    "accuracy = accuracy_score(y_test, y_pred)\n",
    "print(f\"Accuracy: {accuracy:.4f}\")\n",
    "print(\"Classification Report:\\n\", classification_report(y_test, y_pred))\n",
    "print(\"Confusion Matrix:\\n\", confusion_matrix(y_test, y_pred))\n",
    "\n",
    "# feature importance\n",
    "feature_importances = pd.DataFrame({\n",
    "    'Feature': features,\n",
    "    'Importance': random_forest_model.feature_importances_\n",
    "}).sort_values('Importance', ascending=False)\n",
    "print(\"\\nTop 10 Important Features:\")\n",
    "print(feature_importances.head(10))"
   ]
  },
  {
   "cell_type": "markdown",
   "id": "94046644-1814-4a7f-8cb3-4cc7d6e631b7",
   "metadata": {},
   "source": [
    "**Confusion Matrix**"
   ]
  },
  {
   "cell_type": "code",
   "execution_count": 125,
   "id": "a324b69d-5120-4731-accb-af858f785a1e",
   "metadata": {},
   "outputs": [],
   "source": [
    "cm = confusion_matrix(y_test, y_pred)\n",
    "\n",
    "TN = cm[0, 0]  \n",
    "FP = cm[0, 1] \n",
    "FN = cm[1, 0] \n",
    "TP = cm[1, 1]  \n",
    "#TP = 12"
   ]
  },
  {
   "cell_type": "code",
   "execution_count": 127,
   "id": "81fb3e99-73c5-415e-a4ce-8611893277ff",
   "metadata": {},
   "outputs": [
    {
     "name": "stdout",
     "output_type": "stream",
     "text": [
      "Model Net Savings Results\n",
      "True Negatives: 111146\n",
      "False Positives: 2\n",
      "False Negatives: 182\n",
      "True Positives: 1\n",
      "Money Saved: $3,000.00\n"
     ]
    }
   ],
   "source": [
    "Costs = (FP * 500)\n",
    "Savings = (TP * 4000)\n",
    "\n",
    "\n",
    "Net = Savings - Costs\n",
    "print(\"Model Net Savings Results\")\n",
    "print(f\"True Negatives: {TN}\")\n",
    "print(f\"False Positives: {FP}\")\n",
    "print(f\"False Negatives: {FN}\")\n",
    "print(f\"True Positives: {TP}\")\n",
    "print(f\"Money Saved: ${Net:,.2f}\")"
   ]
  },
  {
   "cell_type": "code",
   "execution_count": null,
   "id": "40ef78fd-f480-47d1-a9fa-dd571db1e474",
   "metadata": {},
   "outputs": [],
   "source": [
    "test_data['Predicted'] = y_pred\n",
    "\n",
    "test_data['Correct_Prediction'] = test_data['DeratePredictionTarget'] == test_data['Predicted']\n",
    "\n",
    "test_data.head()\n",
    "\n",
    "columns_to_view = ['DeratePredictionTarget', 'Predicted', 'Correct_Prediction'] + features[:5]  \n",
    "test_data[columns_to_view].head()\n",
    "\n",
    "misclassified = test_data[test_data['DeratePredictionTarget'] != test_data['Predicted']]"
   ]
  }
 ],
 "metadata": {
  "kernelspec": {
   "display_name": "Python 3 (ipykernel)",
   "language": "python",
   "name": "python3"
  },
  "language_info": {
   "codemirror_mode": {
    "name": "ipython",
    "version": 3
   },
   "file_extension": ".py",
   "mimetype": "text/x-python",
   "name": "python",
   "nbconvert_exporter": "python",
   "pygments_lexer": "ipython3",
   "version": "3.12.4"
  }
 },
 "nbformat": 4,
 "nbformat_minor": 5
}
