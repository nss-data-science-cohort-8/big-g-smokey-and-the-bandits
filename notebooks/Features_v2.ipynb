{
 "cells": [
  {
   "cell_type": "markdown",
   "id": "3d926755-41ec-423b-8a21-ac06b527bb7a",
   "metadata": {},
   "source": [
    "# Big G Express: Predicting Derates\n",
    "In this project, you will be working with J1939 fault code data and vehicle onboard diagnostic data to try and predict an upcoming full derate. \n",
    "\n",
    "J1939 is a communications protocol used in heavy-duty vehicles (like trucks, buses, and construction equipment) to allow different electronic control units (ECUs), like the engine, transmission, and brake systems, to talk to each other. Fault codes in this system follow a standard format so that mechanics and diagnostic tools can understand what's wrong, no matter the make or model.\n",
    "\n",
    "These fault codes have two parts. First, an SPN (Suspect Parameter Number), which identifies what system or component is having the issue. Second, an FMI (Failure Mode Identifier), which explains how the system is failing (too high, too low, short circuit, etc.).\n",
    "\n",
    "A derate refers to the truck's computer intentionally reducing engine power or speed to protect itself or force the driver to get it serviced. This is a built-in safety measure. A full derate, the main target in this project, means the vehicle is severely limited, requiring a tow for repairs. Full derates are indicated by an SPN of 5246. \n",
    "\n",
    "You have been provided with a two files containing the data you will use to make these predictions (J1939Faults.csv and VehicleDiagnosticOnboardData.csv) as well as two files describing some of the contents (DataInfo.docx and Service Fault Codes_1_0_0_167.xlsx) \n",
    "\n",
    "Note that in its raw form the data does not have \"labels\", so you must define what labels you are going to use and create those labels in your dataset. Also, you will likely need to perform some significant feature engineering in order to build an accurate predictor.\n",
    "\n",
    "There are service locations at (36.0666667, -86.4347222), (35.5883333, -86.4438888), and (36.1950, -83.174722), so you should remove any records in the vicinity of these locations, as fault codes may be tripped when working on the vehicles.\n",
    "\n",
    "When evaluating the performance of your model, assume that the cost associated with a missed full derate is approximately $4000 in towing and repairs, and the cost of a false positive prediction is about $500 due to having the truck off the road and serviced unnecessarily. While high accuracy or F1 is nice, we are most interested here in saving the company money, so the final metric to evaulate your model should be the cost savings.\n",
    "\n",
    "**Project Timeline:**\n",
    "\n",
    "Thursday, May 8: Present preliminary findings to instructors.\n",
    "Tuesday, May 13: Present final findings to class.\n",
    "\n",
    "Your presentation should use slides, not code in a notebook. Your final presentation should include at least the following points:\n",
    "* What features did you use to predict? Report some of the more impactful features using some kind of feature importance metric.\n",
    "* If you had used the data prior to 2019 to train your model and had been using it from January 1, 2019 onwards, how many full derates would you have caught? How many false positives? What is the net savings or cost of using your model for that time span? Report your estimate here, even if the model would have been a net negative."
   ]
  },
  {
   "cell_type": "code",
   "execution_count": 2,
   "id": "7da903c9-77d5-4d68-b22a-59b409274b4c",
   "metadata": {},
   "outputs": [],
   "source": [
    "#pip install geopy"
   ]
  },
  {
   "cell_type": "code",
   "execution_count": 3,
   "id": "2c9cdf06-e26c-40e7-a238-8a79c8518e9e",
   "metadata": {},
   "outputs": [],
   "source": [
    "import pandas as pd\n",
    "from geopy.distance import geodesic\n",
    "from scipy.spatial import cKDTree\n",
    "import numpy as np"
   ]
  },
  {
   "cell_type": "markdown",
   "id": "b31b60c2-3c06-465c-b3b9-04ed30633030",
   "metadata": {},
   "source": [
    "**Read in data**"
   ]
  },
  {
   "cell_type": "code",
   "execution_count": 7,
   "id": "4cbcd072-38d3-41ac-a170-49ee7f6d859a",
   "metadata": {},
   "outputs": [
    {
     "name": "stderr",
     "output_type": "stream",
     "text": [
      "C:\\Users\\jdavis\\AppData\\Local\\Temp\\ipykernel_8452\\1953169697.py:1: DtypeWarning: Columns (15) have mixed types. Specify dtype option on import or set low_memory=False.\n",
      "  faults = pd.read_csv(\"../data/J1939Faults.csv\")\n"
     ]
    }
   ],
   "source": [
    "faults = pd.read_csv(\"../data/J1939Faults.csv\")\n",
    "diagnostics = pd.read_csv(\"../data/VehicleDiagnosticOnboardData.csv\")"
   ]
  },
  {
   "cell_type": "code",
   "execution_count": 8,
   "id": "960f4950-8126-498c-ad43-736560fe93da",
   "metadata": {},
   "outputs": [],
   "source": [
    "#faults.info()"
   ]
  },
  {
   "cell_type": "markdown",
   "id": "82723a22-be70-4a4c-8b6a-ea95433f10c3",
   "metadata": {},
   "source": [
    "**Faults : Cleaning Data**"
   ]
  },
  {
   "cell_type": "code",
   "execution_count": 10,
   "id": "aae9239c-5a7f-4b36-b99e-2b9ee3c74e08",
   "metadata": {},
   "outputs": [],
   "source": [
    "drop_list = ['ESS_Id', \n",
    "             'actionDescription', \n",
    "             'ecuSoftwareVersion', \n",
    "             'ecuSerialNumber', \n",
    "             'ecuModel', \n",
    "             'ecuMake', \n",
    "             'ecuSource', \n",
    "             'faultValue',\n",
    "             'LocationTimeStamp',\n",
    "             'MCTNumber']\n",
    "\n",
    "faults = faults.drop(columns=drop_list)"
   ]
  },
  {
   "cell_type": "code",
   "execution_count": 11,
   "id": "01c28107-44d0-47b1-b862-a0d2c61696cb",
   "metadata": {},
   "outputs": [],
   "source": [
    "service_stations = [\n",
    "    (36.0666667, -86.4347222),\n",
    "    (35.5883333, -86.4438888),\n",
    "    (36.1950, -83.174722)\n",
    "]\n",
    "def is_near_service_station_kdtree(df, service_stations, threshold_distance=1.0):\n",
    "    # convert threshold from km to approximate degrees\n",
    "    # rough approximation: 1 degree ≈ 111 km\n",
    "    degree_threshold = threshold_distance / 111.0\n",
    "    \n",
    "    # KDTree for service stations\n",
    "    stations_array = np.array(service_stations)\n",
    "    tree = cKDTree(stations_array)\n",
    "    \n",
    "    # query points\n",
    "    points = np.vstack([df['Latitude'], df['Longitude']]).T\n",
    "    \n",
    "    # find points within threshold distance\n",
    "    # Returns indices of points within degree_threshold of any service station\n",
    "    indices = tree.query_ball_point(points, degree_threshold)\n",
    "    \n",
    "    is_near = np.array([len(idx) > 0 for idx in indices])\n",
    "    \n",
    "    return is_near\n",
    "\n",
    "# Define threshold distance\n",
    "threshold_distance = 1.0 \n",
    "\n",
    "# apply function\n",
    "faults['IsServiceStation'] = is_near_service_station_kdtree(\n",
    "    faults, service_stations, threshold_distance)"
   ]
  },
  {
   "cell_type": "code",
   "execution_count": 12,
   "id": "6b74ae27-0864-4879-8340-a194fba817e1",
   "metadata": {},
   "outputs": [],
   "source": [
    "threshold_miles = 0.5\n",
    "threshold_meters = threshold_miles * 1609.34"
   ]
  },
  {
   "cell_type": "code",
   "execution_count": 13,
   "id": "4cff9608-4d51-4617-9636-a7c569046a67",
   "metadata": {},
   "outputs": [
    {
     "data": {
      "text/plain": [
       "IsServiceStation\n",
       "False    0.889795\n",
       "True     0.110205\n",
       "Name: proportion, dtype: float64"
      ]
     },
     "execution_count": 13,
     "metadata": {},
     "output_type": "execute_result"
    }
   ],
   "source": [
    "faults['IsServiceStation'].value_counts(normalize = True)"
   ]
  },
  {
   "cell_type": "markdown",
   "id": "2255d6c7-baa9-46e8-b3a6-82bc94cfee8a",
   "metadata": {},
   "source": [
    "**Diagnostics (Features) : Cleaning Data**"
   ]
  },
  {
   "cell_type": "code",
   "execution_count": 21,
   "id": "9693e894-9c9b-4536-a50a-23f49ea4d14a",
   "metadata": {},
   "outputs": [],
   "source": [
    "diagnostics['Value'] = diagnostics['Value'].replace({'FALSE': 0, 'TRUE': 1})"
   ]
  },
  {
   "cell_type": "code",
   "execution_count": 22,
   "id": "6c79b53c-37d7-48cd-b282-0ab2771179f8",
   "metadata": {},
   "outputs": [
    {
     "name": "stdout",
     "output_type": "stream",
     "text": [
      "<class 'pandas.core.frame.DataFrame'>\n",
      "RangeIndex: 12821626 entries, 0 to 12821625\n",
      "Data columns (total 4 columns):\n",
      " #   Column   Dtype \n",
      "---  ------   ----- \n",
      " 0   Id       int64 \n",
      " 1   Name     object\n",
      " 2   Value    object\n",
      " 3   FaultId  int64 \n",
      "dtypes: int64(2), object(2)\n",
      "memory usage: 391.3+ MB\n"
     ]
    }
   ],
   "source": [
    "diagnostics.info()"
   ]
  },
  {
   "cell_type": "code",
   "execution_count": null,
   "id": "f85e7f3d-b6a8-4f6e-a8be-3851230586fa",
   "metadata": {},
   "outputs": [],
   "source": []
  },
  {
   "cell_type": "code",
   "execution_count": 26,
   "id": "531ea8e0-d5bc-49dd-a013-c552fbd98009",
   "metadata": {},
   "outputs": [
    {
     "data": {
      "text/html": [
       "<div>\n",
       "<style scoped>\n",
       "    .dataframe tbody tr th:only-of-type {\n",
       "        vertical-align: middle;\n",
       "    }\n",
       "\n",
       "    .dataframe tbody tr th {\n",
       "        vertical-align: top;\n",
       "    }\n",
       "\n",
       "    .dataframe thead th {\n",
       "        text-align: right;\n",
       "    }\n",
       "</style>\n",
       "<table border=\"1\" class=\"dataframe\">\n",
       "  <thead>\n",
       "    <tr style=\"text-align: right;\">\n",
       "      <th></th>\n",
       "      <th>Id</th>\n",
       "      <th>Name</th>\n",
       "      <th>Value</th>\n",
       "      <th>FaultId</th>\n",
       "    </tr>\n",
       "  </thead>\n",
       "  <tbody>\n",
       "    <tr>\n",
       "      <th>0</th>\n",
       "      <td>1</td>\n",
       "      <td>IgnStatus</td>\n",
       "      <td>False</td>\n",
       "      <td>1</td>\n",
       "    </tr>\n",
       "    <tr>\n",
       "      <th>6</th>\n",
       "      <td>7</td>\n",
       "      <td>IntakeManifoldTemperature</td>\n",
       "      <td>78.8</td>\n",
       "      <td>1</td>\n",
       "    </tr>\n",
       "    <tr>\n",
       "      <th>10</th>\n",
       "      <td>11</td>\n",
       "      <td>LampStatus</td>\n",
       "      <td>1023</td>\n",
       "      <td>1</td>\n",
       "    </tr>\n",
       "    <tr>\n",
       "      <th>13</th>\n",
       "      <td>14</td>\n",
       "      <td>Speed</td>\n",
       "      <td>0</td>\n",
       "      <td>1</td>\n",
       "    </tr>\n",
       "    <tr>\n",
       "      <th>18</th>\n",
       "      <td>19</td>\n",
       "      <td>ParkingBrake</td>\n",
       "      <td>True</td>\n",
       "      <td>1</td>\n",
       "    </tr>\n",
       "  </tbody>\n",
       "</table>\n",
       "</div>"
      ],
      "text/plain": [
       "    Id                       Name  Value  FaultId\n",
       "0    1                  IgnStatus  False        1\n",
       "6    7  IntakeManifoldTemperature   78.8        1\n",
       "10  11                 LampStatus   1023        1\n",
       "13  14                      Speed      0        1\n",
       "18  19               ParkingBrake   True        1"
      ]
     },
     "execution_count": 26,
     "metadata": {},
     "output_type": "execute_result"
    }
   ],
   "source": [
    "diagnostics[diagnostics['Name'].isin(['FuelTemperature', 'IgnStatus', 'IntakeManifoldTemperature', 'LampStatus', 'ParkingBrake', 'ServiceDistance', 'Speed'])].head()"
   ]
  },
  {
   "cell_type": "code",
   "execution_count": 28,
   "id": "d816d0ab-e721-48c0-82bd-92640b8564c7",
   "metadata": {},
   "outputs": [
    {
     "ename": "NameError",
     "evalue": "name 'features' is not defined",
     "output_type": "error",
     "traceback": [
      "\u001b[1;31m---------------------------------------------------------------------------\u001b[0m",
      "\u001b[1;31mNameError\u001b[0m                                 Traceback (most recent call last)",
      "Cell \u001b[1;32mIn[28], line 1\u001b[0m\n\u001b[1;32m----> 1\u001b[0m features[[\u001b[38;5;124m'\u001b[39m\u001b[38;5;124mIgnStatus\u001b[39m\u001b[38;5;124m'\u001b[39m, \u001b[38;5;124m'\u001b[39m\u001b[38;5;124mIntakeManifoldTemperature\u001b[39m\u001b[38;5;124m'\u001b[39m, \u001b[38;5;124m'\u001b[39m\u001b[38;5;124mLampStatus\u001b[39m\u001b[38;5;124m'\u001b[39m,\u001b[38;5;124m'\u001b[39m\u001b[38;5;124mSpeed\u001b[39m\u001b[38;5;124m'\u001b[39m,\u001b[38;5;124m'\u001b[39m\u001b[38;5;124mParkingBrake\u001b[39m\u001b[38;5;124m'\u001b[39m]]\u001b[38;5;241m.\u001b[39mhead()\n",
      "\u001b[1;31mNameError\u001b[0m: name 'features' is not defined"
     ]
    }
   ],
   "source": [
    "features[['IgnStatus', 'IntakeManifoldTemperature', 'LampStatus','Speed','ParkingBrake']].head()"
   ]
  },
  {
   "cell_type": "code",
   "execution_count": 30,
   "id": "3e3294af-23a8-4bcd-93c5-dadb54b681f4",
   "metadata": {},
   "outputs": [],
   "source": [
    "diagnostics_w = diagnostics.pivot(index='FaultId', columns='Name', values='Value')\n",
    "features = diagnostics_w.reset_index()\n",
    "features.columns.name = None"
   ]
  },
  {
   "cell_type": "code",
   "execution_count": null,
   "id": "dcd9c4be-e46d-4e08-ac56-6c902955461f",
   "metadata": {},
   "outputs": [],
   "source": []
  },
  {
   "cell_type": "markdown",
   "id": "4dc74fad-2791-44a1-9a5b-3e11fdbe501f",
   "metadata": {},
   "source": [
    "**Merged Faults and Features**"
   ]
  },
  {
   "cell_type": "code",
   "execution_count": 32,
   "id": "ee5398fb-9dc2-45c2-bb18-89fd6d53046b",
   "metadata": {},
   "outputs": [],
   "source": [
    "combined = pd.merge(faults, \n",
    "                    features, \n",
    "                    left_on='RecordID', \n",
    "                    right_on='FaultId',\n",
    "                    how = 'left')"
   ]
  },
  {
   "cell_type": "markdown",
   "id": "742227f7-9fca-4f38-8549-4aec8f653d81",
   "metadata": {},
   "source": [
    "**Classifying a Full Derate**"
   ]
  },
  {
   "cell_type": "code",
   "execution_count": 35,
   "id": "edf450cf-cc2c-4412-8560-04e99ad65122",
   "metadata": {},
   "outputs": [
    {
     "data": {
      "text/plain": [
       "IsDerateFull\n",
       "False    1186728\n",
       "True         607\n",
       "Name: count, dtype: int64"
      ]
     },
     "execution_count": 35,
     "metadata": {},
     "output_type": "execute_result"
    }
   ],
   "source": [
    "combined['IsDerateFull'] = (combined['spn'] == 5246) & (combined['active'] == True)\n",
    "combined['IsDerateFull'].value_counts()"
   ]
  },
  {
   "cell_type": "code",
   "execution_count": null,
   "id": "d6146055-4c3e-42f7-a578-ee350b0f00b7",
   "metadata": {},
   "outputs": [],
   "source": [
    "faults['IsFullDerate'] = (faults['spn'] == 5246) & (faults['active'] == True)"
   ]
  },
  {
   "cell_type": "markdown",
   "id": "40f8cccc-47de-4cb0-81c0-ec505a466da1",
   "metadata": {},
   "source": [
    "**Filter Area**"
   ]
  },
  {
   "cell_type": "code",
   "execution_count": 38,
   "id": "cc505cb9-45e3-4fd5-8509-dce05a836d03",
   "metadata": {},
   "outputs": [
    {
     "data": {
      "text/plain": [
       "IsServiceStation\n",
       "False    1.0\n",
       "Name: proportion, dtype: float64"
      ]
     },
     "execution_count": 38,
     "metadata": {},
     "output_type": "execute_result"
    }
   ],
   "source": [
    "combined_filtered = combined[combined['IsServiceStation'] == False]\n",
    "combined_filtered = combined_filtered[~((combined_filtered['spn'] == 5246) & (combined_filtered['active'] == False))]\n",
    "combined_filtered['IsServiceStation'].value_counts(normalize = True)"
   ]
  },
  {
   "cell_type": "markdown",
   "id": "da15a145-85d3-4e42-9aaf-34dff29ac151",
   "metadata": {},
   "source": [
    "**Inspect derate vehicle with highest n faults**"
   ]
  },
  {
   "cell_type": "code",
   "execution_count": 40,
   "id": "2d658aa1-f266-4b16-ac7c-389a424a81f0",
   "metadata": {},
   "outputs": [
    {
     "name": "stdout",
     "output_type": "stream",
     "text": [
      "EquipmentID 1524 has the most rows to inspect\n"
     ]
    },
    {
     "data": {
      "text/html": [
       "<div>\n",
       "<style scoped>\n",
       "    .dataframe tbody tr th:only-of-type {\n",
       "        vertical-align: middle;\n",
       "    }\n",
       "\n",
       "    .dataframe tbody tr th {\n",
       "        vertical-align: top;\n",
       "    }\n",
       "\n",
       "    .dataframe thead th {\n",
       "        text-align: right;\n",
       "    }\n",
       "</style>\n",
       "<table border=\"1\" class=\"dataframe\">\n",
       "  <thead>\n",
       "    <tr style=\"text-align: right;\">\n",
       "      <th></th>\n",
       "      <th>EquipmentID</th>\n",
       "      <th>row_count</th>\n",
       "    </tr>\n",
       "  </thead>\n",
       "  <tbody>\n",
       "    <tr>\n",
       "      <th>38</th>\n",
       "      <td>1524</td>\n",
       "      <td>31</td>\n",
       "    </tr>\n",
       "    <tr>\n",
       "      <th>43</th>\n",
       "      <td>1535</td>\n",
       "      <td>23</td>\n",
       "    </tr>\n",
       "    <tr>\n",
       "      <th>39</th>\n",
       "      <td>1525</td>\n",
       "      <td>15</td>\n",
       "    </tr>\n",
       "    <tr>\n",
       "      <th>45</th>\n",
       "      <td>1539</td>\n",
       "      <td>14</td>\n",
       "    </tr>\n",
       "    <tr>\n",
       "      <th>3</th>\n",
       "      <td>305</td>\n",
       "      <td>13</td>\n",
       "    </tr>\n",
       "  </tbody>\n",
       "</table>\n",
       "</div>"
      ],
      "text/plain": [
       "   EquipmentID  row_count\n",
       "38        1524         31\n",
       "43        1535         23\n",
       "39        1525         15\n",
       "45        1539         14\n",
       "3          305         13"
      ]
     },
     "execution_count": 40,
     "metadata": {},
     "output_type": "execute_result"
    }
   ],
   "source": [
    "all_derate_vehicles = combined_filtered[(combined_filtered['IsDerateFull'] == True)]\n",
    "grouped_derate_vehicles = all_derate_vehicles.groupby('EquipmentID').size().reset_index(name='row_count')\n",
    "grouped_derate_vehicles = grouped_derate_vehicles.sort_values(by='row_count', ascending=False)\n",
    "print('EquipmentID 1524 has the most rows to inspect')\n",
    "grouped_derate_vehicles.head()"
   ]
  },
  {
   "cell_type": "code",
   "execution_count": 41,
   "id": "8cf6d3bb-0d85-4252-b996-9b29e878cebc",
   "metadata": {},
   "outputs": [],
   "source": [
    "#Truck_1524 = combined_filtered[combined_filtered['EquipmentID'] == 1524]\n",
    "#Truck_1524.head(31)\n",
    "#Truck_1524.to_csv('Truck_1524.csv', index=False)"
   ]
  },
  {
   "cell_type": "markdown",
   "id": "dbbff502-2636-4765-b132-bfcce000ff24",
   "metadata": {},
   "source": [
    "**Add a New Feature: Severity Level**"
   ]
  },
  {
   "cell_type": "code",
   "execution_count": 44,
   "id": "6539ef35-361c-4d8f-8bb2-3ec827c734a0",
   "metadata": {},
   "outputs": [],
   "source": [
    "import re\n",
    "\n",
    "def extract_severity(text):\n",
    "\n",
    "    if pd.isna(text):\n",
    "        return np.nan\n",
    "        \n",
    "    # \"Severity\" followed by \"Low\", \"Medium\", or \"High\"\n",
    "    pattern = r'Severity\\s+(Low|Medium|High)'\n",
    "    \n",
    "    # Search for the pattern \n",
    "    match = re.search(pattern, text)\n",
    "    \n",
    "    if match:\n",
    "        # Return \"Severity\" plus the matched level\n",
    "        return f\"Severity {match.group(1)}\"\n",
    "    else:\n",
    "        return np.nan\n",
    "\n",
    "combined_filtered['SeverityLevel'] = combined_filtered['eventDescription'].apply(extract_severity)"
   ]
  },
  {
   "cell_type": "code",
   "execution_count": 47,
   "id": "0e380e74-71fa-4bef-a7c8-cf81b96db47d",
   "metadata": {},
   "outputs": [],
   "source": [
    "severity_map = {\n",
    "    'Severity Low': 1,\n",
    "    'Severity Medium': 2,\n",
    "    'Severity High': 3\n",
    "}\n",
    "\n",
    "combined_filtered['SeverityLevelFeature'] = combined_filtered['SeverityLevel'].map(severity_map)\n",
    "\n",
    "combined_filtered.loc[combined_filtered['spn'] == 1569, 'SeverityLevelFeature'] = 4\n",
    "#combined_filtered.loc[combined_filtered['spn'] == 5246, 'SeverityLevelFeature'] = 5"
   ]
  },
  {
   "cell_type": "code",
   "execution_count": 48,
   "id": "dfa7f91f-c9d3-4e19-8fc0-ff3f086da3a6",
   "metadata": {},
   "outputs": [
    {
     "data": {
      "text/html": [
       "<div>\n",
       "<style scoped>\n",
       "    .dataframe tbody tr th:only-of-type {\n",
       "        vertical-align: middle;\n",
       "    }\n",
       "\n",
       "    .dataframe tbody tr th {\n",
       "        vertical-align: top;\n",
       "    }\n",
       "\n",
       "    .dataframe thead th {\n",
       "        text-align: right;\n",
       "    }\n",
       "</style>\n",
       "<table border=\"1\" class=\"dataframe\">\n",
       "  <thead>\n",
       "    <tr style=\"text-align: right;\">\n",
       "      <th></th>\n",
       "      <th>eventDescription</th>\n",
       "      <th>SeverityLevel</th>\n",
       "      <th>SeverityLevelFeature</th>\n",
       "    </tr>\n",
       "  </thead>\n",
       "  <tbody>\n",
       "    <tr>\n",
       "      <th>0</th>\n",
       "      <td>Low (Severity Low) Engine Coolant Level</td>\n",
       "      <td>Severity Low</td>\n",
       "      <td>1.0</td>\n",
       "    </tr>\n",
       "    <tr>\n",
       "      <th>5</th>\n",
       "      <td>Low (Severity Low) Engine Coolant Level</td>\n",
       "      <td>Severity Low</td>\n",
       "      <td>1.0</td>\n",
       "    </tr>\n",
       "    <tr>\n",
       "      <th>6</th>\n",
       "      <td>Low (Severity Low) Engine Coolant Level</td>\n",
       "      <td>Severity Low</td>\n",
       "      <td>1.0</td>\n",
       "    </tr>\n",
       "    <tr>\n",
       "      <th>7</th>\n",
       "      <td>Low (Severity Low) Engine Coolant Level</td>\n",
       "      <td>Severity Low</td>\n",
       "      <td>1.0</td>\n",
       "    </tr>\n",
       "    <tr>\n",
       "      <th>8</th>\n",
       "      <td>High (Severity Low) Water In Fuel Indicator</td>\n",
       "      <td>Severity Low</td>\n",
       "      <td>1.0</td>\n",
       "    </tr>\n",
       "  </tbody>\n",
       "</table>\n",
       "</div>"
      ],
      "text/plain": [
       "                              eventDescription SeverityLevel  \\\n",
       "0      Low (Severity Low) Engine Coolant Level  Severity Low   \n",
       "5      Low (Severity Low) Engine Coolant Level  Severity Low   \n",
       "6      Low (Severity Low) Engine Coolant Level  Severity Low   \n",
       "7      Low (Severity Low) Engine Coolant Level  Severity Low   \n",
       "8  High (Severity Low) Water In Fuel Indicator  Severity Low   \n",
       "\n",
       "   SeverityLevelFeature  \n",
       "0                   1.0  \n",
       "5                   1.0  \n",
       "6                   1.0  \n",
       "7                   1.0  \n",
       "8                   1.0  "
      ]
     },
     "execution_count": 48,
     "metadata": {},
     "output_type": "execute_result"
    }
   ],
   "source": [
    "inspect_column = combined_filtered[['eventDescription', 'SeverityLevel','SeverityLevelFeature']].dropna(subset=['SeverityLevel'])\n",
    "inspect_column.head()"
   ]
  },
  {
   "cell_type": "markdown",
   "id": "c2c6f1c8-2d22-4c2f-9a88-5ac8606debd1",
   "metadata": {},
   "source": [
    "**Convert Features to_numeric**"
   ]
  },
  {
   "cell_type": "code",
   "execution_count": 50,
   "id": "b82ce800-3850-40fd-81b6-31380b5f71e5",
   "metadata": {},
   "outputs": [],
   "source": [
    "feature_numeric_columns = [\n",
    "    'AcceleratorPedal', 'BarometricPressure', 'CruiseControlSetSpeed', \n",
    "    'DistanceLtd', 'EngineCoolantTemperature', 'EngineLoad', 'EngineOilPressure', 'EngineOilTemperature',\n",
    "    'EngineRpm', 'EngineTimeLtd', 'FuelLevel', 'FuelLtd', 'FuelRate', 'FuelTemperature', \n",
    "    'IntakeManifoldTemperature', 'ParkingBrake', 'ServiceDistance', 'Speed', \n",
    "    'SwitchedBatteryVoltage', 'Throttle', 'TurboBoostPressure'\n",
    "]\n",
    "\n",
    "combined_filtered[feature_numeric_columns] = combined_filtered[feature_numeric_columns].apply(pd.to_numeric, errors='coerce')\n",
    "\n",
    "#combined_filtered[feature_numeric_columns].dtypes"
   ]
  },
  {
   "cell_type": "markdown",
   "id": "1865370d-f115-4a9e-8d68-38a56e165268",
   "metadata": {},
   "source": [
    "**Identify derate rows before creating derate window**"
   ]
  },
  {
   "cell_type": "code",
   "execution_count": 55,
   "id": "9ae47fc0-9858-48b8-8e0f-42232d681099",
   "metadata": {},
   "outputs": [
    {
     "data": {
      "text/plain": [
       "IsDerateFull  active\n",
       "True          True      498\n",
       "Name: count, dtype: int64"
      ]
     },
     "execution_count": 55,
     "metadata": {},
     "output_type": "execute_result"
    }
   ],
   "source": [
    "inspect_derate_rows = combined_filtered[combined_filtered['IsDerateFull'] == True][['IsDerateFull', 'active']].value_counts()\n",
    "inspect_derate_rows"
   ]
  },
  {
   "cell_type": "code",
   "execution_count": null,
   "id": "a9f25637-9d02-4704-b988-ca76e2e76cba",
   "metadata": {},
   "outputs": [],
   "source": []
  },
  {
   "cell_type": "markdown",
   "id": "4e3a57c9-8645-4161-bda0-971fccaa8546",
   "metadata": {},
   "source": [
    "**Identify False Derates : any subsequent derate within 24hr period**"
   ]
  },
  {
   "cell_type": "code",
   "execution_count": 57,
   "id": "3a805870-3b4c-4130-bc40-f53604c0cc1b",
   "metadata": {},
   "outputs": [
    {
     "name": "stdout",
     "output_type": "stream",
     "text": [
      "             EventTimeStamp EquipmentID   spn  IsDerateActual\n",
      "516208  2016-07-12 19:11:07         301  5246            True\n",
      "1171245 2020-01-06 10:13:57         302  5246            True\n",
      "1173036 2020-01-13 13:18:31         302  5246            True\n",
      "1181996 2020-02-14 11:21:54         302  5246            True\n",
      "376483  2016-02-15 10:59:28         304  5246            True\n",
      "...                     ...         ...   ...             ...\n",
      "998062  2018-07-10 13:37:00        1942  5246           False\n",
      "1006240 2018-08-06 10:37:53        1946  5246            True\n",
      "990328  2018-06-14 14:43:49        1978  5246            True\n",
      "993600  2018-06-25 14:48:16         305  5246            True\n",
      "1015659 2018-09-07 11:22:40         306  5246            True\n",
      "\n",
      "[498 rows x 4 columns]\n",
      "             EventTimeStamp EquipmentID   spn  IsDerateActual  \\\n",
      "516208  2016-07-12 19:11:07         301  5246            True   \n",
      "1171245 2020-01-06 10:13:57         302  5246            True   \n",
      "1173036 2020-01-13 13:18:31         302  5246            True   \n",
      "1181996 2020-02-14 11:21:54         302  5246            True   \n",
      "376483  2016-02-15 10:59:28         304  5246            True   \n",
      "...                     ...         ...   ...             ...   \n",
      "998062  2018-07-10 13:37:00        1942  5246           False   \n",
      "1006240 2018-08-06 10:37:53        1946  5246            True   \n",
      "990328  2018-06-14 14:43:49        1978  5246            True   \n",
      "993600  2018-06-25 14:48:16         305  5246            True   \n",
      "1015659 2018-09-07 11:22:40         306  5246            True   \n",
      "\n",
      "        TimeSincePrevDerate  \n",
      "516208                  NaT  \n",
      "1171245                 NaT  \n",
      "1173036     7 days 03:04:34  \n",
      "1181996    31 days 22:03:23  \n",
      "376483                  NaT  \n",
      "...                     ...  \n",
      "998062      0 days 02:30:04  \n",
      "1006240                 NaT  \n",
      "990328                  NaT  \n",
      "993600                  NaT  \n",
      "1015659                 NaT  \n",
      "\n",
      "[498 rows x 5 columns]\n"
     ]
    }
   ],
   "source": [
    "combined_filtered['EventTimeStamp'] = pd.to_datetime(combined_filtered['EventTimeStamp'])\n",
    "combined_filtered['IsDerateActual'] = (combined_filtered['spn'] == 5246)\n",
    "\n",
    "# filter to only derate events and sort by equipment ID and timestamp\n",
    "derate_events = combined_filtered[combined_filtered['spn'] == 5246].copy()\n",
    "derate_events = derate_events.sort_values(['EquipmentID', 'EventTimeStamp'])\n",
    "\n",
    "# empty list to store indices of duplicate derates (within 24 hours)\n",
    "duplicate_indices = []\n",
    "\n",
    "# group by equipment id\n",
    "for equipment_id, group in derate_events.groupby('EquipmentID'):\n",
    "    # Reset the index for easier iteration\n",
    "    group = group.reset_index()\n",
    "    \n",
    "    # keep track of the last valid derate timestamp\n",
    "    last_valid_timestamp = None\n",
    "    \n",
    "    for i, row in group.iterrows():\n",
    "        current_timestamp = row['EventTimeStamp']\n",
    "        \n",
    "        if last_valid_timestamp is None:\n",
    "            # First derate for this equipment - keep it\n",
    "            last_valid_timestamp = current_timestamp\n",
    "        elif (current_timestamp - last_valid_timestamp).total_seconds() < 24 * 3600:\n",
    "            # This derate is within 24 hours of the last valid one - mark as duplicate\n",
    "            duplicate_indices.append(row['index'])\n",
    "        else:\n",
    "            # This derate is more than 24 hours after the last valid one - keep it\n",
    "            last_valid_timestamp = current_timestamp\n",
    "\n",
    "# mark duplicates as not actual derates\n",
    "if duplicate_indices:\n",
    "    combined_filtered.loc[duplicate_indices, 'IsDerateActual'] = False\n",
    "\n",
    "# results\n",
    "verification_df = combined_filtered[combined_filtered['spn'] == 5246][['EventTimeStamp', 'EquipmentID', 'spn', 'IsDerateActual']].sort_values(['EquipmentID', 'EventTimeStamp'])\n",
    "print(verification_df)\n",
    "\n",
    "# verify\n",
    "verification_df['TimeSincePrevDerate'] = verification_df.groupby('EquipmentID')['EventTimeStamp'].diff()\n",
    "print(verification_df)"
   ]
  },
  {
   "cell_type": "code",
   "execution_count": 124,
   "id": "f1f47823-1601-4f51-9dcb-7f5b220974ac",
   "metadata": {},
   "outputs": [
    {
     "data": {
      "text/plain": [
       "IsDerateActual\n",
       "False    1055549\n",
       "True         355\n",
       "Name: count, dtype: int64"
      ]
     },
     "execution_count": 124,
     "metadata": {},
     "output_type": "execute_result"
    }
   ],
   "source": [
    "combined_filtered['IsDerateActual'].value_counts()"
   ]
  },
  {
   "cell_type": "markdown",
   "id": "4d7b3636-b86b-45c0-a8f8-44d068b45dc5",
   "metadata": {},
   "source": [
    "**Filter our False Derates**"
   ]
  },
  {
   "cell_type": "code",
   "execution_count": 59,
   "id": "9e36e460-4023-467d-ab35-b122a59a8dc2",
   "metadata": {},
   "outputs": [],
   "source": [
    "combined_filtered = combined_filtered[~((combined_filtered['spn'] == 5246) & (combined_filtered['IsDerateActual'] == False))]"
   ]
  },
  {
   "cell_type": "markdown",
   "id": "36a576f2-fe74-4e99-bf06-c536276014be",
   "metadata": {},
   "source": [
    "**Derate Window**"
   ]
  },
  {
   "cell_type": "code",
   "execution_count": 61,
   "id": "102bb5f5-257e-44e7-9e41-9b3250e1fb57",
   "metadata": {},
   "outputs": [
    {
     "name": "stdout",
     "output_type": "stream",
     "text": [
      "Total events: 1055904\n",
      "Events predicting a derate: 1090\n"
     ]
    }
   ],
   "source": [
    "# datetime format\n",
    "combined_filtered['EventTimeStamp'] = pd.to_datetime(combined_filtered['EventTimeStamp'])\n",
    "\n",
    "# sort\n",
    "combined_filtered = combined_filtered.sort_values(['EquipmentID', 'EventTimeStamp'])\n",
    "\n",
    "# intitial target column\n",
    "combined_filtered['DeratePredictionTarget'] = 0\n",
    "\n",
    "# helper dataframe with just the derate events\n",
    "derate_events = combined_filtered[combined_filtered['IsDerateActual']].copy()\n",
    "\n",
    "# group by EquipmentID \n",
    "for equipment_id, group in combined_filtered.groupby('EquipmentID'):\n",
    "    # Get derate events for this truck only\n",
    "    truck_derates = derate_events[derate_events['EquipmentID'] == equipment_id]\n",
    "    \n",
    "    if len(truck_derates) > 0:\n",
    "        # get indices and timestamps for this truck's rows\n",
    "        truck_indices = group.index\n",
    "        truck_timestamps = group['EventTimeStamp'].values\n",
    "        \n",
    "        # for each derate event in this truck\n",
    "        for _, derate_row in truck_derates.iterrows():\n",
    "            derate_time = derate_row['EventTimeStamp']\n",
    "            \n",
    "            # window: \n",
    "            window_start = derate_time - pd.Timedelta(hours=8)\n",
    "            window_end = derate_time - pd.Timedelta(hours=.001)\n",
    "            \n",
    "            # all events in the prediction window\n",
    "            in_window = (truck_timestamps >= window_start) & (truck_timestamps <= window_end)\n",
    "            indices_to_mark = truck_indices[in_window]\n",
    "            \n",
    "            # marked as predicting a derate\n",
    "            combined_filtered.loc[indices_to_mark, 'DeratePredictionTarget'] = 1\n",
    "\n",
    "# results\n",
    "print(f\"Total events: {len(combined_filtered)}\")\n",
    "print(f\"Events predicting a derate: {combined_filtered['DeratePredictionTarget'].sum()}\")"
   ]
  },
  {
   "cell_type": "code",
   "execution_count": 62,
   "id": "0d12920d-d5af-4c57-b41e-0730610857b6",
   "metadata": {},
   "outputs": [],
   "source": [
    "# Truck_1524_test_v5 = combined_filtered[combined_filtered['EquipmentID'] == 1524]\n",
    "# Truck_1524_test_v5.to_csv('Truck_1524_test_v5.csv', index=False)"
   ]
  },
  {
   "cell_type": "markdown",
   "id": "56bc28dd-b385-4ec5-9eeb-ed1f03aa9082",
   "metadata": {},
   "source": [
    "**Investigate NaN values in both outcomes of response variable:**\n",
    "\n",
    "*Is there a difference in available data between the two outcomes: IsDerateFull T/F*"
   ]
  },
  {
   "cell_type": "code",
   "execution_count": 64,
   "id": "075b933a-7418-4a1d-8a38-d26fd0db4e3c",
   "metadata": {},
   "outputs": [],
   "source": [
    "from scipy.stats import chi2_contingency"
   ]
  },
  {
   "cell_type": "code",
   "execution_count": 65,
   "id": "c5d552b9-5883-497c-86df-66ea4ab74bd8",
   "metadata": {},
   "outputs": [],
   "source": [
    "feature_columns = [\n",
    "    'AcceleratorPedal', 'BarometricPressure', 'CruiseControlActive', 'CruiseControlSetSpeed', \n",
    "    'DistanceLtd', 'EngineCoolantTemperature', 'EngineLoad', 'EngineOilPressure', 'EngineOilTemperature',\n",
    "    'EngineRpm', 'EngineTimeLtd', 'FuelLevel', 'FuelLtd', 'FuelRate', 'FuelTemperature', 'IgnStatus', \n",
    "    'IntakeManifoldTemperature', 'LampStatus', 'ParkingBrake', 'ServiceDistance', 'Speed', \n",
    "    'SwitchedBatteryVoltage', 'Throttle', 'TurboBoostPressure'\n",
    "]\n",
    "\n",
    "derate_true = combined[combined['IsDerateFull'] == True]\n",
    "derate_false = combined[combined['IsDerateFull'] == False]\n",
    "\n",
    "derate_true = derate_true[feature_columns]\n",
    "derate_false = derate_false[feature_columns]\n",
    "\n",
    "nan_count_true = derate_true.isna().sum()\n",
    "non_nan_count_true = derate_true.count()\n",
    "\n",
    "nan_count_false = derate_false.isna().sum()\n",
    "non_nan_count_false = derate_false.count()\n",
    "\n",
    "nan_percent_true = (nan_count_true / len(derate_true)) * 100\n",
    "nan_percent_false = (nan_count_false / len(derate_false)) * 100\n",
    "\n",
    "nan_summary_true = pd.DataFrame({\n",
    "    'Feature': nan_count_true.index, \n",
    "    'NaN Count': nan_count_true.values,\n",
    "    'Non-NaN Count': non_nan_count_true.values,\n",
    "    'NaN Percentage (%)_IsDerateFull = True': nan_percent_true.values\n",
    "})\n",
    "\n",
    "nan_summary_false = pd.DataFrame({\n",
    "    'Feature': nan_count_false.index, \n",
    "    'NaN Count': nan_count_false.values,\n",
    "    'Non-NaN Count': non_nan_count_false.values,\n",
    "    'NaN Percentage (%)_IsDerateFull = False': nan_percent_false.values\n",
    "})"
   ]
  },
  {
   "cell_type": "code",
   "execution_count": 66,
   "id": "dd6c7a1e-2a60-49ba-ad77-bb5766081b1e",
   "metadata": {},
   "outputs": [],
   "source": [
    "true_pct = nan_summary_true[['Feature','NaN Percentage (%)_IsDerateFull = True']]\n",
    "false_pct = nan_summary_false[['Feature','NaN Percentage (%)_IsDerateFull = False']]\n",
    "nan_comparison = pd.merge(true_pct, false_pct, on = 'Feature')"
   ]
  },
  {
   "cell_type": "code",
   "execution_count": 67,
   "id": "15b26834-72e4-4f8a-8b71-9b48b0d96e4d",
   "metadata": {},
   "outputs": [
    {
     "data": {
      "text/html": [
       "<div>\n",
       "<style scoped>\n",
       "    .dataframe tbody tr th:only-of-type {\n",
       "        vertical-align: middle;\n",
       "    }\n",
       "\n",
       "    .dataframe tbody tr th {\n",
       "        vertical-align: top;\n",
       "    }\n",
       "\n",
       "    .dataframe thead th {\n",
       "        text-align: right;\n",
       "    }\n",
       "</style>\n",
       "<table border=\"1\" class=\"dataframe\">\n",
       "  <thead>\n",
       "    <tr style=\"text-align: right;\">\n",
       "      <th></th>\n",
       "      <th>Feature</th>\n",
       "      <th>NaN Percentage (%)_IsDerateFull = True</th>\n",
       "      <th>NaN Percentage (%)_IsDerateFull = False</th>\n",
       "      <th>Difference</th>\n",
       "    </tr>\n",
       "  </thead>\n",
       "  <tbody>\n",
       "    <tr>\n",
       "      <th>15</th>\n",
       "      <td>IgnStatus</td>\n",
       "      <td>0.000000</td>\n",
       "      <td>48.779586</td>\n",
       "      <td>48.779586</td>\n",
       "    </tr>\n",
       "    <tr>\n",
       "      <th>11</th>\n",
       "      <td>FuelLevel</td>\n",
       "      <td>11.037891</td>\n",
       "      <td>57.677328</td>\n",
       "      <td>46.639437</td>\n",
       "    </tr>\n",
       "    <tr>\n",
       "      <th>16</th>\n",
       "      <td>IntakeManifoldTemperature</td>\n",
       "      <td>7.578254</td>\n",
       "      <td>50.643281</td>\n",
       "      <td>43.065028</td>\n",
       "    </tr>\n",
       "    <tr>\n",
       "      <th>9</th>\n",
       "      <td>EngineRpm</td>\n",
       "      <td>7.578254</td>\n",
       "      <td>50.590194</td>\n",
       "      <td>43.011941</td>\n",
       "    </tr>\n",
       "    <tr>\n",
       "      <th>1</th>\n",
       "      <td>BarometricPressure</td>\n",
       "      <td>7.742998</td>\n",
       "      <td>50.669741</td>\n",
       "      <td>42.926742</td>\n",
       "    </tr>\n",
       "    <tr>\n",
       "      <th>5</th>\n",
       "      <td>EngineCoolantTemperature</td>\n",
       "      <td>7.742998</td>\n",
       "      <td>50.661735</td>\n",
       "      <td>42.918737</td>\n",
       "    </tr>\n",
       "    <tr>\n",
       "      <th>7</th>\n",
       "      <td>EngineOilPressure</td>\n",
       "      <td>8.072488</td>\n",
       "      <td>50.646989</td>\n",
       "      <td>42.574501</td>\n",
       "    </tr>\n",
       "    <tr>\n",
       "      <th>12</th>\n",
       "      <td>FuelLtd</td>\n",
       "      <td>8.401977</td>\n",
       "      <td>50.735215</td>\n",
       "      <td>42.333238</td>\n",
       "    </tr>\n",
       "    <tr>\n",
       "      <th>6</th>\n",
       "      <td>EngineLoad</td>\n",
       "      <td>8.896211</td>\n",
       "      <td>50.699065</td>\n",
       "      <td>41.802854</td>\n",
       "    </tr>\n",
       "    <tr>\n",
       "      <th>13</th>\n",
       "      <td>FuelRate</td>\n",
       "      <td>9.225700</td>\n",
       "      <td>50.731254</td>\n",
       "      <td>41.505554</td>\n",
       "    </tr>\n",
       "    <tr>\n",
       "      <th>20</th>\n",
       "      <td>Speed</td>\n",
       "      <td>9.719934</td>\n",
       "      <td>50.842316</td>\n",
       "      <td>41.122382</td>\n",
       "    </tr>\n",
       "    <tr>\n",
       "      <th>23</th>\n",
       "      <td>TurboBoostPressure</td>\n",
       "      <td>10.049423</td>\n",
       "      <td>50.889757</td>\n",
       "      <td>40.840334</td>\n",
       "    </tr>\n",
       "    <tr>\n",
       "      <th>8</th>\n",
       "      <td>EngineOilTemperature</td>\n",
       "      <td>10.214168</td>\n",
       "      <td>50.842400</td>\n",
       "      <td>40.628232</td>\n",
       "    </tr>\n",
       "    <tr>\n",
       "      <th>4</th>\n",
       "      <td>DistanceLtd</td>\n",
       "      <td>11.861614</td>\n",
       "      <td>50.680864</td>\n",
       "      <td>38.819249</td>\n",
       "    </tr>\n",
       "    <tr>\n",
       "      <th>10</th>\n",
       "      <td>EngineTimeLtd</td>\n",
       "      <td>21.746293</td>\n",
       "      <td>51.051041</td>\n",
       "      <td>29.304748</td>\n",
       "    </tr>\n",
       "    <tr>\n",
       "      <th>0</th>\n",
       "      <td>AcceleratorPedal</td>\n",
       "      <td>27.018122</td>\n",
       "      <td>55.217539</td>\n",
       "      <td>28.199417</td>\n",
       "    </tr>\n",
       "    <tr>\n",
       "      <th>14</th>\n",
       "      <td>FuelTemperature</td>\n",
       "      <td>49.917628</td>\n",
       "      <td>74.821020</td>\n",
       "      <td>24.903393</td>\n",
       "    </tr>\n",
       "    <tr>\n",
       "      <th>21</th>\n",
       "      <td>SwitchedBatteryVoltage</td>\n",
       "      <td>71.004942</td>\n",
       "      <td>90.403614</td>\n",
       "      <td>19.398672</td>\n",
       "    </tr>\n",
       "    <tr>\n",
       "      <th>3</th>\n",
       "      <td>CruiseControlSetSpeed</td>\n",
       "      <td>34.266886</td>\n",
       "      <td>51.458211</td>\n",
       "      <td>17.191325</td>\n",
       "    </tr>\n",
       "    <tr>\n",
       "      <th>2</th>\n",
       "      <td>CruiseControlActive</td>\n",
       "      <td>35.914333</td>\n",
       "      <td>51.587306</td>\n",
       "      <td>15.672973</td>\n",
       "    </tr>\n",
       "    <tr>\n",
       "      <th>22</th>\n",
       "      <td>Throttle</td>\n",
       "      <td>57.001647</td>\n",
       "      <td>64.588179</td>\n",
       "      <td>7.586531</td>\n",
       "    </tr>\n",
       "    <tr>\n",
       "      <th>18</th>\n",
       "      <td>ParkingBrake</td>\n",
       "      <td>59.472817</td>\n",
       "      <td>66.316966</td>\n",
       "      <td>6.844149</td>\n",
       "    </tr>\n",
       "    <tr>\n",
       "      <th>17</th>\n",
       "      <td>LampStatus</td>\n",
       "      <td>0.000000</td>\n",
       "      <td>0.000000</td>\n",
       "      <td>0.000000</td>\n",
       "    </tr>\n",
       "    <tr>\n",
       "      <th>19</th>\n",
       "      <td>ServiceDistance</td>\n",
       "      <td>100.000000</td>\n",
       "      <td>99.981883</td>\n",
       "      <td>-0.018117</td>\n",
       "    </tr>\n",
       "  </tbody>\n",
       "</table>\n",
       "</div>"
      ],
      "text/plain": [
       "                      Feature  NaN Percentage (%)_IsDerateFull = True  \\\n",
       "15                  IgnStatus                                0.000000   \n",
       "11                  FuelLevel                               11.037891   \n",
       "16  IntakeManifoldTemperature                                7.578254   \n",
       "9                   EngineRpm                                7.578254   \n",
       "1          BarometricPressure                                7.742998   \n",
       "5    EngineCoolantTemperature                                7.742998   \n",
       "7           EngineOilPressure                                8.072488   \n",
       "12                    FuelLtd                                8.401977   \n",
       "6                  EngineLoad                                8.896211   \n",
       "13                   FuelRate                                9.225700   \n",
       "20                      Speed                                9.719934   \n",
       "23         TurboBoostPressure                               10.049423   \n",
       "8        EngineOilTemperature                               10.214168   \n",
       "4                 DistanceLtd                               11.861614   \n",
       "10              EngineTimeLtd                               21.746293   \n",
       "0            AcceleratorPedal                               27.018122   \n",
       "14            FuelTemperature                               49.917628   \n",
       "21     SwitchedBatteryVoltage                               71.004942   \n",
       "3       CruiseControlSetSpeed                               34.266886   \n",
       "2         CruiseControlActive                               35.914333   \n",
       "22                   Throttle                               57.001647   \n",
       "18               ParkingBrake                               59.472817   \n",
       "17                 LampStatus                                0.000000   \n",
       "19            ServiceDistance                              100.000000   \n",
       "\n",
       "    NaN Percentage (%)_IsDerateFull = False  Difference  \n",
       "15                                48.779586   48.779586  \n",
       "11                                57.677328   46.639437  \n",
       "16                                50.643281   43.065028  \n",
       "9                                 50.590194   43.011941  \n",
       "1                                 50.669741   42.926742  \n",
       "5                                 50.661735   42.918737  \n",
       "7                                 50.646989   42.574501  \n",
       "12                                50.735215   42.333238  \n",
       "6                                 50.699065   41.802854  \n",
       "13                                50.731254   41.505554  \n",
       "20                                50.842316   41.122382  \n",
       "23                                50.889757   40.840334  \n",
       "8                                 50.842400   40.628232  \n",
       "4                                 50.680864   38.819249  \n",
       "10                                51.051041   29.304748  \n",
       "0                                 55.217539   28.199417  \n",
       "14                                74.821020   24.903393  \n",
       "21                                90.403614   19.398672  \n",
       "3                                 51.458211   17.191325  \n",
       "2                                 51.587306   15.672973  \n",
       "22                                64.588179    7.586531  \n",
       "18                                66.316966    6.844149  \n",
       "17                                 0.000000    0.000000  \n",
       "19                                99.981883   -0.018117  "
      ]
     },
     "execution_count": 67,
     "metadata": {},
     "output_type": "execute_result"
    }
   ],
   "source": [
    "nan_comparison['Difference'] =  nan_comparison['NaN Percentage (%)_IsDerateFull = False'] - nan_comparison['NaN Percentage (%)_IsDerateFull = True']\n",
    "nan_comparison_sorted = nan_comparison.sort_values(by='Difference', ascending = False)\n",
    "nan_comparison_sorted"
   ]
  },
  {
   "cell_type": "markdown",
   "id": "171915ec-7d15-47e4-bf9c-2ba05f81a43d",
   "metadata": {},
   "source": [
    "**Identify features for model:**\n",
    "\n",
    "*Are there features that show trends over time?*"
   ]
  },
  {
   "cell_type": "code",
   "execution_count": 69,
   "id": "377c4f87-3759-47ad-93b5-34c07e03e8a7",
   "metadata": {},
   "outputs": [],
   "source": [
    "features = [\n",
    "    'DistanceLtd',\n",
    "    'EngineOilTemperature',\n",
    "    'TurboBoostPressure',\n",
    "    'FuelRate',\n",
    "    'EngineLoad',\n",
    "    'EngineOilPressure',\n",
    "    'EngineCoolantTemperature',\n",
    "    'BarometricPressure',\n",
    "    'EngineRpm',\n",
    "    'IntakeManifoldTemperature',\n",
    "    'FuelTemperature',\n",
    "    'SwitchedBatteryVoltage',\n",
    "    'SeverityLevelFeature'\n",
    "]"
   ]
  },
  {
   "cell_type": "markdown",
   "id": "841d6ec1-9e42-4d1e-a232-b4c50cfbc70c",
   "metadata": {},
   "source": [
    "**Statistic Models**"
   ]
  },
  {
   "cell_type": "code",
   "execution_count": 73,
   "id": "d0dc7033-66f6-42db-a8ae-ad2cac498a2a",
   "metadata": {},
   "outputs": [],
   "source": [
    "from sklearn.model_selection import train_test_split\n",
    "from sklearn.preprocessing import StandardScaler\n",
    "from sklearn.linear_model import LogisticRegression\n",
    "from sklearn.metrics import classification_report, confusion_matrix, accuracy_score\n",
    "from sklearn.ensemble import RandomForestClassifier\n",
    "from imblearn.over_sampling import SMOTE"
   ]
  },
  {
   "cell_type": "code",
   "execution_count": 74,
   "id": "af66e565-81a4-4f8f-a0e4-0e518bc61658",
   "metadata": {},
   "outputs": [
    {
     "data": {
      "text/plain": [
       "DistanceLtd                  float64\n",
       "EngineOilTemperature         float64\n",
       "TurboBoostPressure           float64\n",
       "FuelRate                     float64\n",
       "EngineLoad                   float64\n",
       "EngineOilPressure            float64\n",
       "EngineCoolantTemperature     float64\n",
       "BarometricPressure           float64\n",
       "EngineRpm                    float64\n",
       "IntakeManifoldTemperature    float64\n",
       "FuelTemperature              float64\n",
       "SwitchedBatteryVoltage       float64\n",
       "SeverityLevelFeature         float64\n",
       "dtype: object"
      ]
     },
     "execution_count": 74,
     "metadata": {},
     "output_type": "execute_result"
    }
   ],
   "source": [
    "combined_filtered[features].dtypes"
   ]
  },
  {
   "cell_type": "markdown",
   "id": "7d66e18d-7f8b-42f1-bb00-a7d72ee11960",
   "metadata": {},
   "source": [
    "**Separate Train and Test Data**"
   ]
  },
  {
   "cell_type": "code",
   "execution_count": 77,
   "id": "05e10990-e99c-437b-8c53-588af04ab7f5",
   "metadata": {},
   "outputs": [
    {
     "data": {
      "text/plain": [
       "IsTestData\n",
       "False    0.894563\n",
       "True     0.105437\n",
       "Name: proportion, dtype: float64"
      ]
     },
     "execution_count": 77,
     "metadata": {},
     "output_type": "execute_result"
    }
   ],
   "source": [
    "combined_filtered['EventTimeStamp'] = pd.to_datetime(combined['EventTimeStamp'], errors='coerce')\n",
    "combined_filtered['IsTestData'] = combined_filtered['EventTimeStamp'] >= '2019-01-01'\n",
    "combined_filtered['IsTestData'].value_counts(normalize=True)"
   ]
  },
  {
   "cell_type": "markdown",
   "id": "d95316d8-b387-482e-9db9-2a4d05857960",
   "metadata": {},
   "source": [
    "**Logistic Regression**\n",
    "\n",
    "Version_2\n",
    "\n",
    "*Logistic regression split Test >= 2019*"
   ]
  },
  {
   "cell_type": "code",
   "execution_count": 80,
   "id": "4648e264-b7cf-4420-a408-f3f541d7abc2",
   "metadata": {},
   "outputs": [
    {
     "name": "stdout",
     "output_type": "stream",
     "text": [
      "Accuracy: 0.1345\n",
      "Classification Report:\n",
      "               precision    recall  f1-score   support\n",
      "\n",
      "           0       1.00      0.13      0.24    111148\n",
      "           1       0.00      0.92      0.00       183\n",
      "\n",
      "    accuracy                           0.13    111331\n",
      "   macro avg       0.50      0.53      0.12    111331\n",
      "weighted avg       1.00      0.13      0.23    111331\n",
      "\n",
      "Confusion Matrix:\n",
      " [[14810 96338]\n",
      " [   14   169]]\n"
     ]
    }
   ],
   "source": [
    "random_state = 42\n",
    "\n",
    "# Training Data < 2019 \n",
    "# Test Data >= 2019\n",
    "train_data = combined_filtered[combined_filtered['IsTestData'] == False]\n",
    "test_data = combined_filtered[combined_filtered['IsTestData'] == True]\n",
    "\n",
    "X_train = train_data[features]\n",
    "y_train = train_data['DeratePredictionTarget']\n",
    "X_test = test_data[features]\n",
    "y_test = test_data['DeratePredictionTarget']\n",
    "\n",
    "X_train = X_train.apply(pd.to_numeric, errors='coerce')\n",
    "X_test = X_test.apply(pd.to_numeric, errors='coerce')\n",
    "\n",
    "X_train = X_train.fillna(X_train.mean())\n",
    "X_test = X_test.fillna(X_test.mean())\n",
    "\n",
    "scaler = StandardScaler()\n",
    "X_train_scaled = scaler.fit_transform(X_train)  \n",
    "X_test_scaled = scaler.transform(X_test)  \n",
    "\n",
    "model = LogisticRegression(class_weight='balanced', random_state=random_state)\n",
    "model.fit(X_train_scaled, y_train)\n",
    "\n",
    "y_pred = model.predict(X_test_scaled)\n",
    "\n",
    "accuracy = accuracy_score(y_test, y_pred)\n",
    "print(f\"Accuracy: {accuracy:.4f}\")\n",
    "print(\"Classification Report:\\n\", classification_report(y_test, y_pred))\n",
    "print(\"Confusion Matrix:\\n\", confusion_matrix(y_test, y_pred))"
   ]
  },
  {
   "cell_type": "markdown",
   "id": "08c99135-f4c0-41ca-a332-1ac64bee258e",
   "metadata": {},
   "source": [
    "**Confusion Matrix**"
   ]
  },
  {
   "cell_type": "code",
   "execution_count": 82,
   "id": "628f398b-42ea-4761-8a94-3f9a109c41cd",
   "metadata": {},
   "outputs": [
    {
     "name": "stdout",
     "output_type": "stream",
     "text": [
      "-4485500\n"
     ]
    }
   ],
   "source": [
    "TN = 118219\n",
    "FP = 10435\n",
    "FN = 316\n",
    "TP = 183\n",
    "\n",
    "\n",
    "Costs = (FP * 500)\n",
    "Savings = (TP * 4000)\n",
    "\n",
    "Net = Savings - Costs\n",
    "print(Net)"
   ]
  },
  {
   "cell_type": "markdown",
   "id": "b5dd62f0-9c0f-45dc-be3f-e7bc7bd385a0",
   "metadata": {},
   "source": [
    "**Random Forest**\n",
    "\n",
    "Version_1"
   ]
  },
  {
   "cell_type": "code",
   "execution_count": 86,
   "id": "6b7c9c87-7055-4a06-bd0a-c164bf4d5899",
   "metadata": {},
   "outputs": [
    {
     "name": "stdout",
     "output_type": "stream",
     "text": [
      "Accuracy: 0.9957\n",
      "Classification Report:\n",
      "               precision    recall  f1-score   support\n",
      "\n",
      "           0       1.00      1.00      1.00    111148\n",
      "           1       0.06      0.10      0.07       183\n",
      "\n",
      "    accuracy                           1.00    111331\n",
      "   macro avg       0.53      0.55      0.54    111331\n",
      "weighted avg       1.00      1.00      1.00    111331\n",
      "\n",
      "Confusion Matrix:\n",
      " [[110829    319]\n",
      " [   164     19]]\n",
      "\n",
      "Top 10 Important Features:\n",
      "                      Feature  Importance\n",
      "12       SeverityLevelFeature    0.214960\n",
      "0                 DistanceLtd    0.127416\n",
      "10            FuelTemperature    0.108458\n",
      "1        EngineOilTemperature    0.077515\n",
      "9   IntakeManifoldTemperature    0.071135\n",
      "5           EngineOilPressure    0.067904\n",
      "8                   EngineRpm    0.066278\n",
      "7          BarometricPressure    0.055489\n",
      "6    EngineCoolantTemperature    0.052904\n",
      "4                  EngineLoad    0.045936\n"
     ]
    }
   ],
   "source": [
    "# split data into train and test sets\n",
    "train_data = combined_filtered[combined_filtered['IsTestData'] == False]\n",
    "test_data = combined_filtered[combined_filtered['IsTestData'] == True]\n",
    "\n",
    "# prepare features and target\n",
    "X_train = train_data[features]\n",
    "y_train = train_data['DeratePredictionTarget']\n",
    "X_test = test_data[features]\n",
    "y_test = test_data['DeratePredictionTarget']\n",
    "\n",
    "# numeric conversion and missing values\n",
    "X_train = X_train.apply(pd.to_numeric, errors='coerce')\n",
    "X_test = X_test.apply(pd.to_numeric, errors='coerce')\n",
    "X_train = X_train.fillna(X_train.mean())\n",
    "X_test = X_test.fillna(X_test.mean())\n",
    "\n",
    "# scale\n",
    "scaler = StandardScaler()\n",
    "X_train_scaled = scaler.fit_transform(X_train)\n",
    "X_test_scaled = scaler.transform(X_test)\n",
    "\n",
    "# OPTIMIZATION 1\n",
    "from imblearn.over_sampling import RandomOverSampler\n",
    "ros = RandomOverSampler(random_state=42)\n",
    "X_train_resampled, y_train_resampled = ros.fit_resample(X_train_scaled, y_train)\n",
    "\n",
    "# OPTIMIZATION 2\n",
    "random_forest_model = RandomForestClassifier(\n",
    "    n_estimators=50,     \n",
    "    max_depth=15,        \n",
    "    min_samples_split=20, \n",
    "    n_jobs=-1,           \n",
    "    random_state=42,\n",
    "    class_weight='balanced'\n",
    ")\n",
    "\n",
    "# train the model\n",
    "random_forest_model.fit(X_train_resampled, y_train_resampled)\n",
    "\n",
    "# predictions\n",
    "y_pred = random_forest_model.predict(X_test_scaled)\n",
    "\n",
    "# evaluate\n",
    "accuracy = accuracy_score(y_test, y_pred)\n",
    "print(f\"Accuracy: {accuracy:.4f}\")\n",
    "print(\"Classification Report:\\n\", classification_report(y_test, y_pred))\n",
    "print(\"Confusion Matrix:\\n\", confusion_matrix(y_test, y_pred))\n",
    "\n",
    "# feature importance\n",
    "feature_importances = pd.DataFrame({\n",
    "    'Feature': features,\n",
    "    'Importance': random_forest_model.feature_importances_\n",
    "}).sort_values('Importance', ascending=False)\n",
    "print(\"\\nTop 10 Important Features:\")\n",
    "print(feature_importances.head(10))"
   ]
  },
  {
   "cell_type": "markdown",
   "id": "94046644-1814-4a7f-8cb3-4cc7d6e631b7",
   "metadata": {},
   "source": [
    "**Confusion Matrix**"
   ]
  },
  {
   "cell_type": "code",
   "execution_count": 89,
   "id": "a324b69d-5120-4731-accb-af858f785a1e",
   "metadata": {},
   "outputs": [],
   "source": [
    "cm = confusion_matrix(y_test, y_pred)\n",
    "\n",
    "TN = cm[0, 0]  \n",
    "FP = cm[0, 1] \n",
    "FN = cm[1, 0] \n",
    "TP = cm[1, 1]  "
   ]
  },
  {
   "cell_type": "code",
   "execution_count": 90,
   "id": "81fb3e99-73c5-415e-a4ce-8611893277ff",
   "metadata": {},
   "outputs": [
    {
     "name": "stdout",
     "output_type": "stream",
     "text": [
      "Random Forest Model\n",
      "True Negatives: 110829\n",
      "False Positives: 319\n",
      "False Negatives: 164\n",
      "True Positives: 19\n",
      "Money Saved: $-83,500.00\n"
     ]
    }
   ],
   "source": [
    "Costs = (FP * 500)\n",
    "Savings = (TP * 4000)\n",
    "\n",
    "\n",
    "\n",
    "Net = Savings - Costs\n",
    "print(\"Random Forest Model\")\n",
    "print(f\"True Negatives: {TN}\")\n",
    "print(f\"False Positives: {FP}\")\n",
    "print(f\"False Negatives: {FN}\")\n",
    "print(f\"True Positives: {TP}\")\n",
    "print(f\"Money Saved: ${Net:,.2f}\")"
   ]
  },
  {
   "cell_type": "code",
   "execution_count": 91,
   "id": "a0b2af87-a2b0-479d-9514-705d46bbb909",
   "metadata": {},
   "outputs": [
    {
     "data": {
      "text/plain": [
       "(43, 42)"
      ]
     },
     "execution_count": 91,
     "metadata": {},
     "output_type": "execute_result"
    }
   ],
   "source": [
    "test_derate_count = test_data[test_data['spn'] == 5246]\n",
    "test_derate_count.shape"
   ]
  },
  {
   "cell_type": "code",
   "execution_count": 122,
   "id": "3a0ec3e3-6d41-4cb0-bc50-e2b66d5091d3",
   "metadata": {},
   "outputs": [
    {
     "data": {
      "text/plain": [
       "IsDerateActual\n",
       "False    111288\n",
       "True         43\n",
       "Name: count, dtype: int64"
      ]
     },
     "execution_count": 122,
     "metadata": {},
     "output_type": "execute_result"
    }
   ],
   "source": [
    "test_data['IsDerateActual'].value_counts()"
   ]
  },
  {
   "cell_type": "code",
   "execution_count": 92,
   "id": "40ef78fd-f480-47d1-a9fa-dd571db1e474",
   "metadata": {},
   "outputs": [
    {
     "name": "stderr",
     "output_type": "stream",
     "text": [
      "C:\\Users\\jdavis\\AppData\\Local\\Temp\\ipykernel_8452\\1772638555.py:2: SettingWithCopyWarning: \n",
      "A value is trying to be set on a copy of a slice from a DataFrame.\n",
      "Try using .loc[row_indexer,col_indexer] = value instead\n",
      "\n",
      "See the caveats in the documentation: https://pandas.pydata.org/pandas-docs/stable/user_guide/indexing.html#returning-a-view-versus-a-copy\n",
      "  test_data['Predicted'] = y_pred\n",
      "C:\\Users\\jdavis\\AppData\\Local\\Temp\\ipykernel_8452\\1772638555.py:5: SettingWithCopyWarning: \n",
      "A value is trying to be set on a copy of a slice from a DataFrame.\n",
      "Try using .loc[row_indexer,col_indexer] = value instead\n",
      "\n",
      "See the caveats in the documentation: https://pandas.pydata.org/pandas-docs/stable/user_guide/indexing.html#returning-a-view-versus-a-copy\n",
      "  test_data['Correct_Prediction'] = test_data['DeratePredictionTarget'] == test_data['Predicted']\n"
     ]
    },
    {
     "data": {
      "text/html": [
       "<div>\n",
       "<style scoped>\n",
       "    .dataframe tbody tr th:only-of-type {\n",
       "        vertical-align: middle;\n",
       "    }\n",
       "\n",
       "    .dataframe tbody tr th {\n",
       "        vertical-align: top;\n",
       "    }\n",
       "\n",
       "    .dataframe thead th {\n",
       "        text-align: right;\n",
       "    }\n",
       "</style>\n",
       "<table border=\"1\" class=\"dataframe\">\n",
       "  <thead>\n",
       "    <tr style=\"text-align: right;\">\n",
       "      <th></th>\n",
       "      <th>RecordID</th>\n",
       "      <th>EventTimeStamp</th>\n",
       "      <th>eventDescription</th>\n",
       "      <th>spn</th>\n",
       "      <th>fmi</th>\n",
       "      <th>active</th>\n",
       "      <th>activeTransitionCount</th>\n",
       "      <th>EquipmentID</th>\n",
       "      <th>Latitude</th>\n",
       "      <th>Longitude</th>\n",
       "      <th>...</th>\n",
       "      <th>Throttle</th>\n",
       "      <th>TurboBoostPressure</th>\n",
       "      <th>IsDerateFull</th>\n",
       "      <th>SeverityLevel</th>\n",
       "      <th>SeverityLevelFeature</th>\n",
       "      <th>IsDerateActual</th>\n",
       "      <th>DeratePredictionTarget</th>\n",
       "      <th>IsTestData</th>\n",
       "      <th>Predicted</th>\n",
       "      <th>Correct_Prediction</th>\n",
       "    </tr>\n",
       "  </thead>\n",
       "  <tbody>\n",
       "    <tr>\n",
       "      <th>1143740</th>\n",
       "      <td>1198979</td>\n",
       "      <td>2019-09-19 06:45:54</td>\n",
       "      <td>High (Severity Medium) Aftertreatment 1 Partic...</td>\n",
       "      <td>3251</td>\n",
       "      <td>16</td>\n",
       "      <td>True</td>\n",
       "      <td>1</td>\n",
       "      <td>301</td>\n",
       "      <td>35.804212</td>\n",
       "      <td>-86.389351</td>\n",
       "      <td>...</td>\n",
       "      <td>24.8</td>\n",
       "      <td>5.80</td>\n",
       "      <td>False</td>\n",
       "      <td>Severity Medium</td>\n",
       "      <td>2.0</td>\n",
       "      <td>False</td>\n",
       "      <td>0</td>\n",
       "      <td>True</td>\n",
       "      <td>1</td>\n",
       "      <td>False</td>\n",
       "    </tr>\n",
       "    <tr>\n",
       "      <th>1152407</th>\n",
       "      <td>1209631</td>\n",
       "      <td>2019-10-26 06:58:08</td>\n",
       "      <td>Incorrect Data Engine Exhaust Back Pressure Re...</td>\n",
       "      <td>649</td>\n",
       "      <td>2</td>\n",
       "      <td>True</td>\n",
       "      <td>19</td>\n",
       "      <td>301</td>\n",
       "      <td>36.378750</td>\n",
       "      <td>-86.713472</td>\n",
       "      <td>...</td>\n",
       "      <td>98.0</td>\n",
       "      <td>15.08</td>\n",
       "      <td>False</td>\n",
       "      <td>NaN</td>\n",
       "      <td>NaN</td>\n",
       "      <td>False</td>\n",
       "      <td>0</td>\n",
       "      <td>True</td>\n",
       "      <td>1</td>\n",
       "      <td>False</td>\n",
       "    </tr>\n",
       "    <tr>\n",
       "      <th>1171187</th>\n",
       "      <td>1230351</td>\n",
       "      <td>2020-01-06 07:20:54</td>\n",
       "      <td>Error in System Engine Torque Limit Request - ...</td>\n",
       "      <td>1787</td>\n",
       "      <td>11</td>\n",
       "      <td>True</td>\n",
       "      <td>1</td>\n",
       "      <td>302</td>\n",
       "      <td>38.247407</td>\n",
       "      <td>-85.788009</td>\n",
       "      <td>...</td>\n",
       "      <td>0.0</td>\n",
       "      <td>0.58</td>\n",
       "      <td>False</td>\n",
       "      <td>NaN</td>\n",
       "      <td>NaN</td>\n",
       "      <td>False</td>\n",
       "      <td>1</td>\n",
       "      <td>True</td>\n",
       "      <td>0</td>\n",
       "      <td>False</td>\n",
       "    </tr>\n",
       "    <tr>\n",
       "      <th>1171188</th>\n",
       "      <td>1230352</td>\n",
       "      <td>2020-01-06 07:20:54</td>\n",
       "      <td>Low Current Aftertreatment Fuel Injector 1</td>\n",
       "      <td>3556</td>\n",
       "      <td>5</td>\n",
       "      <td>True</td>\n",
       "      <td>1</td>\n",
       "      <td>302</td>\n",
       "      <td>38.247407</td>\n",
       "      <td>-85.788009</td>\n",
       "      <td>...</td>\n",
       "      <td>0.0</td>\n",
       "      <td>0.58</td>\n",
       "      <td>False</td>\n",
       "      <td>NaN</td>\n",
       "      <td>NaN</td>\n",
       "      <td>False</td>\n",
       "      <td>1</td>\n",
       "      <td>True</td>\n",
       "      <td>0</td>\n",
       "      <td>False</td>\n",
       "    </tr>\n",
       "    <tr>\n",
       "      <th>1171184</th>\n",
       "      <td>1230348</td>\n",
       "      <td>2020-01-06 07:21:34</td>\n",
       "      <td>Abnormal Update Rate Engine Exhaust Gas Recirc...</td>\n",
       "      <td>2791</td>\n",
       "      <td>9</td>\n",
       "      <td>False</td>\n",
       "      <td>1</td>\n",
       "      <td>302</td>\n",
       "      <td>38.247407</td>\n",
       "      <td>-85.788009</td>\n",
       "      <td>...</td>\n",
       "      <td>NaN</td>\n",
       "      <td>NaN</td>\n",
       "      <td>False</td>\n",
       "      <td>NaN</td>\n",
       "      <td>NaN</td>\n",
       "      <td>False</td>\n",
       "      <td>1</td>\n",
       "      <td>True</td>\n",
       "      <td>0</td>\n",
       "      <td>False</td>\n",
       "    </tr>\n",
       "  </tbody>\n",
       "</table>\n",
       "<p>5 rows × 44 columns</p>\n",
       "</div>"
      ],
      "text/plain": [
       "         RecordID      EventTimeStamp  \\\n",
       "1143740   1198979 2019-09-19 06:45:54   \n",
       "1152407   1209631 2019-10-26 06:58:08   \n",
       "1171187   1230351 2020-01-06 07:20:54   \n",
       "1171188   1230352 2020-01-06 07:20:54   \n",
       "1171184   1230348 2020-01-06 07:21:34   \n",
       "\n",
       "                                          eventDescription   spn  fmi  active  \\\n",
       "1143740  High (Severity Medium) Aftertreatment 1 Partic...  3251   16    True   \n",
       "1152407  Incorrect Data Engine Exhaust Back Pressure Re...   649    2    True   \n",
       "1171187  Error in System Engine Torque Limit Request - ...  1787   11    True   \n",
       "1171188         Low Current Aftertreatment Fuel Injector 1  3556    5    True   \n",
       "1171184  Abnormal Update Rate Engine Exhaust Gas Recirc...  2791    9   False   \n",
       "\n",
       "         activeTransitionCount EquipmentID   Latitude  Longitude  ...  \\\n",
       "1143740                      1         301  35.804212 -86.389351  ...   \n",
       "1152407                     19         301  36.378750 -86.713472  ...   \n",
       "1171187                      1         302  38.247407 -85.788009  ...   \n",
       "1171188                      1         302  38.247407 -85.788009  ...   \n",
       "1171184                      1         302  38.247407 -85.788009  ...   \n",
       "\n",
       "         Throttle  TurboBoostPressure  IsDerateFull    SeverityLevel  \\\n",
       "1143740      24.8                5.80         False  Severity Medium   \n",
       "1152407      98.0               15.08         False              NaN   \n",
       "1171187       0.0                0.58         False              NaN   \n",
       "1171188       0.0                0.58         False              NaN   \n",
       "1171184       NaN                 NaN         False              NaN   \n",
       "\n",
       "        SeverityLevelFeature  IsDerateActual  DeratePredictionTarget  \\\n",
       "1143740                  2.0           False                       0   \n",
       "1152407                  NaN           False                       0   \n",
       "1171187                  NaN           False                       1   \n",
       "1171188                  NaN           False                       1   \n",
       "1171184                  NaN           False                       1   \n",
       "\n",
       "         IsTestData  Predicted  Correct_Prediction  \n",
       "1143740        True          1               False  \n",
       "1152407        True          1               False  \n",
       "1171187        True          0               False  \n",
       "1171188        True          0               False  \n",
       "1171184        True          0               False  \n",
       "\n",
       "[5 rows x 44 columns]"
      ]
     },
     "execution_count": 92,
     "metadata": {},
     "output_type": "execute_result"
    }
   ],
   "source": [
    "# add predictions to the original test dataframe\n",
    "test_data['Predicted'] = y_pred\n",
    "\n",
    "# show if prediction was correct\n",
    "test_data['Correct_Prediction'] = test_data['DeratePredictionTarget'] == test_data['Predicted']\n",
    "\n",
    "\n",
    "test_data.head()\n",
    "\n",
    "# If you want to focus on a specific subset of columns\n",
    "columns_to_view = ['DeratePredictionTarget', 'Predicted', 'Correct_Prediction'] + features[:5]  \n",
    "test_data[columns_to_view].head()\n",
    "\n",
    "# To examine just the misclassified cases\n",
    "misclassified = test_data[test_data['DeratePredictionTarget'] != test_data['Predicted']]\n",
    "misclassified.head()"
   ]
  },
  {
   "cell_type": "code",
   "execution_count": null,
   "id": "fb12f735-d57a-4d08-8be7-a46688949d42",
   "metadata": {},
   "outputs": [],
   "source": []
  },
  {
   "cell_type": "code",
   "execution_count": 114,
   "id": "6c258ce9-dc37-4c9a-aab0-ace144611109",
   "metadata": {},
   "outputs": [
    {
     "name": "stdout",
     "output_type": "stream",
     "text": [
      "                      Feature  Point-Biserial Correlation  Abs Correlation\n",
      "11     SwitchedBatteryVoltage                   -0.021373         0.021373\n",
      "12       SeverityLevelFeature                    0.013634         0.013634\n",
      "9   IntakeManifoldTemperature                   -0.012105         0.012105\n",
      "8                   EngineRpm                   -0.011511         0.011511\n",
      "6    EngineCoolantTemperature                   -0.011321         0.011321\n",
      "1        EngineOilTemperature                   -0.010810         0.010810\n",
      "5           EngineOilPressure                   -0.010611         0.010611\n",
      "3                    FuelRate                   -0.010598         0.010598\n",
      "2          TurboBoostPressure                   -0.010509         0.010509\n",
      "4                  EngineLoad                   -0.010384         0.010384\n",
      "0                 DistanceLtd                   -0.010204         0.010204\n",
      "7          BarometricPressure                   -0.002488         0.002488\n",
      "10            FuelTemperature                    0.001193         0.001193\n"
     ]
    }
   ],
   "source": [
    "import numpy as np\n",
    "import pandas as pd\n",
    "from scipy.stats import pointbiserialr\n",
    "\n",
    "features = [\n",
    "    'DistanceLtd',\n",
    "    'EngineOilTemperature',\n",
    "    'TurboBoostPressure',\n",
    "    'FuelRate',\n",
    "    'EngineLoad',\n",
    "    'EngineOilPressure',\n",
    "    'EngineCoolantTemperature',\n",
    "    'BarometricPressure',\n",
    "    'EngineRpm',\n",
    "    'IntakeManifoldTemperature',\n",
    "    'FuelTemperature',\n",
    "    'SwitchedBatteryVoltage',\n",
    "    'SeverityLevelFeature'\n",
    "]\n",
    "\n",
    "# Create a new DataFrame to preserve the original\n",
    "combined_imputed = combined_filtered.copy()\n",
    "\n",
    "# Replace inf values with the maximum value of each column (ignoring NaNs)\n",
    "for feature in features:\n",
    "    # Replace positive and negative infinity with NaN\n",
    "    combined_imputed[feature] = combined_imputed[feature].replace([np.inf, -np.inf], np.nan)\n",
    "    \n",
    "    # Replace NaN values with the column's max value (ignoring NaNs)\n",
    "    max_value = combined_imputed[feature].max()  # Now max will ignore NaNs\n",
    "    combined_imputed[feature] = combined_imputed[feature].fillna(max_value)\n",
    "\n",
    "# Now, handle NaN or Inf in the target column\n",
    "combined_imputed['DeratePredictionTarget'] = combined_imputed['DeratePredictionTarget'].replace([np.inf, -np.inf], np.nan)\n",
    "combined_imputed['DeratePredictionTarget'] = combined_imputed['DeratePredictionTarget'].fillna(combined_imputed['DeratePredictionTarget'].mode()[0])\n",
    "\n",
    "# Drop any remaining rows with NaN values (if any) after replacements\n",
    "combined_imputed = combined_imputed.dropna(subset=features + ['DeratePredictionTarget'])\n",
    "\n",
    "# Re-run the correlation calculation\n",
    "correlations = {}\n",
    "for feature in features:\n",
    "    feature_data = combined_imputed[feature]\n",
    "    correlation, _ = pointbiserialr(feature_data, combined_imputed['DeratePredictionTarget'])\n",
    "    correlations[feature] = correlation\n",
    "\n",
    "# Create a DataFrame to display correlations\n",
    "correlation_df = pd.DataFrame(list(correlations.items()), columns=['Feature', 'Point-Biserial Correlation'])\n",
    "\n",
    "# Add a column with absolute correlation values to sort easily\n",
    "correlation_df['Abs Correlation'] = correlation_df['Point-Biserial Correlation'].abs()\n",
    "\n",
    "# Sort by absolute correlation to see which features are most related to the target\n",
    "correlation_df = correlation_df.sort_values(by='Abs Correlation', ascending=False)\n",
    "\n",
    "# Display the sorted correlation DataFrame\n",
    "print(correlation_df)\n"
   ]
  },
  {
   "cell_type": "markdown",
   "id": "7793735b-ca93-4548-8057-e7aeac48f587",
   "metadata": {},
   "source": [
    "**For Slides**"
   ]
  },
  {
   "cell_type": "code",
   "execution_count": 140,
   "id": "c7a59a73-c975-4ef9-989f-c12a5f2c90ab",
   "metadata": {},
   "outputs": [
    {
     "name": "stdout",
     "output_type": "stream",
     "text": [
      "Full Dataset: Count of Derate Rows\n"
     ]
    },
    {
     "data": {
      "text/html": [
       "<div>\n",
       "<style scoped>\n",
       "    .dataframe tbody tr th:only-of-type {\n",
       "        vertical-align: middle;\n",
       "    }\n",
       "\n",
       "    .dataframe tbody tr th {\n",
       "        vertical-align: top;\n",
       "    }\n",
       "\n",
       "    .dataframe thead th {\n",
       "        text-align: right;\n",
       "    }\n",
       "</style>\n",
       "<table border=\"1\" class=\"dataframe\">\n",
       "  <thead>\n",
       "    <tr style=\"text-align: right;\">\n",
       "      <th></th>\n",
       "      <th>IsFullDerate</th>\n",
       "      <th>Count</th>\n",
       "    </tr>\n",
       "  </thead>\n",
       "  <tbody>\n",
       "    <tr>\n",
       "      <th>0</th>\n",
       "      <td>False</td>\n",
       "      <td>1055549</td>\n",
       "    </tr>\n",
       "    <tr>\n",
       "      <th>1</th>\n",
       "      <td>True</td>\n",
       "      <td>355</td>\n",
       "    </tr>\n",
       "  </tbody>\n",
       "</table>\n",
       "</div>"
      ],
      "text/plain": [
       "   IsFullDerate    Count\n",
       "0         False  1055549\n",
       "1          True      355"
      ]
     },
     "execution_count": 140,
     "metadata": {},
     "output_type": "execute_result"
    }
   ],
   "source": [
    "\n",
    "value_counts = combined_filtered['IsDerateActual'].value_counts()\n",
    "\n",
    "\n",
    "value_counts_df = value_counts.reset_index()\n",
    "value_counts_df.columns = ['IsFullDerate', 'Count']\n",
    "\n",
    "print('Full Dataset: Count of Derate Rows')\n",
    "value_counts_df.head()"
   ]
  },
  {
   "cell_type": "code",
   "execution_count": 138,
   "id": "eac62734-ed70-4023-9481-295e979f671c",
   "metadata": {},
   "outputs": [
    {
     "name": "stdout",
     "output_type": "stream",
     "text": [
      "Test Data: Count of Derate Rows\n"
     ]
    },
    {
     "data": {
      "text/html": [
       "<div>\n",
       "<style scoped>\n",
       "    .dataframe tbody tr th:only-of-type {\n",
       "        vertical-align: middle;\n",
       "    }\n",
       "\n",
       "    .dataframe tbody tr th {\n",
       "        vertical-align: top;\n",
       "    }\n",
       "\n",
       "    .dataframe thead th {\n",
       "        text-align: right;\n",
       "    }\n",
       "</style>\n",
       "<table border=\"1\" class=\"dataframe\">\n",
       "  <thead>\n",
       "    <tr style=\"text-align: right;\">\n",
       "      <th></th>\n",
       "      <th>IsFullDerate</th>\n",
       "      <th>Count</th>\n",
       "    </tr>\n",
       "  </thead>\n",
       "  <tbody>\n",
       "    <tr>\n",
       "      <th>0</th>\n",
       "      <td>False</td>\n",
       "      <td>111288</td>\n",
       "    </tr>\n",
       "    <tr>\n",
       "      <th>1</th>\n",
       "      <td>True</td>\n",
       "      <td>43</td>\n",
       "    </tr>\n",
       "  </tbody>\n",
       "</table>\n",
       "</div>"
      ],
      "text/plain": [
       "   IsFullDerate   Count\n",
       "0         False  111288\n",
       "1          True      43"
      ]
     },
     "execution_count": 138,
     "metadata": {},
     "output_type": "execute_result"
    }
   ],
   "source": [
    "\n",
    "value_counts_test_data = test_data['IsDerateActual'].value_counts()\n",
    "\n",
    "\n",
    "value_counts_test_data_df = value_counts_test_data.reset_index()\n",
    "value_counts_test_data_df.columns = ['IsFullDerate', 'Count']\n",
    "\n",
    "\n",
    "print('Test Data: Count of Derate Rows')\n"
   ]
  },
  {
   "cell_type": "code",
   "execution_count": 142,
   "id": "7be76195-8e7a-4f88-8b80-7b1c7a1a3457",
   "metadata": {},
   "outputs": [
    {
     "data": {
      "text/html": [
       "<div>\n",
       "<style scoped>\n",
       "    .dataframe tbody tr th:only-of-type {\n",
       "        vertical-align: middle;\n",
       "    }\n",
       "\n",
       "    .dataframe tbody tr th {\n",
       "        vertical-align: top;\n",
       "    }\n",
       "\n",
       "    .dataframe thead th {\n",
       "        text-align: right;\n",
       "    }\n",
       "</style>\n",
       "<table border=\"1\" class=\"dataframe\">\n",
       "  <thead>\n",
       "    <tr style=\"text-align: right;\">\n",
       "      <th></th>\n",
       "      <th>IsFullDerate</th>\n",
       "      <th>Count</th>\n",
       "    </tr>\n",
       "  </thead>\n",
       "  <tbody>\n",
       "    <tr>\n",
       "      <th>0</th>\n",
       "      <td>False</td>\n",
       "      <td>1055549</td>\n",
       "    </tr>\n",
       "    <tr>\n",
       "      <th>1</th>\n",
       "      <td>True</td>\n",
       "      <td>355</td>\n",
       "    </tr>\n",
       "  </tbody>\n",
       "</table>\n",
       "</div>"
      ],
      "text/plain": [
       "   IsFullDerate    Count\n",
       "0         False  1055549\n",
       "1          True      355"
      ]
     },
     "metadata": {},
     "output_type": "display_data"
    },
    {
     "data": {
      "text/html": [
       "<div>\n",
       "<style scoped>\n",
       "    .dataframe tbody tr th:only-of-type {\n",
       "        vertical-align: middle;\n",
       "    }\n",
       "\n",
       "    .dataframe tbody tr th {\n",
       "        vertical-align: top;\n",
       "    }\n",
       "\n",
       "    .dataframe thead th {\n",
       "        text-align: right;\n",
       "    }\n",
       "</style>\n",
       "<table border=\"1\" class=\"dataframe\">\n",
       "  <thead>\n",
       "    <tr style=\"text-align: right;\">\n",
       "      <th></th>\n",
       "      <th>IsFullDerate</th>\n",
       "      <th>Count</th>\n",
       "    </tr>\n",
       "  </thead>\n",
       "  <tbody>\n",
       "    <tr>\n",
       "      <th>0</th>\n",
       "      <td>False</td>\n",
       "      <td>111288</td>\n",
       "    </tr>\n",
       "    <tr>\n",
       "      <th>1</th>\n",
       "      <td>True</td>\n",
       "      <td>43</td>\n",
       "    </tr>\n",
       "  </tbody>\n",
       "</table>\n",
       "</div>"
      ],
      "text/plain": [
       "   IsFullDerate   Count\n",
       "0         False  111288\n",
       "1          True      43"
      ]
     },
     "metadata": {},
     "output_type": "display_data"
    }
   ],
   "source": [
    "\n",
    "display(value_counts_df)\n",
    "display(value_counts_test_data_df)"
   ]
  },
  {
   "cell_type": "code",
   "execution_count": null,
   "id": "3c464d2b-1cd7-4d7e-9021-3329e94fd5c3",
   "metadata": {},
   "outputs": [],
   "source": []
  }
 ],
 "metadata": {
  "kernelspec": {
   "display_name": "Python 3 (ipykernel)",
   "language": "python",
   "name": "python3"
  },
  "language_info": {
   "codemirror_mode": {
    "name": "ipython",
    "version": 3
   },
   "file_extension": ".py",
   "mimetype": "text/x-python",
   "name": "python",
   "nbconvert_exporter": "python",
   "pygments_lexer": "ipython3",
   "version": "3.12.4"
  }
 },
 "nbformat": 4,
 "nbformat_minor": 5
}
