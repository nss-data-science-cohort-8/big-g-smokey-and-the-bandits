{
 "cells": [
  {
   "cell_type": "markdown",
   "metadata": {},
   "source": [
    "import libraries / modules"
   ]
  },
  {
   "cell_type": "code",
   "execution_count": 1,
   "metadata": {},
   "outputs": [],
   "source": [
    "import pandas as pd\n",
    "import geopandas as gpd"
   ]
  },
  {
   "cell_type": "markdown",
   "metadata": {},
   "source": [
    "load & prepare data"
   ]
  },
  {
   "cell_type": "code",
   "execution_count": 2,
   "metadata": {},
   "outputs": [
    {
     "name": "stderr",
     "output_type": "stream",
     "text": [
      "/var/folders/1c/yvl84p5d2rv0n8dkqqjgmkdm0000gn/T/ipykernel_64683/3477976821.py:1: DtypeWarning: Columns (15) have mixed types. Specify dtype option on import or set low_memory=False.\n",
      "  faults_raw = pd.read_csv(\"../data/J1939Faults.csv\")\n"
     ]
    },
    {
     "data": {
      "application/vnd.microsoft.datawrangler.viewer.v0+json": {
       "columns": [
        {
         "name": "index",
         "rawType": "int64",
         "type": "integer"
        },
        {
         "name": "RecordID",
         "rawType": "int64",
         "type": "integer"
        },
        {
         "name": "ESS_Id",
         "rawType": "int64",
         "type": "integer"
        },
        {
         "name": "EventTimeStamp",
         "rawType": "object",
         "type": "string"
        },
        {
         "name": "eventDescription",
         "rawType": "object",
         "type": "unknown"
        },
        {
         "name": "actionDescription",
         "rawType": "float64",
         "type": "float"
        },
        {
         "name": "ecuSoftwareVersion",
         "rawType": "object",
         "type": "string"
        },
        {
         "name": "ecuSerialNumber",
         "rawType": "object",
         "type": "string"
        },
        {
         "name": "ecuModel",
         "rawType": "object",
         "type": "string"
        },
        {
         "name": "ecuMake",
         "rawType": "object",
         "type": "string"
        },
        {
         "name": "ecuSource",
         "rawType": "int64",
         "type": "integer"
        },
        {
         "name": "spn",
         "rawType": "int64",
         "type": "integer"
        },
        {
         "name": "fmi",
         "rawType": "int64",
         "type": "integer"
        },
        {
         "name": "active",
         "rawType": "bool",
         "type": "boolean"
        },
        {
         "name": "activeTransitionCount",
         "rawType": "int64",
         "type": "integer"
        },
        {
         "name": "faultValue",
         "rawType": "float64",
         "type": "float"
        },
        {
         "name": "EquipmentID",
         "rawType": "object",
         "type": "string"
        },
        {
         "name": "MCTNumber",
         "rawType": "int64",
         "type": "integer"
        },
        {
         "name": "Latitude",
         "rawType": "float64",
         "type": "float"
        },
        {
         "name": "Longitude",
         "rawType": "float64",
         "type": "float"
        },
        {
         "name": "LocationTimeStamp",
         "rawType": "object",
         "type": "string"
        }
       ],
       "conversionMethod": "pd.DataFrame",
       "ref": "3ed905c8-947f-41d4-a5e1-93b78ca4965e",
       "rows": [
        [
         "0",
         "1",
         "990349",
         "2015-02-21 10:47:13.000",
         "Low (Severity Low) Engine Coolant Level",
         null,
         "unknown",
         "unknown",
         "unknown",
         "unknown",
         "0",
         "111",
         "17",
         "True",
         "2",
         null,
         "1439",
         "105354361",
         "38.857638",
         "-84.626851",
         "2015-02-21 11:34:25.000"
        ],
        [
         "1",
         "2",
         "990360",
         "2015-02-21 11:34:34.000",
         null,
         null,
         "unknown",
         "unknown",
         "unknown",
         "unknown",
         "11",
         "629",
         "12",
         "True",
         "127",
         null,
         "1439",
         "105354361",
         "38.857638",
         "-84.626851",
         "2015-02-21 11:35:10.000"
        ],
        [
         "2",
         "3",
         "990364",
         "2015-02-21 11:35:31.000",
         "Incorrect Data Steering Wheel Angle",
         null,
         "unknown",
         "unknown",
         "unknown",
         "unknown",
         "11",
         "1807",
         "2",
         "False",
         "127",
         null,
         "1369",
         "105336226",
         "41.42125",
         "-87.767361",
         "2015-02-21 11:35:26.000"
        ],
        [
         "3",
         "4",
         "990370",
         "2015-02-21 11:35:33.000",
         "Incorrect Data Steering Wheel Angle",
         null,
         "unknown",
         "unknown",
         "unknown",
         "unknown",
         "11",
         "1807",
         "2",
         "True",
         "127",
         null,
         "1369",
         "105336226",
         "41.421018",
         "-87.767361",
         "2015-02-21 11:36:08.000"
        ],
        [
         "4",
         "5",
         "990416",
         "2015-02-21 11:39:41.000",
         null,
         null,
         "22281684P01*22357957P01*22362082P01*",
         "13063430",
         "0USA13_13_0415_2238A",
         "VOLVO",
         "0",
         "4364",
         "17",
         "False",
         "2",
         null,
         "1674",
         "105427130",
         "38.416481",
         "-89.442638",
         "2015-02-21 11:39:37.000"
        ]
       ],
       "shape": {
        "columns": 20,
        "rows": 5
       }
      },
      "text/html": [
       "<div>\n",
       "<style scoped>\n",
       "    .dataframe tbody tr th:only-of-type {\n",
       "        vertical-align: middle;\n",
       "    }\n",
       "\n",
       "    .dataframe tbody tr th {\n",
       "        vertical-align: top;\n",
       "    }\n",
       "\n",
       "    .dataframe thead th {\n",
       "        text-align: right;\n",
       "    }\n",
       "</style>\n",
       "<table border=\"1\" class=\"dataframe\">\n",
       "  <thead>\n",
       "    <tr style=\"text-align: right;\">\n",
       "      <th></th>\n",
       "      <th>RecordID</th>\n",
       "      <th>ESS_Id</th>\n",
       "      <th>EventTimeStamp</th>\n",
       "      <th>eventDescription</th>\n",
       "      <th>actionDescription</th>\n",
       "      <th>ecuSoftwareVersion</th>\n",
       "      <th>ecuSerialNumber</th>\n",
       "      <th>ecuModel</th>\n",
       "      <th>ecuMake</th>\n",
       "      <th>ecuSource</th>\n",
       "      <th>spn</th>\n",
       "      <th>fmi</th>\n",
       "      <th>active</th>\n",
       "      <th>activeTransitionCount</th>\n",
       "      <th>faultValue</th>\n",
       "      <th>EquipmentID</th>\n",
       "      <th>MCTNumber</th>\n",
       "      <th>Latitude</th>\n",
       "      <th>Longitude</th>\n",
       "      <th>LocationTimeStamp</th>\n",
       "    </tr>\n",
       "  </thead>\n",
       "  <tbody>\n",
       "    <tr>\n",
       "      <th>0</th>\n",
       "      <td>1</td>\n",
       "      <td>990349</td>\n",
       "      <td>2015-02-21 10:47:13.000</td>\n",
       "      <td>Low (Severity Low) Engine Coolant Level</td>\n",
       "      <td>NaN</td>\n",
       "      <td>unknown</td>\n",
       "      <td>unknown</td>\n",
       "      <td>unknown</td>\n",
       "      <td>unknown</td>\n",
       "      <td>0</td>\n",
       "      <td>111</td>\n",
       "      <td>17</td>\n",
       "      <td>True</td>\n",
       "      <td>2</td>\n",
       "      <td>NaN</td>\n",
       "      <td>1439</td>\n",
       "      <td>105354361</td>\n",
       "      <td>38.857638</td>\n",
       "      <td>-84.626851</td>\n",
       "      <td>2015-02-21 11:34:25.000</td>\n",
       "    </tr>\n",
       "    <tr>\n",
       "      <th>1</th>\n",
       "      <td>2</td>\n",
       "      <td>990360</td>\n",
       "      <td>2015-02-21 11:34:34.000</td>\n",
       "      <td>NaN</td>\n",
       "      <td>NaN</td>\n",
       "      <td>unknown</td>\n",
       "      <td>unknown</td>\n",
       "      <td>unknown</td>\n",
       "      <td>unknown</td>\n",
       "      <td>11</td>\n",
       "      <td>629</td>\n",
       "      <td>12</td>\n",
       "      <td>True</td>\n",
       "      <td>127</td>\n",
       "      <td>NaN</td>\n",
       "      <td>1439</td>\n",
       "      <td>105354361</td>\n",
       "      <td>38.857638</td>\n",
       "      <td>-84.626851</td>\n",
       "      <td>2015-02-21 11:35:10.000</td>\n",
       "    </tr>\n",
       "    <tr>\n",
       "      <th>2</th>\n",
       "      <td>3</td>\n",
       "      <td>990364</td>\n",
       "      <td>2015-02-21 11:35:31.000</td>\n",
       "      <td>Incorrect Data Steering Wheel Angle</td>\n",
       "      <td>NaN</td>\n",
       "      <td>unknown</td>\n",
       "      <td>unknown</td>\n",
       "      <td>unknown</td>\n",
       "      <td>unknown</td>\n",
       "      <td>11</td>\n",
       "      <td>1807</td>\n",
       "      <td>2</td>\n",
       "      <td>False</td>\n",
       "      <td>127</td>\n",
       "      <td>NaN</td>\n",
       "      <td>1369</td>\n",
       "      <td>105336226</td>\n",
       "      <td>41.421250</td>\n",
       "      <td>-87.767361</td>\n",
       "      <td>2015-02-21 11:35:26.000</td>\n",
       "    </tr>\n",
       "    <tr>\n",
       "      <th>3</th>\n",
       "      <td>4</td>\n",
       "      <td>990370</td>\n",
       "      <td>2015-02-21 11:35:33.000</td>\n",
       "      <td>Incorrect Data Steering Wheel Angle</td>\n",
       "      <td>NaN</td>\n",
       "      <td>unknown</td>\n",
       "      <td>unknown</td>\n",
       "      <td>unknown</td>\n",
       "      <td>unknown</td>\n",
       "      <td>11</td>\n",
       "      <td>1807</td>\n",
       "      <td>2</td>\n",
       "      <td>True</td>\n",
       "      <td>127</td>\n",
       "      <td>NaN</td>\n",
       "      <td>1369</td>\n",
       "      <td>105336226</td>\n",
       "      <td>41.421018</td>\n",
       "      <td>-87.767361</td>\n",
       "      <td>2015-02-21 11:36:08.000</td>\n",
       "    </tr>\n",
       "    <tr>\n",
       "      <th>4</th>\n",
       "      <td>5</td>\n",
       "      <td>990416</td>\n",
       "      <td>2015-02-21 11:39:41.000</td>\n",
       "      <td>NaN</td>\n",
       "      <td>NaN</td>\n",
       "      <td>22281684P01*22357957P01*22362082P01*</td>\n",
       "      <td>13063430</td>\n",
       "      <td>0USA13_13_0415_2238A</td>\n",
       "      <td>VOLVO</td>\n",
       "      <td>0</td>\n",
       "      <td>4364</td>\n",
       "      <td>17</td>\n",
       "      <td>False</td>\n",
       "      <td>2</td>\n",
       "      <td>NaN</td>\n",
       "      <td>1674</td>\n",
       "      <td>105427130</td>\n",
       "      <td>38.416481</td>\n",
       "      <td>-89.442638</td>\n",
       "      <td>2015-02-21 11:39:37.000</td>\n",
       "    </tr>\n",
       "  </tbody>\n",
       "</table>\n",
       "</div>"
      ],
      "text/plain": [
       "   RecordID  ESS_Id           EventTimeStamp  \\\n",
       "0         1  990349  2015-02-21 10:47:13.000   \n",
       "1         2  990360  2015-02-21 11:34:34.000   \n",
       "2         3  990364  2015-02-21 11:35:31.000   \n",
       "3         4  990370  2015-02-21 11:35:33.000   \n",
       "4         5  990416  2015-02-21 11:39:41.000   \n",
       "\n",
       "                          eventDescription  actionDescription  \\\n",
       "0  Low (Severity Low) Engine Coolant Level                NaN   \n",
       "1                                      NaN                NaN   \n",
       "2      Incorrect Data Steering Wheel Angle                NaN   \n",
       "3      Incorrect Data Steering Wheel Angle                NaN   \n",
       "4                                      NaN                NaN   \n",
       "\n",
       "                     ecuSoftwareVersion ecuSerialNumber              ecuModel  \\\n",
       "0                               unknown         unknown               unknown   \n",
       "1                               unknown         unknown               unknown   \n",
       "2                               unknown         unknown               unknown   \n",
       "3                               unknown         unknown               unknown   \n",
       "4  22281684P01*22357957P01*22362082P01*        13063430  0USA13_13_0415_2238A   \n",
       "\n",
       "   ecuMake  ecuSource   spn  fmi  active  activeTransitionCount  faultValue  \\\n",
       "0  unknown          0   111   17    True                      2         NaN   \n",
       "1  unknown         11   629   12    True                    127         NaN   \n",
       "2  unknown         11  1807    2   False                    127         NaN   \n",
       "3  unknown         11  1807    2    True                    127         NaN   \n",
       "4    VOLVO          0  4364   17   False                      2         NaN   \n",
       "\n",
       "  EquipmentID  MCTNumber   Latitude  Longitude        LocationTimeStamp  \n",
       "0        1439  105354361  38.857638 -84.626851  2015-02-21 11:34:25.000  \n",
       "1        1439  105354361  38.857638 -84.626851  2015-02-21 11:35:10.000  \n",
       "2        1369  105336226  41.421250 -87.767361  2015-02-21 11:35:26.000  \n",
       "3        1369  105336226  41.421018 -87.767361  2015-02-21 11:36:08.000  \n",
       "4        1674  105427130  38.416481 -89.442638  2015-02-21 11:39:37.000  "
      ]
     },
     "metadata": {},
     "output_type": "display_data"
    },
    {
     "data": {
      "application/vnd.microsoft.datawrangler.viewer.v0+json": {
       "columns": [
        {
         "name": "index",
         "rawType": "int64",
         "type": "integer"
        },
        {
         "name": "Id",
         "rawType": "int64",
         "type": "integer"
        },
        {
         "name": "Name",
         "rawType": "object",
         "type": "string"
        },
        {
         "name": "Value",
         "rawType": "object",
         "type": "string"
        },
        {
         "name": "FaultId",
         "rawType": "int64",
         "type": "integer"
        }
       ],
       "conversionMethod": "pd.DataFrame",
       "ref": "85382baa-16e9-4a59-b578-798e09aad9d1",
       "rows": [
        [
         "0",
         "1",
         "IgnStatus",
         "False",
         "1"
        ],
        [
         "1",
         "2",
         "EngineOilPressure",
         "0",
         "1"
        ],
        [
         "2",
         "3",
         "EngineOilTemperature",
         "96.74375",
         "1"
        ],
        [
         "3",
         "4",
         "TurboBoostPressure",
         "0",
         "1"
        ],
        [
         "4",
         "5",
         "EngineLoad",
         "11",
         "1"
        ]
       ],
       "shape": {
        "columns": 4,
        "rows": 5
       }
      },
      "text/html": [
       "<div>\n",
       "<style scoped>\n",
       "    .dataframe tbody tr th:only-of-type {\n",
       "        vertical-align: middle;\n",
       "    }\n",
       "\n",
       "    .dataframe tbody tr th {\n",
       "        vertical-align: top;\n",
       "    }\n",
       "\n",
       "    .dataframe thead th {\n",
       "        text-align: right;\n",
       "    }\n",
       "</style>\n",
       "<table border=\"1\" class=\"dataframe\">\n",
       "  <thead>\n",
       "    <tr style=\"text-align: right;\">\n",
       "      <th></th>\n",
       "      <th>Id</th>\n",
       "      <th>Name</th>\n",
       "      <th>Value</th>\n",
       "      <th>FaultId</th>\n",
       "    </tr>\n",
       "  </thead>\n",
       "  <tbody>\n",
       "    <tr>\n",
       "      <th>0</th>\n",
       "      <td>1</td>\n",
       "      <td>IgnStatus</td>\n",
       "      <td>False</td>\n",
       "      <td>1</td>\n",
       "    </tr>\n",
       "    <tr>\n",
       "      <th>1</th>\n",
       "      <td>2</td>\n",
       "      <td>EngineOilPressure</td>\n",
       "      <td>0</td>\n",
       "      <td>1</td>\n",
       "    </tr>\n",
       "    <tr>\n",
       "      <th>2</th>\n",
       "      <td>3</td>\n",
       "      <td>EngineOilTemperature</td>\n",
       "      <td>96.74375</td>\n",
       "      <td>1</td>\n",
       "    </tr>\n",
       "    <tr>\n",
       "      <th>3</th>\n",
       "      <td>4</td>\n",
       "      <td>TurboBoostPressure</td>\n",
       "      <td>0</td>\n",
       "      <td>1</td>\n",
       "    </tr>\n",
       "    <tr>\n",
       "      <th>4</th>\n",
       "      <td>5</td>\n",
       "      <td>EngineLoad</td>\n",
       "      <td>11</td>\n",
       "      <td>1</td>\n",
       "    </tr>\n",
       "  </tbody>\n",
       "</table>\n",
       "</div>"
      ],
      "text/plain": [
       "   Id                  Name     Value  FaultId\n",
       "0   1             IgnStatus     False        1\n",
       "1   2     EngineOilPressure         0        1\n",
       "2   3  EngineOilTemperature  96.74375        1\n",
       "3   4    TurboBoostPressure         0        1\n",
       "4   5            EngineLoad        11        1"
      ]
     },
     "metadata": {},
     "output_type": "display_data"
    }
   ],
   "source": [
    "faults_raw = pd.read_csv(\"../data/J1939Faults.csv\")\n",
    "diagnostics_raw = pd.read_csv(\"../data/vehiclediagnosticonboarddata.csv\")\n",
    "display(faults_raw.head())\n",
    "display(diagnostics_raw.head())"
   ]
  },
  {
   "cell_type": "code",
   "execution_count": 3,
   "metadata": {},
   "outputs": [
    {
     "name": "stdout",
     "output_type": "stream",
     "text": [
      "\n",
      "\n",
      "--------FAULTS_RAW COLUMNS--------\n"
     ]
    },
    {
     "data": {
      "text/plain": [
       "Index(['RecordID', 'ESS_Id', 'EventTimeStamp', 'ecuSerialNumber', 'spn', 'fmi',\n",
       "       'active', 'activeTransitionCount', 'EquipmentID', 'Latitude',\n",
       "       'Longitude'],\n",
       "      dtype='object')"
      ]
     },
     "metadata": {},
     "output_type": "display_data"
    },
    {
     "name": "stdout",
     "output_type": "stream",
     "text": [
      "\n",
      "\n",
      "--------SHAPE OF FAULTS--------\n"
     ]
    },
    {
     "data": {
      "text/plain": [
       "(1187335, 11)"
      ]
     },
     "metadata": {},
     "output_type": "display_data"
    },
    {
     "name": "stdout",
     "output_type": "stream",
     "text": [
      "\n",
      "\n",
      "--------NaNs--------\n"
     ]
    },
    {
     "data": {
      "text/plain": [
       "RecordID                      0\n",
       "ESS_Id                        0\n",
       "EventTimeStamp                0\n",
       "ecuSerialNumber          343017\n",
       "spn                           0\n",
       "fmi                           0\n",
       "active                        0\n",
       "activeTransitionCount         0\n",
       "EquipmentID                   0\n",
       "Latitude                      0\n",
       "Longitude                     0\n",
       "dtype: int64"
      ]
     },
     "metadata": {},
     "output_type": "display_data"
    }
   ],
   "source": [
    "# prepare faults\n",
    "faults_drop_cols = [\"actionDescription\", \"eventDescription\", \"ecuSource\", \"ecuSoftwareVersion\", \"ecuModel\", \"ecuMake\", \"faultValue\", \"MCTNumber\", \"LocationTimeStamp\"]\n",
    "faults = faults_raw.drop(columns=faults_drop_cols)\n",
    "print(\"\\n\\n--------FAULTS_RAW COLUMNS--------\")\n",
    "display(faults.columns)\n",
    "print(\"\\n\\n--------SHAPE OF FAULTS--------\")\n",
    "display(faults.shape)\n",
    "print(\"\\n\\n--------NaNs--------\")\n",
    "display(faults.isna().sum())"
   ]
  },
  {
   "cell_type": "code",
   "execution_count": 4,
   "metadata": {},
   "outputs": [
    {
     "name": "stdout",
     "output_type": "stream",
     "text": [
      "--------NaNs--------\n",
      "Id         0\n",
      "Name       0\n",
      "Value      0\n",
      "FaultId    0\n",
      "dtype: int64\n",
      "\n",
      "len(Id): 12821626 \n",
      "N unique_Id: 12821626\n",
      "\n",
      "--------RECORD ID vs FAULT ID--------\n",
      "n_unique FaultID: 1187335 \n",
      "n_unique RecordID: 1187335\n",
      "\n",
      "\n",
      "--------JOINED--------\n"
     ]
    },
    {
     "data": {
      "application/vnd.microsoft.datawrangler.viewer.v0+json": {
       "columns": [
        {
         "name": "index",
         "rawType": "int64",
         "type": "integer"
        },
        {
         "name": "RecordID",
         "rawType": "int64",
         "type": "integer"
        },
        {
         "name": "ESS_Id",
         "rawType": "int64",
         "type": "integer"
        },
        {
         "name": "EventTimeStamp",
         "rawType": "object",
         "type": "string"
        },
        {
         "name": "ecuSerialNumber",
         "rawType": "object",
         "type": "string"
        },
        {
         "name": "spn",
         "rawType": "int64",
         "type": "integer"
        },
        {
         "name": "fmi",
         "rawType": "int64",
         "type": "integer"
        },
        {
         "name": "active",
         "rawType": "bool",
         "type": "boolean"
        },
        {
         "name": "activeTransitionCount",
         "rawType": "int64",
         "type": "integer"
        },
        {
         "name": "EquipmentID",
         "rawType": "object",
         "type": "string"
        },
        {
         "name": "Latitude",
         "rawType": "float64",
         "type": "float"
        },
        {
         "name": "Longitude",
         "rawType": "float64",
         "type": "float"
        },
        {
         "name": "AcceleratorPedal",
         "rawType": "object",
         "type": "unknown"
        },
        {
         "name": "BarometricPressure",
         "rawType": "object",
         "type": "unknown"
        },
        {
         "name": "CruiseControlActive",
         "rawType": "object",
         "type": "unknown"
        },
        {
         "name": "CruiseControlSetSpeed",
         "rawType": "object",
         "type": "unknown"
        },
        {
         "name": "DistanceLtd",
         "rawType": "object",
         "type": "unknown"
        },
        {
         "name": "EngineCoolantTemperature",
         "rawType": "object",
         "type": "unknown"
        },
        {
         "name": "EngineLoad",
         "rawType": "object",
         "type": "unknown"
        },
        {
         "name": "EngineOilPressure",
         "rawType": "object",
         "type": "unknown"
        },
        {
         "name": "EngineOilTemperature",
         "rawType": "object",
         "type": "unknown"
        },
        {
         "name": "EngineRpm",
         "rawType": "object",
         "type": "unknown"
        },
        {
         "name": "EngineTimeLtd",
         "rawType": "object",
         "type": "unknown"
        },
        {
         "name": "FuelLevel",
         "rawType": "object",
         "type": "unknown"
        },
        {
         "name": "FuelLtd",
         "rawType": "object",
         "type": "unknown"
        },
        {
         "name": "FuelRate",
         "rawType": "object",
         "type": "unknown"
        },
        {
         "name": "FuelTemperature",
         "rawType": "object",
         "type": "unknown"
        },
        {
         "name": "IgnStatus",
         "rawType": "object",
         "type": "unknown"
        },
        {
         "name": "IntakeManifoldTemperature",
         "rawType": "object",
         "type": "unknown"
        },
        {
         "name": "LampStatus",
         "rawType": "object",
         "type": "string"
        },
        {
         "name": "ParkingBrake",
         "rawType": "object",
         "type": "unknown"
        },
        {
         "name": "ServiceDistance",
         "rawType": "object",
         "type": "unknown"
        },
        {
         "name": "Speed",
         "rawType": "object",
         "type": "unknown"
        },
        {
         "name": "SwitchedBatteryVoltage",
         "rawType": "object",
         "type": "unknown"
        },
        {
         "name": "Throttle",
         "rawType": "object",
         "type": "unknown"
        },
        {
         "name": "TurboBoostPressure",
         "rawType": "object",
         "type": "unknown"
        }
       ],
       "conversionMethod": "pd.DataFrame",
       "ref": "a73ec39e-6991-4950-a626-1c946f31e228",
       "rows": [
        [
         "0",
         "1",
         "990349",
         "2015-02-21 10:47:13.000",
         "unknown",
         "111",
         "17",
         "True",
         "2",
         "1439",
         "38.857638",
         "-84.626851",
         "0",
         "14.21",
         "False",
         "66.48672",
         "423178.7",
         "100.4",
         "11",
         "0",
         "96.74375",
         "0",
         "1632.2",
         "43.2",
         "12300.907429328",
         "0",
         null,
         "False",
         "78.8",
         "1023",
         "True",
         null,
         "0",
         "3276.75",
         null,
         "0"
        ],
        [
         "1",
         "2",
         "990360",
         "2015-02-21 11:34:34.000",
         "unknown",
         "629",
         "12",
         "True",
         "127",
         "1439",
         "38.857638",
         "-84.626851",
         null,
         null,
         null,
         null,
         null,
         null,
         null,
         null,
         null,
         null,
         null,
         null,
         null,
         null,
         null,
         "True",
         null,
         "1279",
         null,
         null,
         null,
         null,
         null,
         null
        ],
        [
         "2",
         "3",
         "990364",
         "2015-02-21 11:35:31.000",
         "unknown",
         "1807",
         "2",
         "False",
         "127",
         "1369",
         "41.42125",
         "-87.767361",
         null,
         null,
         null,
         null,
         null,
         null,
         null,
         null,
         null,
         null,
         null,
         null,
         null,
         null,
         null,
         null,
         null,
         "1279",
         null,
         null,
         null,
         null,
         null,
         null
        ],
        [
         "3",
         "4",
         "990370",
         "2015-02-21 11:35:33.000",
         "unknown",
         "1807",
         "2",
         "True",
         "127",
         "1369",
         "41.421018",
         "-87.767361",
         null,
         null,
         null,
         null,
         null,
         null,
         null,
         null,
         null,
         null,
         null,
         null,
         null,
         null,
         null,
         "True",
         null,
         "1279",
         null,
         null,
         null,
         null,
         null,
         null
        ],
        [
         "4",
         "5",
         "990416",
         "2015-02-21 11:39:41.000",
         "13063430",
         "4364",
         "17",
         "False",
         "2",
         "1674",
         "38.416481",
         "-89.442638",
         null,
         null,
         null,
         null,
         null,
         null,
         null,
         null,
         null,
         null,
         null,
         null,
         null,
         null,
         null,
         null,
         null,
         "16639",
         null,
         null,
         null,
         null,
         null,
         null
        ]
       ],
       "shape": {
        "columns": 35,
        "rows": 5
       }
      },
      "text/html": [
       "<div>\n",
       "<style scoped>\n",
       "    .dataframe tbody tr th:only-of-type {\n",
       "        vertical-align: middle;\n",
       "    }\n",
       "\n",
       "    .dataframe tbody tr th {\n",
       "        vertical-align: top;\n",
       "    }\n",
       "\n",
       "    .dataframe thead th {\n",
       "        text-align: right;\n",
       "    }\n",
       "</style>\n",
       "<table border=\"1\" class=\"dataframe\">\n",
       "  <thead>\n",
       "    <tr style=\"text-align: right;\">\n",
       "      <th></th>\n",
       "      <th>RecordID</th>\n",
       "      <th>ESS_Id</th>\n",
       "      <th>EventTimeStamp</th>\n",
       "      <th>ecuSerialNumber</th>\n",
       "      <th>spn</th>\n",
       "      <th>fmi</th>\n",
       "      <th>active</th>\n",
       "      <th>activeTransitionCount</th>\n",
       "      <th>EquipmentID</th>\n",
       "      <th>Latitude</th>\n",
       "      <th>...</th>\n",
       "      <th>FuelTemperature</th>\n",
       "      <th>IgnStatus</th>\n",
       "      <th>IntakeManifoldTemperature</th>\n",
       "      <th>LampStatus</th>\n",
       "      <th>ParkingBrake</th>\n",
       "      <th>ServiceDistance</th>\n",
       "      <th>Speed</th>\n",
       "      <th>SwitchedBatteryVoltage</th>\n",
       "      <th>Throttle</th>\n",
       "      <th>TurboBoostPressure</th>\n",
       "    </tr>\n",
       "  </thead>\n",
       "  <tbody>\n",
       "    <tr>\n",
       "      <th>0</th>\n",
       "      <td>1</td>\n",
       "      <td>990349</td>\n",
       "      <td>2015-02-21 10:47:13.000</td>\n",
       "      <td>unknown</td>\n",
       "      <td>111</td>\n",
       "      <td>17</td>\n",
       "      <td>True</td>\n",
       "      <td>2</td>\n",
       "      <td>1439</td>\n",
       "      <td>38.857638</td>\n",
       "      <td>...</td>\n",
       "      <td>NaN</td>\n",
       "      <td>False</td>\n",
       "      <td>78.8</td>\n",
       "      <td>1023</td>\n",
       "      <td>True</td>\n",
       "      <td>NaN</td>\n",
       "      <td>0</td>\n",
       "      <td>3276.75</td>\n",
       "      <td>NaN</td>\n",
       "      <td>0</td>\n",
       "    </tr>\n",
       "    <tr>\n",
       "      <th>1</th>\n",
       "      <td>2</td>\n",
       "      <td>990360</td>\n",
       "      <td>2015-02-21 11:34:34.000</td>\n",
       "      <td>unknown</td>\n",
       "      <td>629</td>\n",
       "      <td>12</td>\n",
       "      <td>True</td>\n",
       "      <td>127</td>\n",
       "      <td>1439</td>\n",
       "      <td>38.857638</td>\n",
       "      <td>...</td>\n",
       "      <td>NaN</td>\n",
       "      <td>True</td>\n",
       "      <td>NaN</td>\n",
       "      <td>1279</td>\n",
       "      <td>NaN</td>\n",
       "      <td>NaN</td>\n",
       "      <td>NaN</td>\n",
       "      <td>NaN</td>\n",
       "      <td>NaN</td>\n",
       "      <td>NaN</td>\n",
       "    </tr>\n",
       "    <tr>\n",
       "      <th>2</th>\n",
       "      <td>3</td>\n",
       "      <td>990364</td>\n",
       "      <td>2015-02-21 11:35:31.000</td>\n",
       "      <td>unknown</td>\n",
       "      <td>1807</td>\n",
       "      <td>2</td>\n",
       "      <td>False</td>\n",
       "      <td>127</td>\n",
       "      <td>1369</td>\n",
       "      <td>41.421250</td>\n",
       "      <td>...</td>\n",
       "      <td>NaN</td>\n",
       "      <td>NaN</td>\n",
       "      <td>NaN</td>\n",
       "      <td>1279</td>\n",
       "      <td>NaN</td>\n",
       "      <td>NaN</td>\n",
       "      <td>NaN</td>\n",
       "      <td>NaN</td>\n",
       "      <td>NaN</td>\n",
       "      <td>NaN</td>\n",
       "    </tr>\n",
       "    <tr>\n",
       "      <th>3</th>\n",
       "      <td>4</td>\n",
       "      <td>990370</td>\n",
       "      <td>2015-02-21 11:35:33.000</td>\n",
       "      <td>unknown</td>\n",
       "      <td>1807</td>\n",
       "      <td>2</td>\n",
       "      <td>True</td>\n",
       "      <td>127</td>\n",
       "      <td>1369</td>\n",
       "      <td>41.421018</td>\n",
       "      <td>...</td>\n",
       "      <td>NaN</td>\n",
       "      <td>True</td>\n",
       "      <td>NaN</td>\n",
       "      <td>1279</td>\n",
       "      <td>NaN</td>\n",
       "      <td>NaN</td>\n",
       "      <td>NaN</td>\n",
       "      <td>NaN</td>\n",
       "      <td>NaN</td>\n",
       "      <td>NaN</td>\n",
       "    </tr>\n",
       "    <tr>\n",
       "      <th>4</th>\n",
       "      <td>5</td>\n",
       "      <td>990416</td>\n",
       "      <td>2015-02-21 11:39:41.000</td>\n",
       "      <td>13063430</td>\n",
       "      <td>4364</td>\n",
       "      <td>17</td>\n",
       "      <td>False</td>\n",
       "      <td>2</td>\n",
       "      <td>1674</td>\n",
       "      <td>38.416481</td>\n",
       "      <td>...</td>\n",
       "      <td>NaN</td>\n",
       "      <td>NaN</td>\n",
       "      <td>NaN</td>\n",
       "      <td>16639</td>\n",
       "      <td>NaN</td>\n",
       "      <td>NaN</td>\n",
       "      <td>NaN</td>\n",
       "      <td>NaN</td>\n",
       "      <td>NaN</td>\n",
       "      <td>NaN</td>\n",
       "    </tr>\n",
       "  </tbody>\n",
       "</table>\n",
       "<p>5 rows × 35 columns</p>\n",
       "</div>"
      ],
      "text/plain": [
       "   RecordID  ESS_Id           EventTimeStamp ecuSerialNumber   spn  fmi  \\\n",
       "0         1  990349  2015-02-21 10:47:13.000         unknown   111   17   \n",
       "1         2  990360  2015-02-21 11:34:34.000         unknown   629   12   \n",
       "2         3  990364  2015-02-21 11:35:31.000         unknown  1807    2   \n",
       "3         4  990370  2015-02-21 11:35:33.000         unknown  1807    2   \n",
       "4         5  990416  2015-02-21 11:39:41.000        13063430  4364   17   \n",
       "\n",
       "   active  activeTransitionCount EquipmentID   Latitude  ...  FuelTemperature  \\\n",
       "0    True                      2        1439  38.857638  ...              NaN   \n",
       "1    True                    127        1439  38.857638  ...              NaN   \n",
       "2   False                    127        1369  41.421250  ...              NaN   \n",
       "3    True                    127        1369  41.421018  ...              NaN   \n",
       "4   False                      2        1674  38.416481  ...              NaN   \n",
       "\n",
       "  IgnStatus IntakeManifoldTemperature LampStatus ParkingBrake ServiceDistance  \\\n",
       "0     False                      78.8       1023         True             NaN   \n",
       "1      True                       NaN       1279          NaN             NaN   \n",
       "2       NaN                       NaN       1279          NaN             NaN   \n",
       "3      True                       NaN       1279          NaN             NaN   \n",
       "4       NaN                       NaN      16639          NaN             NaN   \n",
       "\n",
       "  Speed SwitchedBatteryVoltage Throttle TurboBoostPressure  \n",
       "0     0                3276.75      NaN                  0  \n",
       "1   NaN                    NaN      NaN                NaN  \n",
       "2   NaN                    NaN      NaN                NaN  \n",
       "3   NaN                    NaN      NaN                NaN  \n",
       "4   NaN                    NaN      NaN                NaN  \n",
       "\n",
       "[5 rows x 35 columns]"
      ]
     },
     "metadata": {},
     "output_type": "display_data"
    },
    {
     "name": "stdout",
     "output_type": "stream",
     "text": [
      "\n",
      "\n",
      "--------JOINED COLUMNS---------\n",
      "Index(['RecordID', 'ESS_Id', 'EventTimeStamp', 'ecuSerialNumber', 'spn', 'fmi',\n",
      "       'active', 'activeTransitionCount', 'EquipmentID', 'Latitude',\n",
      "       'Longitude', 'AcceleratorPedal', 'BarometricPressure',\n",
      "       'CruiseControlActive', 'CruiseControlSetSpeed', 'DistanceLtd',\n",
      "       'EngineCoolantTemperature', 'EngineLoad', 'EngineOilPressure',\n",
      "       'EngineOilTemperature', 'EngineRpm', 'EngineTimeLtd', 'FuelLevel',\n",
      "       'FuelLtd', 'FuelRate', 'FuelTemperature', 'IgnStatus',\n",
      "       'IntakeManifoldTemperature', 'LampStatus', 'ParkingBrake',\n",
      "       'ServiceDistance', 'Speed', 'SwitchedBatteryVoltage', 'Throttle',\n",
      "       'TurboBoostPressure'],\n",
      "      dtype='object')\n"
     ]
    }
   ],
   "source": [
    "# join diagnostics\n",
    "print(\"--------NaNs--------\")\n",
    "print(diagnostics_raw.isna().sum())\n",
    "n_ids = len(diagnostics_raw['Id'])\n",
    "n_unique_id = diagnostics_raw['Id'].nunique()\n",
    "n_un_faults = diagnostics_raw['FaultId'].nunique()\n",
    "\n",
    "diagnostics_raw[\"Value\"] = diagnostics_raw[\"Value\"].replace(\n",
    "    {\"FALSE\": False, \"TRUE\": True}\n",
    ")\n",
    "\n",
    "# pivot diagnostics to long format\n",
    "diagnostics = diagnostics_raw.pivot(\n",
    "    index=\"FaultId\", columns=\"Name\", values=\"Value\"\n",
    ")\n",
    "\n",
    "print(f\"\\nlen(Id): {n_ids}\", f\"\\nN unique_Id: {n_unique_id}\")\n",
    "print(\"\\n--------RECORD ID vs FAULT ID--------\")\n",
    "print(f\"n_unique FaultID: {n_un_faults}\", f\"\\nn_unique RecordID: {faults['RecordID'].nunique()}\")\n",
    "joined = faults.merge(diagnostics, how = \"inner\", left_on='RecordID', right_on='FaultId')\n",
    "print(\"\\n\\n--------JOINED--------\")\n",
    "display(joined.head())\n",
    "print(\"\\n\\n--------JOINED COLUMNS---------\")\n",
    "print(joined.columns)\n"
   ]
  },
  {
   "cell_type": "markdown",
   "metadata": {},
   "source": [
    "filter out faults near service stations"
   ]
  },
  {
   "cell_type": "code",
   "execution_count": 5,
   "metadata": {},
   "outputs": [],
   "source": [
    "joined_pre_station_filter = joined"
   ]
  },
  {
   "cell_type": "code",
   "execution_count": 8,
   "metadata": {},
   "outputs": [
    {
     "name": "stdout",
     "output_type": "stream",
     "text": [
      "Labeling faults near service stations...\n",
      "\n",
      "Done! \n",
      "Faults within 1km of service station labeled in 'joined'.\n",
      "\n"
     ]
    },
    {
     "data": {
      "application/vnd.microsoft.datawrangler.viewer.v0+json": {
       "columns": [
        {
         "name": "index",
         "rawType": "int64",
         "type": "integer"
        },
        {
         "name": "RecordID",
         "rawType": "int64",
         "type": "integer"
        },
        {
         "name": "ESS_Id",
         "rawType": "int64",
         "type": "integer"
        },
        {
         "name": "EventTimeStamp",
         "rawType": "object",
         "type": "string"
        },
        {
         "name": "ecuSerialNumber",
         "rawType": "object",
         "type": "string"
        },
        {
         "name": "spn",
         "rawType": "int64",
         "type": "integer"
        },
        {
         "name": "fmi",
         "rawType": "int64",
         "type": "integer"
        },
        {
         "name": "active",
         "rawType": "bool",
         "type": "boolean"
        },
        {
         "name": "activeTransitionCount",
         "rawType": "int64",
         "type": "integer"
        },
        {
         "name": "EquipmentID",
         "rawType": "object",
         "type": "string"
        },
        {
         "name": "Latitude",
         "rawType": "float64",
         "type": "float"
        },
        {
         "name": "Longitude",
         "rawType": "float64",
         "type": "float"
        },
        {
         "name": "AcceleratorPedal",
         "rawType": "object",
         "type": "unknown"
        },
        {
         "name": "BarometricPressure",
         "rawType": "object",
         "type": "unknown"
        },
        {
         "name": "CruiseControlActive",
         "rawType": "object",
         "type": "unknown"
        },
        {
         "name": "CruiseControlSetSpeed",
         "rawType": "object",
         "type": "unknown"
        },
        {
         "name": "DistanceLtd",
         "rawType": "object",
         "type": "unknown"
        },
        {
         "name": "EngineCoolantTemperature",
         "rawType": "object",
         "type": "unknown"
        },
        {
         "name": "EngineLoad",
         "rawType": "object",
         "type": "unknown"
        },
        {
         "name": "EngineOilPressure",
         "rawType": "object",
         "type": "unknown"
        },
        {
         "name": "EngineOilTemperature",
         "rawType": "object",
         "type": "unknown"
        },
        {
         "name": "EngineRpm",
         "rawType": "object",
         "type": "unknown"
        },
        {
         "name": "EngineTimeLtd",
         "rawType": "object",
         "type": "unknown"
        },
        {
         "name": "FuelLevel",
         "rawType": "object",
         "type": "unknown"
        },
        {
         "name": "FuelLtd",
         "rawType": "object",
         "type": "unknown"
        },
        {
         "name": "FuelRate",
         "rawType": "object",
         "type": "unknown"
        },
        {
         "name": "FuelTemperature",
         "rawType": "object",
         "type": "unknown"
        },
        {
         "name": "IgnStatus",
         "rawType": "object",
         "type": "unknown"
        },
        {
         "name": "IntakeManifoldTemperature",
         "rawType": "object",
         "type": "unknown"
        },
        {
         "name": "LampStatus",
         "rawType": "object",
         "type": "string"
        },
        {
         "name": "ParkingBrake",
         "rawType": "object",
         "type": "unknown"
        },
        {
         "name": "ServiceDistance",
         "rawType": "object",
         "type": "unknown"
        },
        {
         "name": "Speed",
         "rawType": "object",
         "type": "unknown"
        },
        {
         "name": "SwitchedBatteryVoltage",
         "rawType": "object",
         "type": "unknown"
        },
        {
         "name": "Throttle",
         "rawType": "object",
         "type": "unknown"
        },
        {
         "name": "TurboBoostPressure",
         "rawType": "object",
         "type": "unknown"
        },
        {
         "name": "nearStation",
         "rawType": "bool",
         "type": "boolean"
        }
       ],
       "conversionMethod": "pd.DataFrame",
       "ref": "ca6a5858-8f75-4a70-a1b2-c542bb78e1cb",
       "rows": [
        [
         "0",
         "1",
         "990349",
         "2015-02-21 10:47:13.000",
         "unknown",
         "111",
         "17",
         "True",
         "2",
         "1439",
         "38.857638",
         "-84.626851",
         "0",
         "14.21",
         "False",
         "66.48672",
         "423178.7",
         "100.4",
         "11",
         "0",
         "96.74375",
         "0",
         "1632.2",
         "43.2",
         "12300.907429328",
         "0",
         null,
         "False",
         "78.8",
         "1023",
         "True",
         null,
         "0",
         "3276.75",
         null,
         "0",
         "False"
        ],
        [
         "1",
         "2",
         "990360",
         "2015-02-21 11:34:34.000",
         "unknown",
         "629",
         "12",
         "True",
         "127",
         "1439",
         "38.857638",
         "-84.626851",
         null,
         null,
         null,
         null,
         null,
         null,
         null,
         null,
         null,
         null,
         null,
         null,
         null,
         null,
         null,
         "True",
         null,
         "1279",
         null,
         null,
         null,
         null,
         null,
         null,
         "False"
        ],
        [
         "2",
         "3",
         "990364",
         "2015-02-21 11:35:31.000",
         "unknown",
         "1807",
         "2",
         "False",
         "127",
         "1369",
         "41.42125",
         "-87.767361",
         null,
         null,
         null,
         null,
         null,
         null,
         null,
         null,
         null,
         null,
         null,
         null,
         null,
         null,
         null,
         null,
         null,
         "1279",
         null,
         null,
         null,
         null,
         null,
         null,
         "False"
        ]
       ],
       "shape": {
        "columns": 36,
        "rows": 3
       }
      },
      "text/html": [
       "<div>\n",
       "<style scoped>\n",
       "    .dataframe tbody tr th:only-of-type {\n",
       "        vertical-align: middle;\n",
       "    }\n",
       "\n",
       "    .dataframe tbody tr th {\n",
       "        vertical-align: top;\n",
       "    }\n",
       "\n",
       "    .dataframe thead th {\n",
       "        text-align: right;\n",
       "    }\n",
       "</style>\n",
       "<table border=\"1\" class=\"dataframe\">\n",
       "  <thead>\n",
       "    <tr style=\"text-align: right;\">\n",
       "      <th></th>\n",
       "      <th>RecordID</th>\n",
       "      <th>ESS_Id</th>\n",
       "      <th>EventTimeStamp</th>\n",
       "      <th>ecuSerialNumber</th>\n",
       "      <th>spn</th>\n",
       "      <th>fmi</th>\n",
       "      <th>active</th>\n",
       "      <th>activeTransitionCount</th>\n",
       "      <th>EquipmentID</th>\n",
       "      <th>Latitude</th>\n",
       "      <th>...</th>\n",
       "      <th>IgnStatus</th>\n",
       "      <th>IntakeManifoldTemperature</th>\n",
       "      <th>LampStatus</th>\n",
       "      <th>ParkingBrake</th>\n",
       "      <th>ServiceDistance</th>\n",
       "      <th>Speed</th>\n",
       "      <th>SwitchedBatteryVoltage</th>\n",
       "      <th>Throttle</th>\n",
       "      <th>TurboBoostPressure</th>\n",
       "      <th>nearStation</th>\n",
       "    </tr>\n",
       "  </thead>\n",
       "  <tbody>\n",
       "    <tr>\n",
       "      <th>0</th>\n",
       "      <td>1</td>\n",
       "      <td>990349</td>\n",
       "      <td>2015-02-21 10:47:13.000</td>\n",
       "      <td>unknown</td>\n",
       "      <td>111</td>\n",
       "      <td>17</td>\n",
       "      <td>True</td>\n",
       "      <td>2</td>\n",
       "      <td>1439</td>\n",
       "      <td>38.857638</td>\n",
       "      <td>...</td>\n",
       "      <td>False</td>\n",
       "      <td>78.8</td>\n",
       "      <td>1023</td>\n",
       "      <td>True</td>\n",
       "      <td>NaN</td>\n",
       "      <td>0</td>\n",
       "      <td>3276.75</td>\n",
       "      <td>NaN</td>\n",
       "      <td>0</td>\n",
       "      <td>False</td>\n",
       "    </tr>\n",
       "    <tr>\n",
       "      <th>1</th>\n",
       "      <td>2</td>\n",
       "      <td>990360</td>\n",
       "      <td>2015-02-21 11:34:34.000</td>\n",
       "      <td>unknown</td>\n",
       "      <td>629</td>\n",
       "      <td>12</td>\n",
       "      <td>True</td>\n",
       "      <td>127</td>\n",
       "      <td>1439</td>\n",
       "      <td>38.857638</td>\n",
       "      <td>...</td>\n",
       "      <td>True</td>\n",
       "      <td>NaN</td>\n",
       "      <td>1279</td>\n",
       "      <td>NaN</td>\n",
       "      <td>NaN</td>\n",
       "      <td>NaN</td>\n",
       "      <td>NaN</td>\n",
       "      <td>NaN</td>\n",
       "      <td>NaN</td>\n",
       "      <td>False</td>\n",
       "    </tr>\n",
       "    <tr>\n",
       "      <th>2</th>\n",
       "      <td>3</td>\n",
       "      <td>990364</td>\n",
       "      <td>2015-02-21 11:35:31.000</td>\n",
       "      <td>unknown</td>\n",
       "      <td>1807</td>\n",
       "      <td>2</td>\n",
       "      <td>False</td>\n",
       "      <td>127</td>\n",
       "      <td>1369</td>\n",
       "      <td>41.421250</td>\n",
       "      <td>...</td>\n",
       "      <td>NaN</td>\n",
       "      <td>NaN</td>\n",
       "      <td>1279</td>\n",
       "      <td>NaN</td>\n",
       "      <td>NaN</td>\n",
       "      <td>NaN</td>\n",
       "      <td>NaN</td>\n",
       "      <td>NaN</td>\n",
       "      <td>NaN</td>\n",
       "      <td>False</td>\n",
       "    </tr>\n",
       "  </tbody>\n",
       "</table>\n",
       "<p>3 rows × 36 columns</p>\n",
       "</div>"
      ],
      "text/plain": [
       "   RecordID  ESS_Id           EventTimeStamp ecuSerialNumber   spn  fmi  \\\n",
       "0         1  990349  2015-02-21 10:47:13.000         unknown   111   17   \n",
       "1         2  990360  2015-02-21 11:34:34.000         unknown   629   12   \n",
       "2         3  990364  2015-02-21 11:35:31.000         unknown  1807    2   \n",
       "\n",
       "   active  activeTransitionCount EquipmentID   Latitude  ...  IgnStatus  \\\n",
       "0    True                      2        1439  38.857638  ...      False   \n",
       "1    True                    127        1439  38.857638  ...       True   \n",
       "2   False                    127        1369  41.421250  ...        NaN   \n",
       "\n",
       "  IntakeManifoldTemperature LampStatus ParkingBrake ServiceDistance Speed  \\\n",
       "0                      78.8       1023         True             NaN     0   \n",
       "1                       NaN       1279          NaN             NaN   NaN   \n",
       "2                       NaN       1279          NaN             NaN   NaN   \n",
       "\n",
       "  SwitchedBatteryVoltage Throttle TurboBoostPressure nearStation  \n",
       "0                3276.75      NaN                  0       False  \n",
       "1                    NaN      NaN                NaN       False  \n",
       "2                    NaN      NaN                NaN       False  \n",
       "\n",
       "[3 rows x 36 columns]"
      ]
     },
     "metadata": {},
     "output_type": "display_data"
    },
    {
     "name": "stdout",
     "output_type": "stream",
     "text": [
      "\n",
      "When filtered, this removes 129284 rows\n"
     ]
    }
   ],
   "source": [
    "# label near service stations\n",
    "print(\"Labeling faults near service stations...\")\n",
    "stations = pd.DataFrame(\n",
    "    {\n",
    "        \"lat\": [36.0666667, 35.5883333, 36.1950],\n",
    "        \"lon\": [-86.4347222, -86.4438888, -83.174722],\n",
    "    }\n",
    ")\n",
    "threshold_miles = 0.5\n",
    "threshold_meters = threshold_miles * 1609.34\n",
    "# create geodataframes with geopandas\n",
    "gdf_joined = gpd.GeoDataFrame(\n",
    "    joined,\n",
    "    geometry=gpd.points_from_xy(joined.Latitude, joined.Longitude),\n",
    "    crs=\"EPSG:4326\",  # WGS84 coord ref sys (lat/lon)\n",
    ")\n",
    "gdf_stations = gpd.GeoDataFrame(\n",
    "    stations,\n",
    "    geometry=gpd.points_from_xy(stations.lat, stations.lon),\n",
    "    crs=\"EPSG:4326\",\n",
    ")\n",
    "target_crs = \"EPSG:9311\"\n",
    "# reproject onto new crs for better distance measurement\n",
    "gdf_joined_proj = gdf_joined.to_crs(target_crs)\n",
    "gdf_stations_proj = gdf_stations.to_crs(target_crs)\n",
    "# create buffers around stations\n",
    "station_buf = gdf_stations_proj.geometry.buffer(threshold_meters)\n",
    "combined_buffer = (\n",
    "    station_buf.union_all()\n",
    ")  # turns into single geometry which helps with efficiency\n",
    "is_within = gdf_joined_proj.geometry.within(combined_buffer)\n",
    "joined[\"nearStation\"] = is_within.values\n",
    "joined_post_filter = joined[joined['nearStation'] == False]\n",
    "print(\"\\nDone! \\nFaults within 1km of service station labeled in 'joined'.\\n\")\n",
    "display(joined.head(3))\n",
    "print(f\"\\nWhen filtered, this removes {len(joined_pre_station_filter['RecordID']) - len(joined_post_filter['RecordID'])} rows\")\n"
   ]
  },
  {
   "cell_type": "code",
   "execution_count": 9,
   "metadata": {},
   "outputs": [
    {
     "name": "stdout",
     "output_type": "stream",
     "text": [
      "spn\n",
      "111      365489\n",
      "929      256541\n",
      "96        90041\n",
      "829       87788\n",
      "639       41062\n",
      "          ...  \n",
      "46262         1\n",
      "54478         1\n",
      "677           1\n",
      "56503         1\n",
      "6327          1\n",
      "Name: count, Length: 450, dtype: int64 Index(['RecordID', 'ESS_Id', 'EventTimeStamp', 'ecuSerialNumber', 'spn', 'fmi',\n",
      "       'active', 'activeTransitionCount', 'EquipmentID', 'Latitude',\n",
      "       'Longitude', 'AcceleratorPedal', 'BarometricPressure',\n",
      "       'CruiseControlActive', 'CruiseControlSetSpeed', 'DistanceLtd',\n",
      "       'EngineCoolantTemperature', 'EngineLoad', 'EngineOilPressure',\n",
      "       'EngineOilTemperature', 'EngineRpm', 'EngineTimeLtd', 'FuelLevel',\n",
      "       'FuelLtd', 'FuelRate', 'FuelTemperature', 'IgnStatus',\n",
      "       'IntakeManifoldTemperature', 'LampStatus', 'ParkingBrake',\n",
      "       'ServiceDistance', 'Speed', 'SwitchedBatteryVoltage', 'Throttle',\n",
      "       'TurboBoostPressure', 'nearStation'],\n",
      "      dtype='object')\n"
     ]
    }
   ],
   "source": [
    "print(joined['spn'].value_counts(), joined.columns)"
   ]
  },
  {
   "cell_type": "code",
   "execution_count": 10,
   "metadata": {},
   "outputs": [],
   "source": [
    "full_derates_raw = joined[joined['spn'] == 5246]\n",
    "partial_derates_raw = joined[(joined['spn'] == 1569) & (joined['fmi'] == 31)]\n",
    "# print(\"--------FULL DERATES---------\")\n",
    "# display(f\"derate shape: {full_derates_raw.shape}\", full_derates_raw.head(3))\n",
    "#print(\"\\n--------PARTIAL DERATES---------\")\n",
    "#display(f\"partial derate shape: {partial_derates_raw.shape}\", partial_derates_raw.head(3))"
   ]
  },
  {
   "cell_type": "markdown",
   "metadata": {},
   "source": [
    "- [ ] look at time series by Equipment ID"
   ]
  },
  {
   "cell_type": "code",
   "execution_count": 11,
   "metadata": {},
   "outputs": [
    {
     "data": {
      "text/plain": [
       "EquipmentID\n",
       "1641         17216\n",
       "1646         15174\n",
       "1618         14774\n",
       "1605         14748\n",
       "1606         14654\n",
       "             ...  \n",
       "105427271        1\n",
       "105435406        1\n",
       "105381862        1\n",
       "105438645        1\n",
       "105301976        1\n",
       "Name: count, Length: 1927, dtype: int64"
      ]
     },
     "execution_count": 11,
     "metadata": {},
     "output_type": "execute_result"
    }
   ],
   "source": [
    "joined['EquipmentID'].value_counts()"
   ]
  }
 ],
 "metadata": {
  "kernelspec": {
   "display_name": ".venv",
   "language": "python",
   "name": "python3"
  },
  "language_info": {
   "codemirror_mode": {
    "name": "ipython",
    "version": 3
   },
   "file_extension": ".py",
   "mimetype": "text/x-python",
   "name": "python",
   "nbconvert_exporter": "python",
   "pygments_lexer": "ipython3",
   "version": "3.11.11"
  }
 },
 "nbformat": 4,
 "nbformat_minor": 2
}
