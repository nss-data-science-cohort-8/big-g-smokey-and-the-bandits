{
 "cells": [
  {
   "cell_type": "markdown",
   "metadata": {},
   "source": [
    "import libraries / modules"
   ]
  },
  {
   "cell_type": "code",
   "execution_count": 1,
   "metadata": {},
   "outputs": [],
   "source": [
    "import pandas as pd\n",
    "import geopandas as gpd"
   ]
  },
  {
   "cell_type": "markdown",
   "metadata": {},
   "source": [
    "load & prepare data"
   ]
  },
  {
   "cell_type": "code",
   "execution_count": 2,
   "metadata": {},
   "outputs": [
    {
     "name": "stderr",
     "output_type": "stream",
     "text": [
      "/var/folders/1c/yvl84p5d2rv0n8dkqqjgmkdm0000gn/T/ipykernel_44821/3477976821.py:1: DtypeWarning: Columns (15) have mixed types. Specify dtype option on import or set low_memory=False.\n",
      "  faults_raw = pd.read_csv(\"../data/J1939Faults.csv\")\n"
     ]
    },
    {
     "data": {
      "application/vnd.microsoft.datawrangler.viewer.v0+json": {
       "columns": [
        {
         "name": "index",
         "rawType": "int64",
         "type": "integer"
        },
        {
         "name": "RecordID",
         "rawType": "int64",
         "type": "integer"
        },
        {
         "name": "ESS_Id",
         "rawType": "int64",
         "type": "integer"
        },
        {
         "name": "EventTimeStamp",
         "rawType": "object",
         "type": "string"
        },
        {
         "name": "eventDescription",
         "rawType": "object",
         "type": "unknown"
        },
        {
         "name": "actionDescription",
         "rawType": "float64",
         "type": "float"
        },
        {
         "name": "ecuSoftwareVersion",
         "rawType": "object",
         "type": "string"
        },
        {
         "name": "ecuSerialNumber",
         "rawType": "object",
         "type": "string"
        },
        {
         "name": "ecuModel",
         "rawType": "object",
         "type": "string"
        },
        {
         "name": "ecuMake",
         "rawType": "object",
         "type": "string"
        },
        {
         "name": "ecuSource",
         "rawType": "int64",
         "type": "integer"
        },
        {
         "name": "spn",
         "rawType": "int64",
         "type": "integer"
        },
        {
         "name": "fmi",
         "rawType": "int64",
         "type": "integer"
        },
        {
         "name": "active",
         "rawType": "bool",
         "type": "boolean"
        },
        {
         "name": "activeTransitionCount",
         "rawType": "int64",
         "type": "integer"
        },
        {
         "name": "faultValue",
         "rawType": "float64",
         "type": "float"
        },
        {
         "name": "EquipmentID",
         "rawType": "object",
         "type": "string"
        },
        {
         "name": "MCTNumber",
         "rawType": "int64",
         "type": "integer"
        },
        {
         "name": "Latitude",
         "rawType": "float64",
         "type": "float"
        },
        {
         "name": "Longitude",
         "rawType": "float64",
         "type": "float"
        },
        {
         "name": "LocationTimeStamp",
         "rawType": "object",
         "type": "string"
        }
       ],
       "conversionMethod": "pd.DataFrame",
       "ref": "4a612dec-f23d-4508-8bbe-f7e80b664aca",
       "rows": [
        [
         "0",
         "1",
         "990349",
         "2015-02-21 10:47:13.000",
         "Low (Severity Low) Engine Coolant Level",
         null,
         "unknown",
         "unknown",
         "unknown",
         "unknown",
         "0",
         "111",
         "17",
         "True",
         "2",
         null,
         "1439",
         "105354361",
         "38.857638",
         "-84.626851",
         "2015-02-21 11:34:25.000"
        ],
        [
         "1",
         "2",
         "990360",
         "2015-02-21 11:34:34.000",
         null,
         null,
         "unknown",
         "unknown",
         "unknown",
         "unknown",
         "11",
         "629",
         "12",
         "True",
         "127",
         null,
         "1439",
         "105354361",
         "38.857638",
         "-84.626851",
         "2015-02-21 11:35:10.000"
        ],
        [
         "2",
         "3",
         "990364",
         "2015-02-21 11:35:31.000",
         "Incorrect Data Steering Wheel Angle",
         null,
         "unknown",
         "unknown",
         "unknown",
         "unknown",
         "11",
         "1807",
         "2",
         "False",
         "127",
         null,
         "1369",
         "105336226",
         "41.42125",
         "-87.767361",
         "2015-02-21 11:35:26.000"
        ],
        [
         "3",
         "4",
         "990370",
         "2015-02-21 11:35:33.000",
         "Incorrect Data Steering Wheel Angle",
         null,
         "unknown",
         "unknown",
         "unknown",
         "unknown",
         "11",
         "1807",
         "2",
         "True",
         "127",
         null,
         "1369",
         "105336226",
         "41.421018",
         "-87.767361",
         "2015-02-21 11:36:08.000"
        ],
        [
         "4",
         "5",
         "990416",
         "2015-02-21 11:39:41.000",
         null,
         null,
         "22281684P01*22357957P01*22362082P01*",
         "13063430",
         "0USA13_13_0415_2238A",
         "VOLVO",
         "0",
         "4364",
         "17",
         "False",
         "2",
         null,
         "1674",
         "105427130",
         "38.416481",
         "-89.442638",
         "2015-02-21 11:39:37.000"
        ]
       ],
       "shape": {
        "columns": 20,
        "rows": 5
       }
      },
      "text/html": [
       "<div>\n",
       "<style scoped>\n",
       "    .dataframe tbody tr th:only-of-type {\n",
       "        vertical-align: middle;\n",
       "    }\n",
       "\n",
       "    .dataframe tbody tr th {\n",
       "        vertical-align: top;\n",
       "    }\n",
       "\n",
       "    .dataframe thead th {\n",
       "        text-align: right;\n",
       "    }\n",
       "</style>\n",
       "<table border=\"1\" class=\"dataframe\">\n",
       "  <thead>\n",
       "    <tr style=\"text-align: right;\">\n",
       "      <th></th>\n",
       "      <th>RecordID</th>\n",
       "      <th>ESS_Id</th>\n",
       "      <th>EventTimeStamp</th>\n",
       "      <th>eventDescription</th>\n",
       "      <th>actionDescription</th>\n",
       "      <th>ecuSoftwareVersion</th>\n",
       "      <th>ecuSerialNumber</th>\n",
       "      <th>ecuModel</th>\n",
       "      <th>ecuMake</th>\n",
       "      <th>ecuSource</th>\n",
       "      <th>spn</th>\n",
       "      <th>fmi</th>\n",
       "      <th>active</th>\n",
       "      <th>activeTransitionCount</th>\n",
       "      <th>faultValue</th>\n",
       "      <th>EquipmentID</th>\n",
       "      <th>MCTNumber</th>\n",
       "      <th>Latitude</th>\n",
       "      <th>Longitude</th>\n",
       "      <th>LocationTimeStamp</th>\n",
       "    </tr>\n",
       "  </thead>\n",
       "  <tbody>\n",
       "    <tr>\n",
       "      <th>0</th>\n",
       "      <td>1</td>\n",
       "      <td>990349</td>\n",
       "      <td>2015-02-21 10:47:13.000</td>\n",
       "      <td>Low (Severity Low) Engine Coolant Level</td>\n",
       "      <td>NaN</td>\n",
       "      <td>unknown</td>\n",
       "      <td>unknown</td>\n",
       "      <td>unknown</td>\n",
       "      <td>unknown</td>\n",
       "      <td>0</td>\n",
       "      <td>111</td>\n",
       "      <td>17</td>\n",
       "      <td>True</td>\n",
       "      <td>2</td>\n",
       "      <td>NaN</td>\n",
       "      <td>1439</td>\n",
       "      <td>105354361</td>\n",
       "      <td>38.857638</td>\n",
       "      <td>-84.626851</td>\n",
       "      <td>2015-02-21 11:34:25.000</td>\n",
       "    </tr>\n",
       "    <tr>\n",
       "      <th>1</th>\n",
       "      <td>2</td>\n",
       "      <td>990360</td>\n",
       "      <td>2015-02-21 11:34:34.000</td>\n",
       "      <td>NaN</td>\n",
       "      <td>NaN</td>\n",
       "      <td>unknown</td>\n",
       "      <td>unknown</td>\n",
       "      <td>unknown</td>\n",
       "      <td>unknown</td>\n",
       "      <td>11</td>\n",
       "      <td>629</td>\n",
       "      <td>12</td>\n",
       "      <td>True</td>\n",
       "      <td>127</td>\n",
       "      <td>NaN</td>\n",
       "      <td>1439</td>\n",
       "      <td>105354361</td>\n",
       "      <td>38.857638</td>\n",
       "      <td>-84.626851</td>\n",
       "      <td>2015-02-21 11:35:10.000</td>\n",
       "    </tr>\n",
       "    <tr>\n",
       "      <th>2</th>\n",
       "      <td>3</td>\n",
       "      <td>990364</td>\n",
       "      <td>2015-02-21 11:35:31.000</td>\n",
       "      <td>Incorrect Data Steering Wheel Angle</td>\n",
       "      <td>NaN</td>\n",
       "      <td>unknown</td>\n",
       "      <td>unknown</td>\n",
       "      <td>unknown</td>\n",
       "      <td>unknown</td>\n",
       "      <td>11</td>\n",
       "      <td>1807</td>\n",
       "      <td>2</td>\n",
       "      <td>False</td>\n",
       "      <td>127</td>\n",
       "      <td>NaN</td>\n",
       "      <td>1369</td>\n",
       "      <td>105336226</td>\n",
       "      <td>41.421250</td>\n",
       "      <td>-87.767361</td>\n",
       "      <td>2015-02-21 11:35:26.000</td>\n",
       "    </tr>\n",
       "    <tr>\n",
       "      <th>3</th>\n",
       "      <td>4</td>\n",
       "      <td>990370</td>\n",
       "      <td>2015-02-21 11:35:33.000</td>\n",
       "      <td>Incorrect Data Steering Wheel Angle</td>\n",
       "      <td>NaN</td>\n",
       "      <td>unknown</td>\n",
       "      <td>unknown</td>\n",
       "      <td>unknown</td>\n",
       "      <td>unknown</td>\n",
       "      <td>11</td>\n",
       "      <td>1807</td>\n",
       "      <td>2</td>\n",
       "      <td>True</td>\n",
       "      <td>127</td>\n",
       "      <td>NaN</td>\n",
       "      <td>1369</td>\n",
       "      <td>105336226</td>\n",
       "      <td>41.421018</td>\n",
       "      <td>-87.767361</td>\n",
       "      <td>2015-02-21 11:36:08.000</td>\n",
       "    </tr>\n",
       "    <tr>\n",
       "      <th>4</th>\n",
       "      <td>5</td>\n",
       "      <td>990416</td>\n",
       "      <td>2015-02-21 11:39:41.000</td>\n",
       "      <td>NaN</td>\n",
       "      <td>NaN</td>\n",
       "      <td>22281684P01*22357957P01*22362082P01*</td>\n",
       "      <td>13063430</td>\n",
       "      <td>0USA13_13_0415_2238A</td>\n",
       "      <td>VOLVO</td>\n",
       "      <td>0</td>\n",
       "      <td>4364</td>\n",
       "      <td>17</td>\n",
       "      <td>False</td>\n",
       "      <td>2</td>\n",
       "      <td>NaN</td>\n",
       "      <td>1674</td>\n",
       "      <td>105427130</td>\n",
       "      <td>38.416481</td>\n",
       "      <td>-89.442638</td>\n",
       "      <td>2015-02-21 11:39:37.000</td>\n",
       "    </tr>\n",
       "  </tbody>\n",
       "</table>\n",
       "</div>"
      ],
      "text/plain": [
       "   RecordID  ESS_Id           EventTimeStamp  \\\n",
       "0         1  990349  2015-02-21 10:47:13.000   \n",
       "1         2  990360  2015-02-21 11:34:34.000   \n",
       "2         3  990364  2015-02-21 11:35:31.000   \n",
       "3         4  990370  2015-02-21 11:35:33.000   \n",
       "4         5  990416  2015-02-21 11:39:41.000   \n",
       "\n",
       "                          eventDescription  actionDescription  \\\n",
       "0  Low (Severity Low) Engine Coolant Level                NaN   \n",
       "1                                      NaN                NaN   \n",
       "2      Incorrect Data Steering Wheel Angle                NaN   \n",
       "3      Incorrect Data Steering Wheel Angle                NaN   \n",
       "4                                      NaN                NaN   \n",
       "\n",
       "                     ecuSoftwareVersion ecuSerialNumber              ecuModel  \\\n",
       "0                               unknown         unknown               unknown   \n",
       "1                               unknown         unknown               unknown   \n",
       "2                               unknown         unknown               unknown   \n",
       "3                               unknown         unknown               unknown   \n",
       "4  22281684P01*22357957P01*22362082P01*        13063430  0USA13_13_0415_2238A   \n",
       "\n",
       "   ecuMake  ecuSource   spn  fmi  active  activeTransitionCount  faultValue  \\\n",
       "0  unknown          0   111   17    True                      2         NaN   \n",
       "1  unknown         11   629   12    True                    127         NaN   \n",
       "2  unknown         11  1807    2   False                    127         NaN   \n",
       "3  unknown         11  1807    2    True                    127         NaN   \n",
       "4    VOLVO          0  4364   17   False                      2         NaN   \n",
       "\n",
       "  EquipmentID  MCTNumber   Latitude  Longitude        LocationTimeStamp  \n",
       "0        1439  105354361  38.857638 -84.626851  2015-02-21 11:34:25.000  \n",
       "1        1439  105354361  38.857638 -84.626851  2015-02-21 11:35:10.000  \n",
       "2        1369  105336226  41.421250 -87.767361  2015-02-21 11:35:26.000  \n",
       "3        1369  105336226  41.421018 -87.767361  2015-02-21 11:36:08.000  \n",
       "4        1674  105427130  38.416481 -89.442638  2015-02-21 11:39:37.000  "
      ]
     },
     "metadata": {},
     "output_type": "display_data"
    },
    {
     "data": {
      "application/vnd.microsoft.datawrangler.viewer.v0+json": {
       "columns": [
        {
         "name": "index",
         "rawType": "int64",
         "type": "integer"
        },
        {
         "name": "Id",
         "rawType": "int64",
         "type": "integer"
        },
        {
         "name": "Name",
         "rawType": "object",
         "type": "string"
        },
        {
         "name": "Value",
         "rawType": "object",
         "type": "string"
        },
        {
         "name": "FaultId",
         "rawType": "int64",
         "type": "integer"
        }
       ],
       "conversionMethod": "pd.DataFrame",
       "ref": "a7879a07-a0f7-4ded-ac55-03e03c4d2441",
       "rows": [
        [
         "0",
         "1",
         "IgnStatus",
         "False",
         "1"
        ],
        [
         "1",
         "2",
         "EngineOilPressure",
         "0",
         "1"
        ],
        [
         "2",
         "3",
         "EngineOilTemperature",
         "96.74375",
         "1"
        ],
        [
         "3",
         "4",
         "TurboBoostPressure",
         "0",
         "1"
        ],
        [
         "4",
         "5",
         "EngineLoad",
         "11",
         "1"
        ]
       ],
       "shape": {
        "columns": 4,
        "rows": 5
       }
      },
      "text/html": [
       "<div>\n",
       "<style scoped>\n",
       "    .dataframe tbody tr th:only-of-type {\n",
       "        vertical-align: middle;\n",
       "    }\n",
       "\n",
       "    .dataframe tbody tr th {\n",
       "        vertical-align: top;\n",
       "    }\n",
       "\n",
       "    .dataframe thead th {\n",
       "        text-align: right;\n",
       "    }\n",
       "</style>\n",
       "<table border=\"1\" class=\"dataframe\">\n",
       "  <thead>\n",
       "    <tr style=\"text-align: right;\">\n",
       "      <th></th>\n",
       "      <th>Id</th>\n",
       "      <th>Name</th>\n",
       "      <th>Value</th>\n",
       "      <th>FaultId</th>\n",
       "    </tr>\n",
       "  </thead>\n",
       "  <tbody>\n",
       "    <tr>\n",
       "      <th>0</th>\n",
       "      <td>1</td>\n",
       "      <td>IgnStatus</td>\n",
       "      <td>False</td>\n",
       "      <td>1</td>\n",
       "    </tr>\n",
       "    <tr>\n",
       "      <th>1</th>\n",
       "      <td>2</td>\n",
       "      <td>EngineOilPressure</td>\n",
       "      <td>0</td>\n",
       "      <td>1</td>\n",
       "    </tr>\n",
       "    <tr>\n",
       "      <th>2</th>\n",
       "      <td>3</td>\n",
       "      <td>EngineOilTemperature</td>\n",
       "      <td>96.74375</td>\n",
       "      <td>1</td>\n",
       "    </tr>\n",
       "    <tr>\n",
       "      <th>3</th>\n",
       "      <td>4</td>\n",
       "      <td>TurboBoostPressure</td>\n",
       "      <td>0</td>\n",
       "      <td>1</td>\n",
       "    </tr>\n",
       "    <tr>\n",
       "      <th>4</th>\n",
       "      <td>5</td>\n",
       "      <td>EngineLoad</td>\n",
       "      <td>11</td>\n",
       "      <td>1</td>\n",
       "    </tr>\n",
       "  </tbody>\n",
       "</table>\n",
       "</div>"
      ],
      "text/plain": [
       "   Id                  Name     Value  FaultId\n",
       "0   1             IgnStatus     False        1\n",
       "1   2     EngineOilPressure         0        1\n",
       "2   3  EngineOilTemperature  96.74375        1\n",
       "3   4    TurboBoostPressure         0        1\n",
       "4   5            EngineLoad        11        1"
      ]
     },
     "metadata": {},
     "output_type": "display_data"
    }
   ],
   "source": [
    "faults_raw = pd.read_csv(\"../data/J1939Faults.csv\")\n",
    "diagnostics_raw = pd.read_csv(\"../data/vehiclediagnosticonboarddata.csv\")\n",
    "display(faults_raw.head())\n",
    "display(diagnostics_raw.head())"
   ]
  },
  {
   "cell_type": "code",
   "execution_count": 3,
   "metadata": {},
   "outputs": [
    {
     "name": "stdout",
     "output_type": "stream",
     "text": [
      "\n",
      "\n",
      "--------FAULTS_RAW COLUMNS--------\n"
     ]
    },
    {
     "data": {
      "text/plain": [
       "Index(['RecordID', 'ESS_Id', 'EventTimeStamp', 'eventDescription',\n",
       "       'ecuSoftwareVersion', 'ecuSerialNumber', 'ecuModel', 'ecuMake', 'spn',\n",
       "       'fmi', 'active', 'activeTransitionCount', 'EquipmentID', 'Latitude',\n",
       "       'Longitude'],\n",
       "      dtype='object')"
      ]
     },
     "metadata": {},
     "output_type": "display_data"
    },
    {
     "name": "stdout",
     "output_type": "stream",
     "text": [
      "\n",
      "\n",
      "--------SHAPE OF FAULTS--------\n"
     ]
    },
    {
     "data": {
      "text/plain": [
       "(1187335, 15)"
      ]
     },
     "metadata": {},
     "output_type": "display_data"
    },
    {
     "name": "stdout",
     "output_type": "stream",
     "text": [
      "\n",
      "\n",
      "--------NaNs--------\n"
     ]
    },
    {
     "data": {
      "text/plain": [
       "RecordID                      0\n",
       "ESS_Id                        0\n",
       "EventTimeStamp                0\n",
       "eventDescription          60845\n",
       "ecuSoftwareVersion       296050\n",
       "ecuSerialNumber          343017\n",
       "ecuModel                  64758\n",
       "ecuMake                   64758\n",
       "spn                           0\n",
       "fmi                           0\n",
       "active                        0\n",
       "activeTransitionCount         0\n",
       "EquipmentID                   0\n",
       "Latitude                      0\n",
       "Longitude                     0\n",
       "dtype: int64"
      ]
     },
     "metadata": {},
     "output_type": "display_data"
    }
   ],
   "source": [
    "# prepare faults\n",
    "faults_drop_cols = [\"actionDescription\", \"ecuSource\", \"faultValue\", \"MCTNumber\", \"LocationTimeStamp\"]\n",
    "faults = faults_raw.drop(columns=faults_drop_cols)\n",
    "print(\"\\n\\n--------FAULTS_RAW COLUMNS--------\")\n",
    "display(faults.columns)\n",
    "print(\"\\n\\n--------SHAPE OF FAULTS--------\")\n",
    "display(faults.shape)\n",
    "print(\"\\n\\n--------NaNs--------\")\n",
    "display(faults.isna().sum())"
   ]
  },
  {
   "cell_type": "code",
   "execution_count": 4,
   "metadata": {},
   "outputs": [
    {
     "name": "stdout",
     "output_type": "stream",
     "text": [
      "--------NaNs--------\n",
      "Id         0\n",
      "Name       0\n",
      "Value      0\n",
      "FaultId    0\n",
      "dtype: int64\n",
      "\n",
      "len(Id): 12821626 \n",
      "N unique_Id: 12821626\n",
      "\n",
      "--------RECORD ID vs FAULT ID--------\n",
      "n_unique FaultID: 1187335 \n",
      "n_unique RecordID: 1187335\n",
      "\n",
      "\n",
      "--------JOINED--------\n"
     ]
    },
    {
     "data": {
      "application/vnd.microsoft.datawrangler.viewer.v0+json": {
       "columns": [
        {
         "name": "index",
         "rawType": "int64",
         "type": "integer"
        },
        {
         "name": "RecordID",
         "rawType": "int64",
         "type": "integer"
        },
        {
         "name": "ESS_Id",
         "rawType": "int64",
         "type": "integer"
        },
        {
         "name": "EventTimeStamp",
         "rawType": "object",
         "type": "string"
        },
        {
         "name": "eventDescription",
         "rawType": "object",
         "type": "string"
        },
        {
         "name": "ecuSoftwareVersion",
         "rawType": "object",
         "type": "string"
        },
        {
         "name": "ecuSerialNumber",
         "rawType": "object",
         "type": "string"
        },
        {
         "name": "ecuModel",
         "rawType": "object",
         "type": "string"
        },
        {
         "name": "ecuMake",
         "rawType": "object",
         "type": "string"
        },
        {
         "name": "spn",
         "rawType": "int64",
         "type": "integer"
        },
        {
         "name": "fmi",
         "rawType": "int64",
         "type": "integer"
        },
        {
         "name": "active",
         "rawType": "bool",
         "type": "boolean"
        },
        {
         "name": "activeTransitionCount",
         "rawType": "int64",
         "type": "integer"
        },
        {
         "name": "EquipmentID",
         "rawType": "object",
         "type": "string"
        },
        {
         "name": "Latitude",
         "rawType": "float64",
         "type": "float"
        },
        {
         "name": "Longitude",
         "rawType": "float64",
         "type": "float"
        },
        {
         "name": "Id",
         "rawType": "int64",
         "type": "integer"
        },
        {
         "name": "Name",
         "rawType": "object",
         "type": "string"
        },
        {
         "name": "Value",
         "rawType": "object",
         "type": "string"
        },
        {
         "name": "FaultId",
         "rawType": "int64",
         "type": "integer"
        }
       ],
       "conversionMethod": "pd.DataFrame",
       "ref": "02d0f348-8979-4d90-9162-f25ebb0a3ee2",
       "rows": [
        [
         "0",
         "1",
         "990349",
         "2015-02-21 10:47:13.000",
         "Low (Severity Low) Engine Coolant Level",
         "unknown",
         "unknown",
         "unknown",
         "unknown",
         "111",
         "17",
         "True",
         "2",
         "1439",
         "38.857638",
         "-84.626851",
         "1",
         "IgnStatus",
         "False",
         "1"
        ],
        [
         "1",
         "1",
         "990349",
         "2015-02-21 10:47:13.000",
         "Low (Severity Low) Engine Coolant Level",
         "unknown",
         "unknown",
         "unknown",
         "unknown",
         "111",
         "17",
         "True",
         "2",
         "1439",
         "38.857638",
         "-84.626851",
         "2",
         "EngineOilPressure",
         "0",
         "1"
        ],
        [
         "2",
         "1",
         "990349",
         "2015-02-21 10:47:13.000",
         "Low (Severity Low) Engine Coolant Level",
         "unknown",
         "unknown",
         "unknown",
         "unknown",
         "111",
         "17",
         "True",
         "2",
         "1439",
         "38.857638",
         "-84.626851",
         "3",
         "EngineOilTemperature",
         "96.74375",
         "1"
        ],
        [
         "3",
         "1",
         "990349",
         "2015-02-21 10:47:13.000",
         "Low (Severity Low) Engine Coolant Level",
         "unknown",
         "unknown",
         "unknown",
         "unknown",
         "111",
         "17",
         "True",
         "2",
         "1439",
         "38.857638",
         "-84.626851",
         "4",
         "TurboBoostPressure",
         "0",
         "1"
        ],
        [
         "4",
         "1",
         "990349",
         "2015-02-21 10:47:13.000",
         "Low (Severity Low) Engine Coolant Level",
         "unknown",
         "unknown",
         "unknown",
         "unknown",
         "111",
         "17",
         "True",
         "2",
         "1439",
         "38.857638",
         "-84.626851",
         "5",
         "EngineLoad",
         "11",
         "1"
        ]
       ],
       "shape": {
        "columns": 19,
        "rows": 5
       }
      },
      "text/html": [
       "<div>\n",
       "<style scoped>\n",
       "    .dataframe tbody tr th:only-of-type {\n",
       "        vertical-align: middle;\n",
       "    }\n",
       "\n",
       "    .dataframe tbody tr th {\n",
       "        vertical-align: top;\n",
       "    }\n",
       "\n",
       "    .dataframe thead th {\n",
       "        text-align: right;\n",
       "    }\n",
       "</style>\n",
       "<table border=\"1\" class=\"dataframe\">\n",
       "  <thead>\n",
       "    <tr style=\"text-align: right;\">\n",
       "      <th></th>\n",
       "      <th>RecordID</th>\n",
       "      <th>ESS_Id</th>\n",
       "      <th>EventTimeStamp</th>\n",
       "      <th>eventDescription</th>\n",
       "      <th>ecuSoftwareVersion</th>\n",
       "      <th>ecuSerialNumber</th>\n",
       "      <th>ecuModel</th>\n",
       "      <th>ecuMake</th>\n",
       "      <th>spn</th>\n",
       "      <th>fmi</th>\n",
       "      <th>active</th>\n",
       "      <th>activeTransitionCount</th>\n",
       "      <th>EquipmentID</th>\n",
       "      <th>Latitude</th>\n",
       "      <th>Longitude</th>\n",
       "      <th>Id</th>\n",
       "      <th>Name</th>\n",
       "      <th>Value</th>\n",
       "      <th>FaultId</th>\n",
       "    </tr>\n",
       "  </thead>\n",
       "  <tbody>\n",
       "    <tr>\n",
       "      <th>0</th>\n",
       "      <td>1</td>\n",
       "      <td>990349</td>\n",
       "      <td>2015-02-21 10:47:13.000</td>\n",
       "      <td>Low (Severity Low) Engine Coolant Level</td>\n",
       "      <td>unknown</td>\n",
       "      <td>unknown</td>\n",
       "      <td>unknown</td>\n",
       "      <td>unknown</td>\n",
       "      <td>111</td>\n",
       "      <td>17</td>\n",
       "      <td>True</td>\n",
       "      <td>2</td>\n",
       "      <td>1439</td>\n",
       "      <td>38.857638</td>\n",
       "      <td>-84.626851</td>\n",
       "      <td>1</td>\n",
       "      <td>IgnStatus</td>\n",
       "      <td>False</td>\n",
       "      <td>1</td>\n",
       "    </tr>\n",
       "    <tr>\n",
       "      <th>1</th>\n",
       "      <td>1</td>\n",
       "      <td>990349</td>\n",
       "      <td>2015-02-21 10:47:13.000</td>\n",
       "      <td>Low (Severity Low) Engine Coolant Level</td>\n",
       "      <td>unknown</td>\n",
       "      <td>unknown</td>\n",
       "      <td>unknown</td>\n",
       "      <td>unknown</td>\n",
       "      <td>111</td>\n",
       "      <td>17</td>\n",
       "      <td>True</td>\n",
       "      <td>2</td>\n",
       "      <td>1439</td>\n",
       "      <td>38.857638</td>\n",
       "      <td>-84.626851</td>\n",
       "      <td>2</td>\n",
       "      <td>EngineOilPressure</td>\n",
       "      <td>0</td>\n",
       "      <td>1</td>\n",
       "    </tr>\n",
       "    <tr>\n",
       "      <th>2</th>\n",
       "      <td>1</td>\n",
       "      <td>990349</td>\n",
       "      <td>2015-02-21 10:47:13.000</td>\n",
       "      <td>Low (Severity Low) Engine Coolant Level</td>\n",
       "      <td>unknown</td>\n",
       "      <td>unknown</td>\n",
       "      <td>unknown</td>\n",
       "      <td>unknown</td>\n",
       "      <td>111</td>\n",
       "      <td>17</td>\n",
       "      <td>True</td>\n",
       "      <td>2</td>\n",
       "      <td>1439</td>\n",
       "      <td>38.857638</td>\n",
       "      <td>-84.626851</td>\n",
       "      <td>3</td>\n",
       "      <td>EngineOilTemperature</td>\n",
       "      <td>96.74375</td>\n",
       "      <td>1</td>\n",
       "    </tr>\n",
       "    <tr>\n",
       "      <th>3</th>\n",
       "      <td>1</td>\n",
       "      <td>990349</td>\n",
       "      <td>2015-02-21 10:47:13.000</td>\n",
       "      <td>Low (Severity Low) Engine Coolant Level</td>\n",
       "      <td>unknown</td>\n",
       "      <td>unknown</td>\n",
       "      <td>unknown</td>\n",
       "      <td>unknown</td>\n",
       "      <td>111</td>\n",
       "      <td>17</td>\n",
       "      <td>True</td>\n",
       "      <td>2</td>\n",
       "      <td>1439</td>\n",
       "      <td>38.857638</td>\n",
       "      <td>-84.626851</td>\n",
       "      <td>4</td>\n",
       "      <td>TurboBoostPressure</td>\n",
       "      <td>0</td>\n",
       "      <td>1</td>\n",
       "    </tr>\n",
       "    <tr>\n",
       "      <th>4</th>\n",
       "      <td>1</td>\n",
       "      <td>990349</td>\n",
       "      <td>2015-02-21 10:47:13.000</td>\n",
       "      <td>Low (Severity Low) Engine Coolant Level</td>\n",
       "      <td>unknown</td>\n",
       "      <td>unknown</td>\n",
       "      <td>unknown</td>\n",
       "      <td>unknown</td>\n",
       "      <td>111</td>\n",
       "      <td>17</td>\n",
       "      <td>True</td>\n",
       "      <td>2</td>\n",
       "      <td>1439</td>\n",
       "      <td>38.857638</td>\n",
       "      <td>-84.626851</td>\n",
       "      <td>5</td>\n",
       "      <td>EngineLoad</td>\n",
       "      <td>11</td>\n",
       "      <td>1</td>\n",
       "    </tr>\n",
       "  </tbody>\n",
       "</table>\n",
       "</div>"
      ],
      "text/plain": [
       "   RecordID  ESS_Id           EventTimeStamp  \\\n",
       "0         1  990349  2015-02-21 10:47:13.000   \n",
       "1         1  990349  2015-02-21 10:47:13.000   \n",
       "2         1  990349  2015-02-21 10:47:13.000   \n",
       "3         1  990349  2015-02-21 10:47:13.000   \n",
       "4         1  990349  2015-02-21 10:47:13.000   \n",
       "\n",
       "                          eventDescription ecuSoftwareVersion ecuSerialNumber  \\\n",
       "0  Low (Severity Low) Engine Coolant Level            unknown         unknown   \n",
       "1  Low (Severity Low) Engine Coolant Level            unknown         unknown   \n",
       "2  Low (Severity Low) Engine Coolant Level            unknown         unknown   \n",
       "3  Low (Severity Low) Engine Coolant Level            unknown         unknown   \n",
       "4  Low (Severity Low) Engine Coolant Level            unknown         unknown   \n",
       "\n",
       "  ecuModel  ecuMake  spn  fmi  active  activeTransitionCount EquipmentID  \\\n",
       "0  unknown  unknown  111   17    True                      2        1439   \n",
       "1  unknown  unknown  111   17    True                      2        1439   \n",
       "2  unknown  unknown  111   17    True                      2        1439   \n",
       "3  unknown  unknown  111   17    True                      2        1439   \n",
       "4  unknown  unknown  111   17    True                      2        1439   \n",
       "\n",
       "    Latitude  Longitude  Id                  Name     Value  FaultId  \n",
       "0  38.857638 -84.626851   1             IgnStatus     False        1  \n",
       "1  38.857638 -84.626851   2     EngineOilPressure         0        1  \n",
       "2  38.857638 -84.626851   3  EngineOilTemperature  96.74375        1  \n",
       "3  38.857638 -84.626851   4    TurboBoostPressure         0        1  \n",
       "4  38.857638 -84.626851   5            EngineLoad        11        1  "
      ]
     },
     "metadata": {},
     "output_type": "display_data"
    },
    {
     "name": "stdout",
     "output_type": "stream",
     "text": [
      "\n",
      "\n",
      "--------JOINED COLUMNS---------\n",
      "Index(['RecordID', 'ESS_Id', 'EventTimeStamp', 'eventDescription',\n",
      "       'ecuSoftwareVersion', 'ecuSerialNumber', 'ecuModel', 'ecuMake', 'spn',\n",
      "       'fmi', 'active', 'activeTransitionCount', 'EquipmentID', 'Latitude',\n",
      "       'Longitude', 'Id', 'Name', 'Value', 'FaultId'],\n",
      "      dtype='object')\n"
     ]
    }
   ],
   "source": [
    "# join diagnostics\n",
    "print(\"--------NaNs--------\")\n",
    "print(diagnostics_raw.isna().sum())\n",
    "n_ids = len(diagnostics_raw['Id'])\n",
    "n_unique_id = diagnostics_raw['Id'].nunique()\n",
    "n_un_faults = diagnostics_raw['FaultId'].nunique()\n",
    "print(f\"\\nlen(Id): {n_ids}\", f\"\\nN unique_Id: {n_unique_id}\")\n",
    "print(\"\\n--------RECORD ID vs FAULT ID--------\")\n",
    "print(f\"n_unique FaultID: {n_un_faults}\", f\"\\nn_unique RecordID: {faults['RecordID'].nunique()}\")\n",
    "joined = faults.merge(diagnostics_raw, how = \"inner\", left_on='RecordID', right_on='FaultId')\n",
    "print(\"\\n\\n--------JOINED--------\")\n",
    "display(joined.head())\n",
    "print(\"\\n\\n--------JOINED COLUMNS---------\")\n",
    "print(joined.columns)\n"
   ]
  },
  {
   "cell_type": "markdown",
   "metadata": {},
   "source": [
    "filter out faults near service stations"
   ]
  },
  {
   "cell_type": "code",
   "execution_count": null,
   "metadata": {},
   "outputs": [
    {
     "name": "stdout",
     "output_type": "stream",
     "text": [
      "Filtering out faults near service stations...\n",
      "\n",
      "Done! \n",
      "Faults within 1km of service station removed from joined.\n",
      "\n"
     ]
    },
    {
     "data": {
      "text/plain": [
       "'\\n'"
      ]
     },
     "metadata": {},
     "output_type": "display_data"
    },
    {
     "data": {
      "application/vnd.microsoft.datawrangler.viewer.v0+json": {
       "columns": [
        {
         "name": "index",
         "rawType": "int64",
         "type": "integer"
        },
        {
         "name": "RecordID",
         "rawType": "int64",
         "type": "integer"
        },
        {
         "name": "ESS_Id",
         "rawType": "int64",
         "type": "integer"
        },
        {
         "name": "EventTimeStamp",
         "rawType": "object",
         "type": "string"
        },
        {
         "name": "eventDescription",
         "rawType": "object",
         "type": "string"
        },
        {
         "name": "ecuSoftwareVersion",
         "rawType": "object",
         "type": "string"
        },
        {
         "name": "ecuSerialNumber",
         "rawType": "object",
         "type": "string"
        },
        {
         "name": "ecuModel",
         "rawType": "object",
         "type": "string"
        },
        {
         "name": "ecuMake",
         "rawType": "object",
         "type": "string"
        },
        {
         "name": "spn",
         "rawType": "int64",
         "type": "integer"
        },
        {
         "name": "fmi",
         "rawType": "int64",
         "type": "integer"
        },
        {
         "name": "active",
         "rawType": "bool",
         "type": "boolean"
        },
        {
         "name": "activeTransitionCount",
         "rawType": "int64",
         "type": "integer"
        },
        {
         "name": "EquipmentID",
         "rawType": "object",
         "type": "string"
        },
        {
         "name": "Latitude",
         "rawType": "float64",
         "type": "float"
        },
        {
         "name": "Longitude",
         "rawType": "float64",
         "type": "float"
        },
        {
         "name": "Id",
         "rawType": "int64",
         "type": "integer"
        },
        {
         "name": "Name",
         "rawType": "object",
         "type": "string"
        },
        {
         "name": "Value",
         "rawType": "object",
         "type": "string"
        },
        {
         "name": "FaultId",
         "rawType": "int64",
         "type": "integer"
        },
        {
         "name": "nearStation",
         "rawType": "bool",
         "type": "boolean"
        }
       ],
       "conversionMethod": "pd.DataFrame",
       "ref": "f323facc-284b-4e1b-9096-33377ecf62f7",
       "rows": [
        [
         "0",
         "1",
         "990349",
         "2015-02-21 10:47:13.000",
         "Low (Severity Low) Engine Coolant Level",
         "unknown",
         "unknown",
         "unknown",
         "unknown",
         "111",
         "17",
         "True",
         "2",
         "1439",
         "38.857638",
         "-84.626851",
         "1",
         "IgnStatus",
         "False",
         "1",
         "False"
        ],
        [
         "1",
         "1",
         "990349",
         "2015-02-21 10:47:13.000",
         "Low (Severity Low) Engine Coolant Level",
         "unknown",
         "unknown",
         "unknown",
         "unknown",
         "111",
         "17",
         "True",
         "2",
         "1439",
         "38.857638",
         "-84.626851",
         "2",
         "EngineOilPressure",
         "0",
         "1",
         "False"
        ],
        [
         "2",
         "1",
         "990349",
         "2015-02-21 10:47:13.000",
         "Low (Severity Low) Engine Coolant Level",
         "unknown",
         "unknown",
         "unknown",
         "unknown",
         "111",
         "17",
         "True",
         "2",
         "1439",
         "38.857638",
         "-84.626851",
         "3",
         "EngineOilTemperature",
         "96.74375",
         "1",
         "False"
        ]
       ],
       "shape": {
        "columns": 20,
        "rows": 3
       }
      },
      "text/html": [
       "<div>\n",
       "<style scoped>\n",
       "    .dataframe tbody tr th:only-of-type {\n",
       "        vertical-align: middle;\n",
       "    }\n",
       "\n",
       "    .dataframe tbody tr th {\n",
       "        vertical-align: top;\n",
       "    }\n",
       "\n",
       "    .dataframe thead th {\n",
       "        text-align: right;\n",
       "    }\n",
       "</style>\n",
       "<table border=\"1\" class=\"dataframe\">\n",
       "  <thead>\n",
       "    <tr style=\"text-align: right;\">\n",
       "      <th></th>\n",
       "      <th>RecordID</th>\n",
       "      <th>ESS_Id</th>\n",
       "      <th>EventTimeStamp</th>\n",
       "      <th>eventDescription</th>\n",
       "      <th>ecuSoftwareVersion</th>\n",
       "      <th>ecuSerialNumber</th>\n",
       "      <th>ecuModel</th>\n",
       "      <th>ecuMake</th>\n",
       "      <th>spn</th>\n",
       "      <th>fmi</th>\n",
       "      <th>active</th>\n",
       "      <th>activeTransitionCount</th>\n",
       "      <th>EquipmentID</th>\n",
       "      <th>Latitude</th>\n",
       "      <th>Longitude</th>\n",
       "      <th>Id</th>\n",
       "      <th>Name</th>\n",
       "      <th>Value</th>\n",
       "      <th>FaultId</th>\n",
       "      <th>nearStation</th>\n",
       "    </tr>\n",
       "  </thead>\n",
       "  <tbody>\n",
       "    <tr>\n",
       "      <th>0</th>\n",
       "      <td>1</td>\n",
       "      <td>990349</td>\n",
       "      <td>2015-02-21 10:47:13.000</td>\n",
       "      <td>Low (Severity Low) Engine Coolant Level</td>\n",
       "      <td>unknown</td>\n",
       "      <td>unknown</td>\n",
       "      <td>unknown</td>\n",
       "      <td>unknown</td>\n",
       "      <td>111</td>\n",
       "      <td>17</td>\n",
       "      <td>True</td>\n",
       "      <td>2</td>\n",
       "      <td>1439</td>\n",
       "      <td>38.857638</td>\n",
       "      <td>-84.626851</td>\n",
       "      <td>1</td>\n",
       "      <td>IgnStatus</td>\n",
       "      <td>False</td>\n",
       "      <td>1</td>\n",
       "      <td>False</td>\n",
       "    </tr>\n",
       "    <tr>\n",
       "      <th>1</th>\n",
       "      <td>1</td>\n",
       "      <td>990349</td>\n",
       "      <td>2015-02-21 10:47:13.000</td>\n",
       "      <td>Low (Severity Low) Engine Coolant Level</td>\n",
       "      <td>unknown</td>\n",
       "      <td>unknown</td>\n",
       "      <td>unknown</td>\n",
       "      <td>unknown</td>\n",
       "      <td>111</td>\n",
       "      <td>17</td>\n",
       "      <td>True</td>\n",
       "      <td>2</td>\n",
       "      <td>1439</td>\n",
       "      <td>38.857638</td>\n",
       "      <td>-84.626851</td>\n",
       "      <td>2</td>\n",
       "      <td>EngineOilPressure</td>\n",
       "      <td>0</td>\n",
       "      <td>1</td>\n",
       "      <td>False</td>\n",
       "    </tr>\n",
       "    <tr>\n",
       "      <th>2</th>\n",
       "      <td>1</td>\n",
       "      <td>990349</td>\n",
       "      <td>2015-02-21 10:47:13.000</td>\n",
       "      <td>Low (Severity Low) Engine Coolant Level</td>\n",
       "      <td>unknown</td>\n",
       "      <td>unknown</td>\n",
       "      <td>unknown</td>\n",
       "      <td>unknown</td>\n",
       "      <td>111</td>\n",
       "      <td>17</td>\n",
       "      <td>True</td>\n",
       "      <td>2</td>\n",
       "      <td>1439</td>\n",
       "      <td>38.857638</td>\n",
       "      <td>-84.626851</td>\n",
       "      <td>3</td>\n",
       "      <td>EngineOilTemperature</td>\n",
       "      <td>96.74375</td>\n",
       "      <td>1</td>\n",
       "      <td>False</td>\n",
       "    </tr>\n",
       "  </tbody>\n",
       "</table>\n",
       "</div>"
      ],
      "text/plain": [
       "   RecordID  ESS_Id           EventTimeStamp  \\\n",
       "0         1  990349  2015-02-21 10:47:13.000   \n",
       "1         1  990349  2015-02-21 10:47:13.000   \n",
       "2         1  990349  2015-02-21 10:47:13.000   \n",
       "\n",
       "                          eventDescription ecuSoftwareVersion ecuSerialNumber  \\\n",
       "0  Low (Severity Low) Engine Coolant Level            unknown         unknown   \n",
       "1  Low (Severity Low) Engine Coolant Level            unknown         unknown   \n",
       "2  Low (Severity Low) Engine Coolant Level            unknown         unknown   \n",
       "\n",
       "  ecuModel  ecuMake  spn  fmi  active  activeTransitionCount EquipmentID  \\\n",
       "0  unknown  unknown  111   17    True                      2        1439   \n",
       "1  unknown  unknown  111   17    True                      2        1439   \n",
       "2  unknown  unknown  111   17    True                      2        1439   \n",
       "\n",
       "    Latitude  Longitude  Id                  Name     Value  FaultId  \\\n",
       "0  38.857638 -84.626851   1             IgnStatus     False        1   \n",
       "1  38.857638 -84.626851   2     EngineOilPressure         0        1   \n",
       "2  38.857638 -84.626851   3  EngineOilTemperature  96.74375        1   \n",
       "\n",
       "   nearStation  \n",
       "0        False  \n",
       "1        False  \n",
       "2        False  "
      ]
     },
     "metadata": {},
     "output_type": "display_data"
    }
   ],
   "source": [
    "# filter out near service stations\n",
    "print(\"Filtering out faults near service stations...\")\n",
    "stations = pd.DataFrame(\n",
    "    {\n",
    "        \"lat\": [36.0666667, 35.5883333, 36.1950],\n",
    "        \"lon\": [-86.4347222, -86.4438888, -83.174722],\n",
    "    }\n",
    ")\n",
    "threshold_miles = 1\n",
    "threshold_meters = threshold_miles * 1609.34\n",
    "# create geodataframes with geopandas\n",
    "gdf_joined = gpd.GeoDataFrame(\n",
    "    joined,\n",
    "    geometry=gpd.points_from_xy(joined.Latitude, joined.Longitude),\n",
    "    crs=\"EPSG:4326\",  # WGS84 coord ref sys (lat/lon)\n",
    ")\n",
    "gdf_stations = gpd.GeoDataFrame(\n",
    "    stations,\n",
    "    geometry=gpd.points_from_xy(stations.lat, stations.lon),\n",
    "    crs=\"EPSG:4326\",\n",
    ")\n",
    "target_crs = \"EPSG:9311\"\n",
    "# reproject onto new crs for better distance measurement\n",
    "gdf_joined_proj = gdf_joined.to_crs(target_crs)\n",
    "gdf_stations_proj = gdf_stations.to_crs(target_crs)\n",
    "# create buffers around stations\n",
    "station_buf = gdf_stations_proj.geometry.buffer(threshold_meters)\n",
    "combined_buffer = (\n",
    "    station_buf.union_all()\n",
    ")  # turns into single geometry which helps with efficiency\n",
    "is_within = gdf_joined_proj.geometry.within(combined_buffer)\n",
    "joined[\"nearStation\"] = is_within.values\n",
    "joined = joined[joined[\"nearStation\"] == False]\n",
    "print(\"\\nDone! \\nFaults within 1km of service station removed from joined.\\n\")\n",
    "display(joined.head(3))\n"
   ]
  },
  {
   "cell_type": "code",
   "execution_count": 12,
   "metadata": {},
   "outputs": [
    {
     "name": "stdout",
     "output_type": "stream",
     "text": [
      "spn\n",
      "111      3578884\n",
      "929      2584501\n",
      "96        999167\n",
      "829       971592\n",
      "639       356027\n",
      "          ...   \n",
      "32000         14\n",
      "76339         10\n",
      "811            3\n",
      "908            1\n",
      "1073           1\n",
      "Name: count, Length: 422, dtype: int64 Index(['RecordID', 'ESS_Id', 'EventTimeStamp', 'eventDescription',\n",
      "       'ecuSoftwareVersion', 'ecuSerialNumber', 'ecuModel', 'ecuMake', 'spn',\n",
      "       'fmi', 'active', 'activeTransitionCount', 'EquipmentID', 'Latitude',\n",
      "       'Longitude', 'Id', 'Name', 'Value', 'FaultId', 'nearStation'],\n",
      "      dtype='object')\n"
     ]
    }
   ],
   "source": [
    "print(joined['spn'].value_counts(), joined.columns)"
   ]
  },
  {
   "cell_type": "code",
   "execution_count": 13,
   "metadata": {},
   "outputs": [],
   "source": [
    "full_derates_raw = joined[joined['spn'] == 5246]\n",
    "partial_derates_raw = joined[(joined['spn'] == 1569) & (joined['fmi'] == 31)]\n",
    "# print(\"--------FULL DERATES---------\")\n",
    "# display(f\"derate shape: {full_derates_raw.shape}\", full_derates_raw.head(3))\n",
    "#print(\"\\n--------PARTIAL DERATES---------\")\n",
    "#display(f\"partial derate shape: {partial_derates_raw.shape}\", partial_derates_raw.head(3))"
   ]
  },
  {
   "cell_type": "code",
   "execution_count": null,
   "metadata": {},
   "outputs": [],
   "source": []
  }
 ],
 "metadata": {
  "kernelspec": {
   "display_name": ".venv",
   "language": "python",
   "name": "python3"
  },
  "language_info": {
   "codemirror_mode": {
    "name": "ipython",
    "version": 3
   },
   "file_extension": ".py",
   "mimetype": "text/x-python",
   "name": "python",
   "nbconvert_exporter": "python",
   "pygments_lexer": "ipython3",
   "version": "3.11.11"
  }
 },
 "nbformat": 4,
 "nbformat_minor": 2
}
